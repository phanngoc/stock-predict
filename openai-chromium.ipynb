{
 "cells": [
  {
   "cell_type": "code",
   "execution_count": 1,
   "metadata": {},
   "outputs": [
    {
     "name": "stdout",
     "output_type": "stream",
     "text": [
      "lequidon.1993@gmail.com qwa@12345\n"
     ]
    }
   ],
   "source": [
    "from dotenv import load_dotenv\n",
    "import os\n",
    "\n",
    "load_dotenv()\n",
    "\n",
    "username = os.getenv('USERNAME')\n",
    "password = os.getenv('PASSWORD')\n",
    "print(username, password)"
   ]
  },
  {
   "cell_type": "code",
   "execution_count": 2,
   "metadata": {},
   "outputs": [
    {
     "name": "stderr",
     "output_type": "stream",
     "text": [
      "/var/folders/g6/37kt02914kx36yzcbbqfyck00000gn/T/ipykernel_36471/3519072514.py:5: DeprecationWarning: headless property is deprecated, instead use add_argument('--headless') or add_argument('--headless=new')\n",
      "  options.headless = False\n"
     ]
    }
   ],
   "source": [
    "from selenium import webdriver\n",
    "from selenium.webdriver.chrome.options import Options\n",
    "\n",
    "options = Options()\n",
    "options.headless = False\n",
    "options.add_argument(\"--window-size=1920,1200\")\n",
    "\n",
    "DRIVER_PATH = '/Users/ngocp/.pyenv/versions/3.10.3/lib/python3.10/site-packages/selenium/webdriver'\n",
    "driver = webdriver.Chrome(options=options)"
   ]
  },
  {
   "cell_type": "code",
   "execution_count": 3,
   "metadata": {},
   "outputs": [
    {
     "name": "stdout",
     "output_type": "stream",
     "text": [
      "buttons [<selenium.webdriver.remote.webelement.WebElement (session=\"10cadcdb74bde8435cdff6e09d0db4d1\", element=\"C49FB1CCD296C1C8C47029F8B937B9EE_element_8\")>, <selenium.webdriver.remote.webelement.WebElement (session=\"10cadcdb74bde8435cdff6e09d0db4d1\", element=\"C49FB1CCD296C1C8C47029F8B937B9EE_element_9\")>]\n"
     ]
    }
   ],
   "source": [
    "from selenium.webdriver.common.by import By\n",
    "import time\n",
    "\n",
    "# Open the OpenAI website\n",
    "driver.get(\"https://chat.openai.com/auth/login?next=%2F%3Fmodel%3Dtext-davinci-002-render-sha\")\n",
    "time.sleep(2)\n",
    "\n",
    "buttons = driver.find_elements(By.XPATH, '//button')\n",
    "buttons[0].click()\n",
    "print('buttons', buttons)\n",
    "\n",
    "time.sleep(3)\n",
    "\n",
    "# Find the login form and enter your OpenAI API key\n",
    "usernameElem = driver.find_element(By.ID, \"username\")\n",
    "usernameElem.send_keys(username)\n",
    "\n",
    "# Find the button by XPath\n",
    "submit_button = driver.find_element(By.CSS_SELECTOR, \"button[type='submit']\")\n",
    "\n",
    "# Click the button\n",
    "submit_button.click()\n"
   ]
  },
  {
   "cell_type": "code",
   "execution_count": 4,
   "metadata": {},
   "outputs": [],
   "source": [
    "\n",
    "time.sleep(2)\n",
    "\n",
    "passwordElem = driver.find_element(By.CSS_SELECTOR, \"#password\")\n",
    "passwordElem.send_keys(password)\n",
    "\n",
    "# Find the button by XPath\n",
    "submit_button = driver.find_element(By.CSS_SELECTOR, \"button._button-login-password\")\n",
    "\n",
    "# Click the button\n",
    "submit_button.click()"
   ]
  },
  {
   "cell_type": "code",
   "execution_count": 5,
   "metadata": {},
   "outputs": [
    {
     "ename": "NoSuchElementException",
     "evalue": "Message: no such element: Unable to locate element: {\"method\":\"css selector\",\"selector\":\"button.btn-neutral.ml-auto\"}\n  (Session info: chrome=115.0.5790.170); For documentation on this error, please visit: https://www.selenium.dev/documentation/webdriver/troubleshooting/errors#no-such-element-exception\nStacktrace:\n0   chromedriver                        0x0000000105203f48 chromedriver + 4226888\n1   chromedriver                        0x00000001051fc4f4 chromedriver + 4195572\n2   chromedriver                        0x0000000104e40d68 chromedriver + 281960\n3   chromedriver                        0x0000000104e7bfc8 chromedriver + 524232\n4   chromedriver                        0x0000000104eb2c58 chromedriver + 748632\n5   chromedriver                        0x0000000104e6ff1c chromedriver + 474908\n6   chromedriver                        0x0000000104e70ef4 chromedriver + 478964\n7   chromedriver                        0x00000001051c559c chromedriver + 3970460\n8   chromedriver                        0x00000001051c96f0 chromedriver + 3987184\n9   chromedriver                        0x00000001051cf5b4 chromedriver + 4011444\n10  chromedriver                        0x00000001051ca2fc chromedriver + 3990268\n11  chromedriver                        0x00000001051a21c0 chromedriver + 3826112\n12  chromedriver                        0x00000001051e6088 chromedriver + 4104328\n13  chromedriver                        0x00000001051e61e0 chromedriver + 4104672\n14  chromedriver                        0x00000001051f5f28 chromedriver + 4169512\n15  libsystem_pthread.dylib             0x000000018842426c _pthread_start + 148\n16  libsystem_pthread.dylib             0x000000018841f08c thread_start + 8\n",
     "output_type": "error",
     "traceback": [
      "\u001b[0;31m---------------------------------------------------------------------------\u001b[0m",
      "\u001b[0;31mNoSuchElementException\u001b[0m                    Traceback (most recent call last)",
      "Cell \u001b[0;32mIn[5], line 1\u001b[0m\n\u001b[0;32m----> 1\u001b[0m driver\u001b[39m.\u001b[39;49mfind_element(By\u001b[39m.\u001b[39;49mCSS_SELECTOR, \u001b[39m\"\u001b[39;49m\u001b[39mbutton.btn-neutral.ml-auto\u001b[39;49m\u001b[39m\"\u001b[39;49m)\u001b[39m.\u001b[39mclick()\n",
      "File \u001b[0;32m~/.pyenv/versions/3.10.3/lib/python3.10/site-packages/selenium/webdriver/remote/webdriver.py:740\u001b[0m, in \u001b[0;36mWebDriver.find_element\u001b[0;34m(self, by, value)\u001b[0m\n\u001b[1;32m    737\u001b[0m     by \u001b[39m=\u001b[39m By\u001b[39m.\u001b[39mCSS_SELECTOR\n\u001b[1;32m    738\u001b[0m     value \u001b[39m=\u001b[39m \u001b[39mf\u001b[39m\u001b[39m'\u001b[39m\u001b[39m[name=\u001b[39m\u001b[39m\"\u001b[39m\u001b[39m{\u001b[39;00mvalue\u001b[39m}\u001b[39;00m\u001b[39m\"\u001b[39m\u001b[39m]\u001b[39m\u001b[39m'\u001b[39m\n\u001b[0;32m--> 740\u001b[0m \u001b[39mreturn\u001b[39;00m \u001b[39mself\u001b[39;49m\u001b[39m.\u001b[39;49mexecute(Command\u001b[39m.\u001b[39;49mFIND_ELEMENT, {\u001b[39m\"\u001b[39;49m\u001b[39musing\u001b[39;49m\u001b[39m\"\u001b[39;49m: by, \u001b[39m\"\u001b[39;49m\u001b[39mvalue\u001b[39;49m\u001b[39m\"\u001b[39;49m: value})[\u001b[39m\"\u001b[39m\u001b[39mvalue\u001b[39m\u001b[39m\"\u001b[39m]\n",
      "File \u001b[0;32m~/.pyenv/versions/3.10.3/lib/python3.10/site-packages/selenium/webdriver/remote/webdriver.py:346\u001b[0m, in \u001b[0;36mWebDriver.execute\u001b[0;34m(self, driver_command, params)\u001b[0m\n\u001b[1;32m    344\u001b[0m response \u001b[39m=\u001b[39m \u001b[39mself\u001b[39m\u001b[39m.\u001b[39mcommand_executor\u001b[39m.\u001b[39mexecute(driver_command, params)\n\u001b[1;32m    345\u001b[0m \u001b[39mif\u001b[39;00m response:\n\u001b[0;32m--> 346\u001b[0m     \u001b[39mself\u001b[39;49m\u001b[39m.\u001b[39;49merror_handler\u001b[39m.\u001b[39;49mcheck_response(response)\n\u001b[1;32m    347\u001b[0m     response[\u001b[39m\"\u001b[39m\u001b[39mvalue\u001b[39m\u001b[39m\"\u001b[39m] \u001b[39m=\u001b[39m \u001b[39mself\u001b[39m\u001b[39m.\u001b[39m_unwrap_value(response\u001b[39m.\u001b[39mget(\u001b[39m\"\u001b[39m\u001b[39mvalue\u001b[39m\u001b[39m\"\u001b[39m, \u001b[39mNone\u001b[39;00m))\n\u001b[1;32m    348\u001b[0m     \u001b[39mreturn\u001b[39;00m response\n",
      "File \u001b[0;32m~/.pyenv/versions/3.10.3/lib/python3.10/site-packages/selenium/webdriver/remote/errorhandler.py:245\u001b[0m, in \u001b[0;36mErrorHandler.check_response\u001b[0;34m(self, response)\u001b[0m\n\u001b[1;32m    243\u001b[0m         alert_text \u001b[39m=\u001b[39m value[\u001b[39m\"\u001b[39m\u001b[39malert\u001b[39m\u001b[39m\"\u001b[39m]\u001b[39m.\u001b[39mget(\u001b[39m\"\u001b[39m\u001b[39mtext\u001b[39m\u001b[39m\"\u001b[39m)\n\u001b[1;32m    244\u001b[0m     \u001b[39mraise\u001b[39;00m exception_class(message, screen, stacktrace, alert_text)  \u001b[39m# type: ignore[call-arg]  # mypy is not smart enough here\u001b[39;00m\n\u001b[0;32m--> 245\u001b[0m \u001b[39mraise\u001b[39;00m exception_class(message, screen, stacktrace)\n",
      "\u001b[0;31mNoSuchElementException\u001b[0m: Message: no such element: Unable to locate element: {\"method\":\"css selector\",\"selector\":\"button.btn-neutral.ml-auto\"}\n  (Session info: chrome=115.0.5790.170); For documentation on this error, please visit: https://www.selenium.dev/documentation/webdriver/troubleshooting/errors#no-such-element-exception\nStacktrace:\n0   chromedriver                        0x0000000105203f48 chromedriver + 4226888\n1   chromedriver                        0x00000001051fc4f4 chromedriver + 4195572\n2   chromedriver                        0x0000000104e40d68 chromedriver + 281960\n3   chromedriver                        0x0000000104e7bfc8 chromedriver + 524232\n4   chromedriver                        0x0000000104eb2c58 chromedriver + 748632\n5   chromedriver                        0x0000000104e6ff1c chromedriver + 474908\n6   chromedriver                        0x0000000104e70ef4 chromedriver + 478964\n7   chromedriver                        0x00000001051c559c chromedriver + 3970460\n8   chromedriver                        0x00000001051c96f0 chromedriver + 3987184\n9   chromedriver                        0x00000001051cf5b4 chromedriver + 4011444\n10  chromedriver                        0x00000001051ca2fc chromedriver + 3990268\n11  chromedriver                        0x00000001051a21c0 chromedriver + 3826112\n12  chromedriver                        0x00000001051e6088 chromedriver + 4104328\n13  chromedriver                        0x00000001051e61e0 chromedriver + 4104672\n14  chromedriver                        0x00000001051f5f28 chromedriver + 4169512\n15  libsystem_pthread.dylib             0x000000018842426c _pthread_start + 148\n16  libsystem_pthread.dylib             0x000000018841f08c thread_start + 8\n"
     ]
    }
   ],
   "source": [
    "driver.find_element(By.CSS_SELECTOR, \"button.btn-neutral.ml-auto\").click()"
   ]
  },
  {
   "cell_type": "code",
   "execution_count": null,
   "metadata": {},
   "outputs": [],
   "source": [
    "time.sleep(0.5)\n",
    "driver.find_element(By.CSS_SELECTOR, \"button.ml-auto\").click()"
   ]
  },
  {
   "cell_type": "code",
   "execution_count": null,
   "metadata": {},
   "outputs": [],
   "source": [
    "textPrompt = 'Viết một bài thơ về muà hè cho học sinh cấp 2 ?'\n",
    "textAreaInput = driver.find_element(By.CSS_SELECTOR, \"textarea#prompt-textarea\")\n",
    "textAreaInput.send_keys(textPrompt)"
   ]
  },
  {
   "cell_type": "code",
   "execution_count": null,
   "metadata": {},
   "outputs": [],
   "source": [
    "sendBtn = driver.find_element(By.CSS_SELECTOR, \"form button\")\n",
    "sendBtn.click()"
   ]
  },
  {
   "cell_type": "code",
   "execution_count": null,
   "metadata": {},
   "outputs": [
    {
     "name": "stdout",
     "output_type": "stream",
     "text": [
      "<p>In Selenium, the <code>find_element()</code> method is used to locate a single web element on a web page based on a specified locator strategy. It is a fundamental method provided by the Selenium WebDriver, and it allows you to interact with various elements like buttons, input fields, links, etc. on a web page.</p><p>Here's how you can use the <code>find_element()</code> method in Python with Selenium:</p><ol><li>Import the necessary modules:\n",
      "First, you need to import the <code>webdriver</code> class from the <code>selenium</code> package:</li></ol><pre><div class=\"bg-black rounded-md mb-4\"><div class=\"flex items-center relative text-gray-200 bg-gray-800 px-4 py-2 text-xs font-sans justify-between rounded-t-md\"><span>python</span><button class=\"flex ml-auto gap-2\"><svg stroke=\"currentColor\" fill=\"none\" stroke-width=\"2\" viewBox=\"0 0 24 24\" stroke-linecap=\"round\" stroke-linejoin=\"round\" class=\"h-4 w-4\" height=\"1em\" width=\"1em\" xmlns=\"http://www.w3.org/2000/svg\"><path d=\"M16 4h2a2 2 0 0 1 2 2v14a2 2 0 0 1-2 2H6a2 2 0 0 1-2-2V6a2 2 0 0 1 2-2h2\"></path><rect x=\"8\" y=\"2\" width=\"8\" height=\"4\" rx=\"1\" ry=\"1\"></rect></svg>Copy code</button></div><div class=\"p-4 overflow-y-auto\"><code class=\"!whitespace-pre hljs language-python\"><span class=\"hljs-keyword\">from</span> selenium <span class=\"hljs-keyword\">import</span> webdriver\n",
      "</code></div></div></pre><ol start=\"2\"><li>Create a WebDriver instance:\n",
      "You need to create an instance of the WebDriver corresponding to the browser you want to use. For example, if you want to use Chrome, you'll use <code>webdriver.Chrome()</code>:</li></ol><pre><div class=\"bg-black rounded-md mb-4\"><div class=\"flex items-center relative text-gray-200 bg-gray-800 px-4 py-2 text-xs font-sans justify-between rounded-t-md\"><span>python</span><button class=\"flex ml-auto gap-2\"><svg stroke=\"currentColor\" fill=\"none\" stroke-width=\"2\" viewBox=\"0 0 24 24\" stroke-linecap=\"round\" stroke-linejoin=\"round\" class=\"h-4 w-4\" height=\"1em\" width=\"1em\" xmlns=\"http://www.w3.org/2000/svg\"><path d=\"M16 4h2a2 2 0 0 1 2 2v14a2 2 0 0 1-2 2H6a2 2 0 0 1-2-2V6a2 2 0 0 1 2-2h2\"></path><rect x=\"8\" y=\"2\" width=\"8\" height=\"4\" rx=\"1\" ry=\"1\"></rect></svg>Copy code</button></div><div class=\"p-4 overflow-y-auto\"><code class=\"!whitespace-pre hljs language-python\">driver = webdriver.Chrome()\n",
      "</code></div></div></pre><ol start=\"3\"><li>Navigate to a web page:\n",
      "Use the <code>get()</code> method of the WebDriver to navigate to the web page you want to interact with:</li></ol><pre><div class=\"bg-black rounded-md mb-4\"><div class=\"flex items-center relative text-gray-200 bg-gray-800 px-4 py-2 text-xs font-sans justify-between rounded-t-md\"><span>python</span><button class=\"flex ml-auto gap-2\"><svg stroke=\"currentColor\" fill=\"none\" stroke-width=\"2\" viewBox=\"0 0 24 24\" stroke-linecap=\"round\" stroke-linejoin=\"round\" class=\"h-4 w-4\" height=\"1em\" width=\"1em\" xmlns=\"http://www.w3.org/2000/svg\"><path d=\"M16 4h2a2 2 0 0 1 2 2v14a2 2 0 0 1-2 2H6a2 2 0 0 1-2-2V6a2 2 0 0 1 2-2h2\"></path><rect x=\"8\" y=\"2\" width=\"8\" height=\"4\" rx=\"1\" ry=\"1\"></rect></svg>Copy code</button></div><div class=\"p-4 overflow-y-auto\"><code class=\"!whitespace-pre hljs language-python\">driver.get(<span class=\"hljs-string\">\"https://example.com\"</span>)\n",
      "</code></div></div></pre><ol start=\"4\"><li>Use <code>find_element()</code> to locate an element:\n",
      "To locate an element on the web page, you can use various locator strategies, such as <code>By.ID</code>, <code>By.NAME</code>, <code>By.CLASS_NAME</code>, <code>By.XPATH</code>, <code>By.CSS_SELECTOR</code>, etc.</li></ol><p>For example, to find an element by its ID, you can do:</p><pre><div class=\"bg-black rounded-md mb-4\"><div class=\"flex items-center relative text-gray-200 bg-gray-800 px-4 py-2 text-xs font-sans justify-between rounded-t-md\"><span>python</span><button class=\"flex ml-auto gap-2\"><svg stroke=\"currentColor\" fill=\"none\" stroke-width=\"2\" viewBox=\"0 0 24 24\" stroke-linecap=\"round\" stroke-linejoin=\"round\" class=\"h-4 w-4\" height=\"1em\" width=\"1em\" xmlns=\"http://www.w3.org/2000/svg\"><path d=\"M16 4h2a2 2 0 0 1 2 2v14a2 2 0 0 1-2 2H6a2 2 0 0 1-2-2V6a2 2 0 0 1 2-2h2\"></path><rect x=\"8\" y=\"2\" width=\"8\" height=\"4\" rx=\"1\" ry=\"1\"></rect></svg>Copy code</button></div><div class=\"p-4 overflow-y-auto\"><code class=\"!whitespace-pre hljs language-python\">element = driver.find_element(By.ID, <span class=\"hljs-string\">\"element_id\"</span>)\n",
      "</code></div></div></pre><p>Or, you can find an element by its XPath:</p><pre><div class=\"bg-black rounded-md mb-4\"><div class=\"flex items-center relative text-gray-200 bg-gray-800 px-4 py-2 text-xs font-sans justify-between rounded-t-md\"><span>python</span><button class=\"flex ml-auto gap-2\"><svg stroke=\"currentColor\" fill=\"none\" stroke-width=\"2\" viewBox=\"0 0 24 24\" stroke-linecap=\"round\" stroke-linejoin=\"round\" class=\"h-4 w-4\" height=\"1em\" width=\"1em\" xmlns=\"http://www.w3.org/2000/svg\"><path d=\"M16 4h2a2 2 0 0 1 2 2v14a2 2 0 0 1-2 2H6a2 2 0 0 1-2-2V6a2 2 0 0 1 2-2h2\"></path><rect x=\"8\" y=\"2\" width=\"8\" height=\"4\" rx=\"1\" ry=\"1\"></rect></svg>Copy code</button></div><div class=\"p-4 overflow-y-auto\"><code class=\"!whitespace-pre hljs language-python\">element = driver.find_element(By.XPATH, <span class=\"hljs-string\">\"//input[@name='username']\"</span>)\n",
      "</code></div></div></pre><p>Note: Don't forget to import the necessary locator constants. For example, you should add this import statement at the beginning of your code:</p><pre><div class=\"bg-black rounded-md mb-4\"><div class=\"flex items-center relative text-gray-200 bg-gray-800 px-4 py-2 text-xs font-sans justify-between rounded-t-md\"><span>python</span><button class=\"flex ml-auto gap-2\"><svg stroke=\"currentColor\" fill=\"none\" stroke-width=\"2\" viewBox=\"0 0 24 24\" stroke-linecap=\"round\" stroke-linejoin=\"round\" class=\"h-4 w-4\" height=\"1em\" width=\"1em\" xmlns=\"http://www.w3.org/2000/svg\"><path d=\"M16 4h2a2 2 0 0 1 2 2v14a2 2 0 0 1-2 2H6a2 2 0 0 1-2-2V6a2 2 0 0 1 2-2h2\"></path><rect x=\"8\" y=\"2\" width=\"8\" height=\"4\" rx=\"1\" ry=\"1\"></rect></svg>Copy code</button></div><div class=\"p-4 overflow-y-auto\"><code class=\"!whitespace-pre hljs language-python\"><span class=\"hljs-keyword\">from</span> selenium.webdriver.common.by <span class=\"hljs-keyword\">import</span> By\n",
      "</code></div></div></pre><ol start=\"5\"><li>Interact with the element:\n",
      "Once you have located the element, you can interact with it, such as clicking on it, sending text, etc.</li></ol><p>For example, to enter text into an input field, you can use the <code>send_keys()</code> method:</p><pre><div class=\"bg-black rounded-md mb-4\"><div class=\"flex items-center relative text-gray-200 bg-gray-800 px-4 py-2 text-xs font-sans justify-between rounded-t-md\"><span>python</span><button class=\"flex ml-auto gap-2\"><svg stroke=\"currentColor\" fill=\"none\" stroke-width=\"2\" viewBox=\"0 0 24 24\" stroke-linecap=\"round\" stroke-linejoin=\"round\" class=\"h-4 w-4\" height=\"1em\" width=\"1em\" xmlns=\"http://www.w3.org/2000/svg\"><path d=\"M16 4h2a2 2 0 0 1 2 2v14a2 2 0 0 1-2 2H6a2 2 0 0 1-2-2V6a2 2 0 0 1 2-2h2\"></path><rect x=\"8\" y=\"2\" width=\"8\" height=\"4\" rx=\"1\" ry=\"1\"></rect></svg>Copy code</button></div><div class=\"p-4 overflow-y-auto\"><code class=\"!whitespace-pre hljs language-python\">element.send_keys(<span class=\"hljs-string\">\"Hello, World!\"</span>)\n",
      "</code></div></div></pre><ol start=\"6\"><li>Close the browser when done:\n",
      "After you have completed your interactions with the web page, don't forget to close the browser to free up resources:</li></ol><pre><div class=\"bg-black rounded-md mb-4\"><div class=\"flex items-center relative text-gray-200 bg-gray-800 px-4 py-2 text-xs font-sans justify-between rounded-t-md\"><span>python</span><button class=\"flex ml-auto gap-2\"><svg stroke=\"currentColor\" fill=\"none\" stroke-width=\"2\" viewBox=\"0 0 24 24\" stroke-linecap=\"round\" stroke-linejoin=\"round\" class=\"h-4 w-4\" height=\"1em\" width=\"1em\" xmlns=\"http://www.w3.org/2000/svg\"><path d=\"M16 4h2a2 2 0 0 1 2 2v14a2 2 0 0 1-2 2H6a2 2 0 0 1-2-2V6a2 2 0 0 1 2-2h2\"></path><rect x=\"8\" y=\"2\" width=\"8\" height=\"4\" rx=\"1\" ry=\"1\"></rect></svg>Copy code</button></div><div class=\"p-4 overflow-y-auto\"><code class=\"!whitespace-pre hljs language-python\">driver.quit()\n",
      "</code></div></div></pre><p>Putting it all together, here's a simple example:</p><pre><div class=\"bg-black rounded-md mb-4\"><div class=\"flex items-center relative text-gray-200 bg-gray-800 px-4 py-2 text-xs font-sans justify-between rounded-t-md\"><span>python</span><button class=\"flex ml-auto gap-2\"><svg stroke=\"currentColor\" fill=\"none\" stroke-width=\"2\" viewBox=\"0 0 24 24\" stroke-linecap=\"round\" stroke-linejoin=\"round\" class=\"h-4 w-4\" height=\"1em\" width=\"1em\" xmlns=\"http://www.w3.org/2000/svg\"><path d=\"M16 4h2a2 2 0 0 1 2 2v14a2 2 0 0 1-2 2H6a2 2 0 0 1-2-2V6a2 2 0 0 1 2-2h2\"></path><rect x=\"8\" y=\"2\" width=\"8\" height=\"4\" rx=\"1\" ry=\"1\"></rect></svg>Copy code</button></div><div class=\"p-4 overflow-y-auto\"><code class=\"!whitespace-pre hljs language-python\"><span class=\"hljs-keyword\">from</span> selenium <span class=\"hljs-keyword\">import</span> webdriver\n",
      "<span class=\"hljs-keyword\">from</span> selenium.webdriver.common.by <span class=\"hljs-keyword\">import</span> By\n",
      "\n",
      "<span class=\"hljs-comment\"># Create a WebDriver instance (e.g., Chrome)</span>\n",
      "driver = webdriver.Chrome()\n",
      "\n",
      "<span class=\"hljs-comment\"># Navigate to a web page</span>\n",
      "driver.get(<span class=\"hljs-string\">\"https://example.com\"</span>)\n",
      "\n",
      "<span class=\"hljs-comment\"># Find an element by its ID</span>\n",
      "element = driver.find_element(By.ID, <span class=\"hljs-string\">\"element_id\"</span>)\n",
      "\n",
      "<span class=\"hljs-comment\"># Interact with the element (e.g., enter text)</span>\n",
      "element.send_keys(<span class=\"hljs-string\">\"Hello, World!\"</span>)\n",
      "\n",
      "<span class=\"hljs-comment\"># Close the browser</span>\n",
      "driver.quit()\n",
      "</code></div></div></pre><p>Remember that it's crucial to handle exceptions properly when working with Selenium to handle cases when an element is not found or other unexpected issues occur during the automation process.</p>\n"
     ]
    }
   ],
   "source": [
    "answerElement = driver.find_element(By.CSS_SELECTOR, \"div.markdown\")\n",
    "contentAnswer = answerElement.get_attribute(\"innerHTML\")\n",
    "\n",
    "# Print the HTML content or do whatever you want with it\n",
    "print(contentAnswer)\n"
   ]
  }
 ],
 "metadata": {
  "kernelspec": {
   "display_name": "Python 3",
   "language": "python",
   "name": "python3"
  },
  "language_info": {
   "codemirror_mode": {
    "name": "ipython",
    "version": 3
   },
   "file_extension": ".py",
   "mimetype": "text/x-python",
   "name": "python",
   "nbconvert_exporter": "python",
   "pygments_lexer": "ipython3",
   "version": "3.10.3"
  },
  "orig_nbformat": 4
 },
 "nbformat": 4,
 "nbformat_minor": 2
}
