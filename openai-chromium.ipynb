{
 "cells": [
  {
   "cell_type": "code",
   "execution_count": 23,
   "metadata": {},
   "outputs": [
    {
     "name": "stdout",
     "output_type": "stream",
     "text": [
      "lequidon.1993@gmail.com qwa@12345\n"
     ]
    }
   ],
   "source": [
    "from dotenv import load_dotenv\n",
    "import os\n",
    "\n",
    "load_dotenv()\n",
    "\n",
    "username = os.getenv('USERNAME')\n",
    "password = os.getenv('PASSWORD')\n",
    "print(username, password)"
   ]
  },
  {
   "cell_type": "code",
   "execution_count": 1,
   "metadata": {},
   "outputs": [
    {
     "name": "stderr",
     "output_type": "stream",
     "text": [
      "/var/folders/g6/37kt02914kx36yzcbbqfyck00000gn/T/ipykernel_84865/3519072514.py:5: DeprecationWarning: headless property is deprecated, instead use add_argument('--headless') or add_argument('--headless=new')\n",
      "  options.headless = False\n"
     ]
    }
   ],
   "source": [
    "from selenium import webdriver\n",
    "from selenium.webdriver.chrome.options import Options\n",
    "\n",
    "options = Options()\n",
    "options.headless = False\n",
    "options.add_argument(\"--window-size=1920,1200\")\n",
    "\n",
    "DRIVER_PATH = '/Users/ngocp/.pyenv/versions/3.10.3/lib/python3.10/site-packages/selenium/webdriver'\n",
    "driver = webdriver.Chrome(options=options)"
   ]
  },
  {
   "cell_type": "code",
   "execution_count": 9,
   "metadata": {},
   "outputs": [
    {
     "name": "stdout",
     "output_type": "stream",
     "text": [
      "buttons [<selenium.webdriver.remote.webelement.WebElement (session=\"3c64024a886e0d44842088a1f86ae445\", element=\"780C8C35973DDF2F3BF9AAF7D9EA6843_element_274\")>, <selenium.webdriver.remote.webelement.WebElement (session=\"3c64024a886e0d44842088a1f86ae445\", element=\"780C8C35973DDF2F3BF9AAF7D9EA6843_element_275\")>]\n"
     ]
    }
   ],
   "source": [
    "from selenium.webdriver.common.by import By\n",
    "import time\n",
    "\n",
    "# Open the OpenAI website\n",
    "driver.get(\"https://chat.openai.com/auth/login?next=%2F%3Fmodel%3Dtext-davinci-002-render-sha\")\n",
    "time.sleep(2)\n",
    "\n",
    "buttons = driver.find_elements(By.XPATH, '//button')\n",
    "buttons[0].click()\n",
    "print('buttons', buttons)\n",
    "\n",
    "time.sleep(3)\n",
    "\n",
    "# Find the login form and enter your OpenAI API key\n",
    "usernameElem = driver.find_element(By.ID, \"username\")\n",
    "usernameElem.send_keys(username)\n",
    "\n",
    "# Find the button by XPath\n",
    "submit_button = driver.find_element(By.CSS_SELECTOR, \"button[type='submit']\")\n",
    "\n",
    "# Click the button\n",
    "submit_button.click()\n"
   ]
  },
  {
   "cell_type": "code",
   "execution_count": 10,
   "metadata": {},
   "outputs": [],
   "source": [
    "\n",
    "time.sleep(2)\n",
    "\n",
    "passwordElem = driver.find_element(By.CSS_SELECTOR, \"#password\")\n",
    "passwordElem.send_keys(password)\n",
    "\n",
    "# Find the button by XPath\n",
    "submit_button = driver.find_element(By.CSS_SELECTOR, \"button._button-login-password\")\n",
    "\n",
    "# Click the button\n",
    "submit_button.click()"
   ]
  },
  {
   "cell_type": "code",
   "execution_count": 13,
   "metadata": {},
   "outputs": [],
   "source": [
    "driver.find_element(By.CSS_SELECTOR, \"button.btn-neutral.ml-auto\").click()"
   ]
  },
  {
   "cell_type": "code",
   "execution_count": 14,
   "metadata": {},
   "outputs": [],
   "source": [
    "time.sleep(0.5)\n",
    "driver.find_element(By.CSS_SELECTOR, \"button.ml-auto\").click()"
   ]
  },
  {
   "cell_type": "code",
   "execution_count": 16,
   "metadata": {},
   "outputs": [],
   "source": [
    "textPrompt = 'Python – find_element() method in Selenium. How to use it ?'\n",
    "textAreaInput = driver.find_element(By.CSS_SELECTOR, \"textarea#prompt-textarea\")\n",
    "textAreaInput.send_keys(textPrompt)"
   ]
  },
  {
   "cell_type": "code",
   "execution_count": 17,
   "metadata": {},
   "outputs": [],
   "source": [
    "sendBtn = driver.find_element(By.CSS_SELECTOR, \"form button\")\n",
    "sendBtn.click()"
   ]
  },
  {
   "cell_type": "code",
   "execution_count": 18,
   "metadata": {},
   "outputs": [
    {
     "name": "stdout",
     "output_type": "stream",
     "text": [
      "<p>In Selenium, the <code>find_element()</code> method is used to locate a single web element on a web page based on a specified locator strategy. It is a fundamental method provided by the Selenium WebDriver, and it allows you to interact with various elements like buttons, input fields, links, etc. on a web page.</p><p>Here's how you can use the <code>find_element()</code> method in Python with Selenium:</p><ol><li>Import the necessary modules:\n",
      "First, you need to import the <code>webdriver</code> class from the <code>selenium</code> package:</li></ol><pre><div class=\"bg-black rounded-md mb-4\"><div class=\"flex items-center relative text-gray-200 bg-gray-800 px-4 py-2 text-xs font-sans justify-between rounded-t-md\"><span>python</span><button class=\"flex ml-auto gap-2\"><svg stroke=\"currentColor\" fill=\"none\" stroke-width=\"2\" viewBox=\"0 0 24 24\" stroke-linecap=\"round\" stroke-linejoin=\"round\" class=\"h-4 w-4\" height=\"1em\" width=\"1em\" xmlns=\"http://www.w3.org/2000/svg\"><path d=\"M16 4h2a2 2 0 0 1 2 2v14a2 2 0 0 1-2 2H6a2 2 0 0 1-2-2V6a2 2 0 0 1 2-2h2\"></path><rect x=\"8\" y=\"2\" width=\"8\" height=\"4\" rx=\"1\" ry=\"1\"></rect></svg>Copy code</button></div><div class=\"p-4 overflow-y-auto\"><code class=\"!whitespace-pre hljs language-python\"><span class=\"hljs-keyword\">from</span> selenium <span class=\"hljs-keyword\">import</span> webdriver\n",
      "</code></div></div></pre><ol start=\"2\"><li>Create a WebDriver instance:\n",
      "You need to create an instance of the WebDriver corresponding to the browser you want to use. For example, if you want to use Chrome, you'll use <code>webdriver.Chrome()</code>:</li></ol><pre><div class=\"bg-black rounded-md mb-4\"><div class=\"flex items-center relative text-gray-200 bg-gray-800 px-4 py-2 text-xs font-sans justify-between rounded-t-md\"><span>python</span><button class=\"flex ml-auto gap-2\"><svg stroke=\"currentColor\" fill=\"none\" stroke-width=\"2\" viewBox=\"0 0 24 24\" stroke-linecap=\"round\" stroke-linejoin=\"round\" class=\"h-4 w-4\" height=\"1em\" width=\"1em\" xmlns=\"http://www.w3.org/2000/svg\"><path d=\"M16 4h2a2 2 0 0 1 2 2v14a2 2 0 0 1-2 2H6a2 2 0 0 1-2-2V6a2 2 0 0 1 2-2h2\"></path><rect x=\"8\" y=\"2\" width=\"8\" height=\"4\" rx=\"1\" ry=\"1\"></rect></svg>Copy code</button></div><div class=\"p-4 overflow-y-auto\"><code class=\"!whitespace-pre hljs language-python\">driver = webdriver.Chrome()\n",
      "</code></div></div></pre><ol start=\"3\"><li>Navigate to a web page:\n",
      "Use the <code>get()</code> method of the WebDriver to navigate to the web page you want to interact with:</li></ol><pre><div class=\"bg-black rounded-md mb-4\"><div class=\"flex items-center relative text-gray-200 bg-gray-800 px-4 py-2 text-xs font-sans justify-between rounded-t-md\"><span>python</span><button class=\"flex ml-auto gap-2\"><svg stroke=\"currentColor\" fill=\"none\" stroke-width=\"2\" viewBox=\"0 0 24 24\" stroke-linecap=\"round\" stroke-linejoin=\"round\" class=\"h-4 w-4\" height=\"1em\" width=\"1em\" xmlns=\"http://www.w3.org/2000/svg\"><path d=\"M16 4h2a2 2 0 0 1 2 2v14a2 2 0 0 1-2 2H6a2 2 0 0 1-2-2V6a2 2 0 0 1 2-2h2\"></path><rect x=\"8\" y=\"2\" width=\"8\" height=\"4\" rx=\"1\" ry=\"1\"></rect></svg>Copy code</button></div><div class=\"p-4 overflow-y-auto\"><code class=\"!whitespace-pre hljs language-python\">driver.get(<span class=\"hljs-string\">\"https://example.com\"</span>)\n",
      "</code></div></div></pre><ol start=\"4\"><li>Use <code>find_element()</code> to locate an element:\n",
      "To locate an element on the web page, you can use various locator strategies, such as <code>By.ID</code>, <code>By.NAME</code>, <code>By.CLASS_NAME</code>, <code>By.XPATH</code>, <code>By.CSS_SELECTOR</code>, etc.</li></ol><p>For example, to find an element by its ID, you can do:</p><pre><div class=\"bg-black rounded-md mb-4\"><div class=\"flex items-center relative text-gray-200 bg-gray-800 px-4 py-2 text-xs font-sans justify-between rounded-t-md\"><span>python</span><button class=\"flex ml-auto gap-2\"><svg stroke=\"currentColor\" fill=\"none\" stroke-width=\"2\" viewBox=\"0 0 24 24\" stroke-linecap=\"round\" stroke-linejoin=\"round\" class=\"h-4 w-4\" height=\"1em\" width=\"1em\" xmlns=\"http://www.w3.org/2000/svg\"><path d=\"M16 4h2a2 2 0 0 1 2 2v14a2 2 0 0 1-2 2H6a2 2 0 0 1-2-2V6a2 2 0 0 1 2-2h2\"></path><rect x=\"8\" y=\"2\" width=\"8\" height=\"4\" rx=\"1\" ry=\"1\"></rect></svg>Copy code</button></div><div class=\"p-4 overflow-y-auto\"><code class=\"!whitespace-pre hljs language-python\">element = driver.find_element(By.ID, <span class=\"hljs-string\">\"element_id\"</span>)\n",
      "</code></div></div></pre><p>Or, you can find an element by its XPath:</p><pre><div class=\"bg-black rounded-md mb-4\"><div class=\"flex items-center relative text-gray-200 bg-gray-800 px-4 py-2 text-xs font-sans justify-between rounded-t-md\"><span>python</span><button class=\"flex ml-auto gap-2\"><svg stroke=\"currentColor\" fill=\"none\" stroke-width=\"2\" viewBox=\"0 0 24 24\" stroke-linecap=\"round\" stroke-linejoin=\"round\" class=\"h-4 w-4\" height=\"1em\" width=\"1em\" xmlns=\"http://www.w3.org/2000/svg\"><path d=\"M16 4h2a2 2 0 0 1 2 2v14a2 2 0 0 1-2 2H6a2 2 0 0 1-2-2V6a2 2 0 0 1 2-2h2\"></path><rect x=\"8\" y=\"2\" width=\"8\" height=\"4\" rx=\"1\" ry=\"1\"></rect></svg>Copy code</button></div><div class=\"p-4 overflow-y-auto\"><code class=\"!whitespace-pre hljs language-python\">element = driver.find_element(By.XPATH, <span class=\"hljs-string\">\"//input[@name='username']\"</span>)\n",
      "</code></div></div></pre><p>Note: Don't forget to import the necessary locator constants. For example, you should add this import statement at the beginning of your code:</p><pre><div class=\"bg-black rounded-md mb-4\"><div class=\"flex items-center relative text-gray-200 bg-gray-800 px-4 py-2 text-xs font-sans justify-between rounded-t-md\"><span>python</span><button class=\"flex ml-auto gap-2\"><svg stroke=\"currentColor\" fill=\"none\" stroke-width=\"2\" viewBox=\"0 0 24 24\" stroke-linecap=\"round\" stroke-linejoin=\"round\" class=\"h-4 w-4\" height=\"1em\" width=\"1em\" xmlns=\"http://www.w3.org/2000/svg\"><path d=\"M16 4h2a2 2 0 0 1 2 2v14a2 2 0 0 1-2 2H6a2 2 0 0 1-2-2V6a2 2 0 0 1 2-2h2\"></path><rect x=\"8\" y=\"2\" width=\"8\" height=\"4\" rx=\"1\" ry=\"1\"></rect></svg>Copy code</button></div><div class=\"p-4 overflow-y-auto\"><code class=\"!whitespace-pre hljs language-python\"><span class=\"hljs-keyword\">from</span> selenium.webdriver.common.by <span class=\"hljs-keyword\">import</span> By\n",
      "</code></div></div></pre><ol start=\"5\"><li>Interact with the element:\n",
      "Once you have located the element, you can interact with it, such as clicking on it, sending text, etc.</li></ol><p>For example, to enter text into an input field, you can use the <code>send_keys()</code> method:</p><pre><div class=\"bg-black rounded-md mb-4\"><div class=\"flex items-center relative text-gray-200 bg-gray-800 px-4 py-2 text-xs font-sans justify-between rounded-t-md\"><span>python</span><button class=\"flex ml-auto gap-2\"><svg stroke=\"currentColor\" fill=\"none\" stroke-width=\"2\" viewBox=\"0 0 24 24\" stroke-linecap=\"round\" stroke-linejoin=\"round\" class=\"h-4 w-4\" height=\"1em\" width=\"1em\" xmlns=\"http://www.w3.org/2000/svg\"><path d=\"M16 4h2a2 2 0 0 1 2 2v14a2 2 0 0 1-2 2H6a2 2 0 0 1-2-2V6a2 2 0 0 1 2-2h2\"></path><rect x=\"8\" y=\"2\" width=\"8\" height=\"4\" rx=\"1\" ry=\"1\"></rect></svg>Copy code</button></div><div class=\"p-4 overflow-y-auto\"><code class=\"!whitespace-pre hljs language-python\">element.send_keys(<span class=\"hljs-string\">\"Hello, World!\"</span>)\n",
      "</code></div></div></pre><ol start=\"6\"><li>Close the browser when done:\n",
      "After you have completed your interactions with the web page, don't forget to close the browser to free up resources:</li></ol><pre><div class=\"bg-black rounded-md mb-4\"><div class=\"flex items-center relative text-gray-200 bg-gray-800 px-4 py-2 text-xs font-sans justify-between rounded-t-md\"><span>python</span><button class=\"flex ml-auto gap-2\"><svg stroke=\"currentColor\" fill=\"none\" stroke-width=\"2\" viewBox=\"0 0 24 24\" stroke-linecap=\"round\" stroke-linejoin=\"round\" class=\"h-4 w-4\" height=\"1em\" width=\"1em\" xmlns=\"http://www.w3.org/2000/svg\"><path d=\"M16 4h2a2 2 0 0 1 2 2v14a2 2 0 0 1-2 2H6a2 2 0 0 1-2-2V6a2 2 0 0 1 2-2h2\"></path><rect x=\"8\" y=\"2\" width=\"8\" height=\"4\" rx=\"1\" ry=\"1\"></rect></svg>Copy code</button></div><div class=\"p-4 overflow-y-auto\"><code class=\"!whitespace-pre hljs language-python\">driver.quit()\n",
      "</code></div></div></pre><p>Putting it all together, here's a simple example:</p><pre><div class=\"bg-black rounded-md mb-4\"><div class=\"flex items-center relative text-gray-200 bg-gray-800 px-4 py-2 text-xs font-sans justify-between rounded-t-md\"><span>python</span><button class=\"flex ml-auto gap-2\"><svg stroke=\"currentColor\" fill=\"none\" stroke-width=\"2\" viewBox=\"0 0 24 24\" stroke-linecap=\"round\" stroke-linejoin=\"round\" class=\"h-4 w-4\" height=\"1em\" width=\"1em\" xmlns=\"http://www.w3.org/2000/svg\"><path d=\"M16 4h2a2 2 0 0 1 2 2v14a2 2 0 0 1-2 2H6a2 2 0 0 1-2-2V6a2 2 0 0 1 2-2h2\"></path><rect x=\"8\" y=\"2\" width=\"8\" height=\"4\" rx=\"1\" ry=\"1\"></rect></svg>Copy code</button></div><div class=\"p-4 overflow-y-auto\"><code class=\"!whitespace-pre hljs language-python\"><span class=\"hljs-keyword\">from</span> selenium <span class=\"hljs-keyword\">import</span> webdriver\n",
      "<span class=\"hljs-keyword\">from</span> selenium.webdriver.common.by <span class=\"hljs-keyword\">import</span> By\n",
      "\n",
      "<span class=\"hljs-comment\"># Create a WebDriver instance (e.g., Chrome)</span>\n",
      "driver = webdriver.Chrome()\n",
      "\n",
      "<span class=\"hljs-comment\"># Navigate to a web page</span>\n",
      "driver.get(<span class=\"hljs-string\">\"https://example.com\"</span>)\n",
      "\n",
      "<span class=\"hljs-comment\"># Find an element by its ID</span>\n",
      "element = driver.find_element(By.ID, <span class=\"hljs-string\">\"element_id\"</span>)\n",
      "\n",
      "<span class=\"hljs-comment\"># Interact with the element (e.g., enter text)</span>\n",
      "element.send_keys(<span class=\"hljs-string\">\"Hello, World!\"</span>)\n",
      "\n",
      "<span class=\"hljs-comment\"># Close the browser</span>\n",
      "driver.quit()\n",
      "</code></div></div></pre><p>Remember that it's crucial to handle exceptions properly when working with Selenium to handle cases when an element is not found or other unexpected issues occur during the automation process.</p>\n"
     ]
    }
   ],
   "source": [
    "answerElement = driver.find_element(By.CSS_SELECTOR, \"div.markdown\")\n",
    "contentAnswer = answerElement.get_attribute(\"innerHTML\")\n",
    "\n",
    "# Print the HTML content or do whatever you want with it\n",
    "print(contentAnswer)\n"
   ]
  }
 ],
 "metadata": {
  "kernelspec": {
   "display_name": "Python 3",
   "language": "python",
   "name": "python3"
  },
  "language_info": {
   "codemirror_mode": {
    "name": "ipython",
    "version": 3
   },
   "file_extension": ".py",
   "mimetype": "text/x-python",
   "name": "python",
   "nbconvert_exporter": "python",
   "pygments_lexer": "ipython3",
   "version": "3.10.3"
  },
  "orig_nbformat": 4
 },
 "nbformat": 4,
 "nbformat_minor": 2
}
