{
 "cells": [
  {
   "attachments": {},
   "cell_type": "markdown",
   "id": "077cba5c",
   "metadata": {
    "papermill": {
     "duration": 0.00482,
     "end_time": "2023-03-21T09:11:08.593497",
     "exception": false,
     "start_time": "2023-03-21T09:11:08.588677",
     "status": "completed"
    },
    "tags": []
   },
   "source": [
    "## Load data from google sheet \n",
    "https://docs.google.com/spreadsheets/d/1ZSLM2gc6GBWs1fvvNwzA0D7jusRWv2xPVqOVoXcYJ3o/edit#gid=732292548"
   ]
  },
  {
   "cell_type": "code",
   "execution_count": 88,
   "id": "3a3ea012",
   "metadata": {
    "execution": {
     "iopub.execute_input": "2023-03-21T09:11:08.606765Z",
     "iopub.status.busy": "2023-03-21T09:11:08.605763Z",
     "iopub.status.idle": "2023-03-21T09:11:09.838709Z",
     "shell.execute_reply": "2023-03-21T09:11:09.837039Z"
    },
    "papermill": {
     "duration": 1.243328,
     "end_time": "2023-03-21T09:11:09.841944",
     "exception": false,
     "start_time": "2023-03-21T09:11:08.598616",
     "status": "completed"
    },
    "tags": []
   },
   "outputs": [
    {
     "name": "stdout",
     "output_type": "stream",
     "text": [
      "data [{'id': 1, 'title': 'Dow Jones tăng hơn 300 điểm, chấm dứt 5 phiên giảm liên tiếp', 'content': 'Chứng khoán Mỹ khởi sắc vào ngày thứ Ba (14/3), khi nhà đầu tư đặt cược vào việc nguy cơ lan truyền sau vụ phá sản của các ngân hàng Silicon Valley và Signature đã được ngăn chặn.\\n\\n\\n\\nKết thúc phiên giao dịch ngày thứ Ba, chỉ số Dow Jones tăng 336.26 điểm (tương đương 1.06%) lên 32,155.40 điểm, chấm dứt chuỗi 5 phiên lao dốc liên tiếp. Chỉ số S&P 500 tiến 1.65% lên 3,919.29 điểm. Chỉ số Nasdaq Composite cộng 2.14% lên 11,428.15 điểm.\\n\\nSự nhiệt tình mua vào các cổ phiếu ngân hàng của nhà đầu tư đã giảm đi phần nào vào buổi chiều. Tuy nhiên, nhiều cổ phiếu vẫn ghi nhận đà tăng, đánh dấu bước đảo chiều sau 2 phiên giảm sâu khi nhà đầu tư ngày càng tin tưởng rằng những ngân hàng đó sẽ không chịu chung số phận như ngân hàng Silicon Valley và Signature. Các nhà quản lý cho biết vào ngày 12/3 rằng họ đã xây dựng một kế hoạch để can thiệp cho tất cả những người gửi tiền ở 2 ngân hàng này.\\n\\nChứng chỉ quỹ SPDR S&P Regional Banking ETF tiến 2%, phục hồi phần nào sau đà lao dốc 12% trong phiên trước đó. Cổ phiếu First Republic Bank bứt phá gần 27% sau khi bốc hơi gần 62% vào ngày 13/3. Cổ phiếu KeyCorp vọt gần 7% trong đợt phục hồi nhẹ sau khi trượt dốc 27%.\\n\\nNhà đầu tư đang chờ đợi những gì tiếp theo sẽ xảy ra cho lĩnh vực ngân hàng trước những bất ổn gần đây.\\n\\nĐà tăng nới rộng sang ngoài các lĩnh vực tài chính, với tất cả 11 lĩnh vực thuộc S&P 500 đều tăng điểm trong ngày thứ Ba.\\n\\nNhà đầu tư cũng tập trung chú ý vào dữ liệu lạm phát mới nhất của Mỹ.\\n\\nChỉ số giá tiêu dùng CPI tháng 2 tăng 0.4% so với tháng 1, trùng khớp với dự báo từ các chuyên gia kinh tế tham gia cuộc thăm dò của Dow Jones. Mức tăng hàng năm của CPI là 6%, cũng phù hợp với kỳ vọng của các nhà kinh tế. CPI cốt lõi, vốn loại bỏ giá năng lượng và thực phẩm, tăng so với tháng trước một chút so với dự kiến của các nhà kinh tế là 0.5%, trong khi mức tăng hàng năm là 5.5% phù hợp với dự báo.\\n', 'date': '', 'stock_price': 100, 'status': 1}]\n"
     ]
    }
   ],
   "source": [
    "import gspread\n",
    "import pandas as pd\n",
    "from oauth2client.service_account import ServiceAccountCredentials\n",
    "# define the scope\n",
    "scope = ['https://spreadsheets.google.com/feeds','https://www.googleapis.com/auth/drive']\n",
    "\n",
    "# add credentials to the account\n",
    "creds = ServiceAccountCredentials.from_json_keyfile_name('./questioniso-0a60ce8c39c1.json', scope)\n",
    "\n",
    "# authorize the clientsheet \n",
    "client = gspread.authorize(creds)\n",
    "\n",
    "sheet = client.open_by_key('1ZSLM2gc6GBWs1fvvNwzA0D7jusRWv2xPVqOVoXcYJ3o')\n",
    "\n",
    "# get the first sheet of the Spreadsheet\n",
    "sheet_instance = sheet.worksheet('news')\n",
    "\n",
    "data = sheet_instance.get_all_records()\n",
    "print('data', data[:1])"
   ]
  },
  {
   "cell_type": "code",
   "execution_count": 89,
   "id": "b0867220",
   "metadata": {
    "execution": {
     "iopub.execute_input": "2023-03-21T09:11:09.855314Z",
     "iopub.status.busy": "2023-03-21T09:11:09.854468Z",
     "iopub.status.idle": "2023-03-21T09:11:09.899346Z",
     "shell.execute_reply": "2023-03-21T09:11:09.898132Z"
    },
    "papermill": {
     "duration": 0.054436,
     "end_time": "2023-03-21T09:11:09.901750",
     "exception": false,
     "start_time": "2023-03-21T09:11:09.847314",
     "status": "completed"
    },
    "tags": []
   },
   "outputs": [
    {
     "data": {
      "text/html": [
       "<div>\n",
       "<style scoped>\n",
       "    .dataframe tbody tr th:only-of-type {\n",
       "        vertical-align: middle;\n",
       "    }\n",
       "\n",
       "    .dataframe tbody tr th {\n",
       "        vertical-align: top;\n",
       "    }\n",
       "\n",
       "    .dataframe thead th {\n",
       "        text-align: right;\n",
       "    }\n",
       "</style>\n",
       "<table border=\"1\" class=\"dataframe\">\n",
       "  <thead>\n",
       "    <tr style=\"text-align: right;\">\n",
       "      <th></th>\n",
       "      <th>title</th>\n",
       "      <th>content</th>\n",
       "      <th>date</th>\n",
       "      <th>stock_price</th>\n",
       "      <th>status</th>\n",
       "    </tr>\n",
       "  </thead>\n",
       "  <tbody>\n",
       "    <tr>\n",
       "      <th>0</th>\n",
       "      <td>Dow Jones tăng hơn 300 điểm, chấm dứt 5 phiên ...</td>\n",
       "      <td>Chứng khoán Mỹ khởi sắc vào ngày thứ Ba (14/3)...</td>\n",
       "      <td></td>\n",
       "      <td>100.0</td>\n",
       "      <td>1.0</td>\n",
       "    </tr>\n",
       "    <tr>\n",
       "      <th>1</th>\n",
       "      <td>Vàng thế giới lùi nhẹ khi lợi suất trái phiếu ...</td>\n",
       "      <td>Giá vàng giảm vào ngày thứ Ba (14/3) khi lợi s...</td>\n",
       "      <td></td>\n",
       "      <td>98.0</td>\n",
       "      <td>-0.5</td>\n",
       "    </tr>\n",
       "    <tr>\n",
       "      <th>2</th>\n",
       "      <td>Xét xử vụ DongABank: 'Lạnh gáy' với khoản vay ...</td>\n",
       "      <td>Sau khi bị cáo Phùng Ngọc Khánh (cựu Chủ tịch ...</td>\n",
       "      <td></td>\n",
       "      <td>95.0</td>\n",
       "      <td>-1.0</td>\n",
       "    </tr>\n",
       "    <tr>\n",
       "      <th>3</th>\n",
       "      <td>Cựu tổng giám đốc Ngân hàng Đông Á Trần Phương...</td>\n",
       "      <td>Cùng các đồng phạm gây thiệt hại tổng số tiền ...</td>\n",
       "      <td></td>\n",
       "      <td>93.0</td>\n",
       "      <td>-1.0</td>\n",
       "    </tr>\n",
       "    <tr>\n",
       "      <th>4</th>\n",
       "      <td>Nóng: Ngân hàng Nhà nước giảm lãi suất điều hành</td>\n",
       "      <td>Ngân hàng Nhà nước (NHNN) vừa ban hành các quy...</td>\n",
       "      <td></td>\n",
       "      <td>94.0</td>\n",
       "      <td>1.0</td>\n",
       "    </tr>\n",
       "  </tbody>\n",
       "</table>\n",
       "</div>"
      ],
      "text/plain": [
       "                                               title  \\\n",
       "0  Dow Jones tăng hơn 300 điểm, chấm dứt 5 phiên ...   \n",
       "1  Vàng thế giới lùi nhẹ khi lợi suất trái phiếu ...   \n",
       "2  Xét xử vụ DongABank: 'Lạnh gáy' với khoản vay ...   \n",
       "3  Cựu tổng giám đốc Ngân hàng Đông Á Trần Phương...   \n",
       "4   Nóng: Ngân hàng Nhà nước giảm lãi suất điều hành   \n",
       "\n",
       "                                             content date  stock_price  status  \n",
       "0  Chứng khoán Mỹ khởi sắc vào ngày thứ Ba (14/3)...             100.0     1.0  \n",
       "1  Giá vàng giảm vào ngày thứ Ba (14/3) khi lợi s...              98.0    -0.5  \n",
       "2  Sau khi bị cáo Phùng Ngọc Khánh (cựu Chủ tịch ...              95.0    -1.0  \n",
       "3  Cùng các đồng phạm gây thiệt hại tổng số tiền ...              93.0    -1.0  \n",
       "4  Ngân hàng Nhà nước (NHNN) vừa ban hành các quy...              94.0     1.0  "
      ]
     },
     "execution_count": 89,
     "metadata": {},
     "output_type": "execute_result"
    }
   ],
   "source": [
    "df = pd.DataFrame()\n",
    "title = []\n",
    "content = []\n",
    "date = []\n",
    "stock_price = []\n",
    "status = []\n",
    "\n",
    "for values in data:\n",
    "    title.append(values['title'])\n",
    "    content.append(values['content'])\n",
    "    date.append(values['date'])\n",
    "    stock_price.append(values['stock_price'])\n",
    "    status.append(values['status'])\n",
    "\n",
    "df['title'] = title\n",
    "df['content'] = content\n",
    "df['date'] = date\n",
    "df['stock_price'] = stock_price\n",
    "df['status'] = status\n",
    "\n",
    "df[0:5]"
   ]
  },
  {
   "cell_type": "code",
   "execution_count": 90,
   "id": "f2ecacc8",
   "metadata": {
    "execution": {
     "iopub.execute_input": "2023-03-21T09:11:23.201387Z",
     "iopub.status.busy": "2023-03-21T09:11:23.200943Z",
     "iopub.status.idle": "2023-03-21T09:11:25.490367Z",
     "shell.execute_reply": "2023-03-21T09:11:25.489064Z"
    },
    "papermill": {
     "duration": 2.301,
     "end_time": "2023-03-21T09:11:25.493174",
     "exception": false,
     "start_time": "2023-03-21T09:11:23.192174",
     "status": "completed"
    },
    "tags": []
   },
   "outputs": [
    {
     "name": "stdout",
     "output_type": "stream",
     "text": [
      "documents: ['Chứng khoán Mỹ khởi sắc vào ngày thứ Ba (14/3), khi nhà đầu tư đặt cược vào việc nguy cơ lan truyền sau vụ phá sản của các ngân hàng Silicon Valley và Signature đã được ngăn chặn.\\n\\n\\n\\nKết thúc phiên giao dịch ngày thứ Ba, chỉ số Dow Jones tăng 336.26 điểm (tương đương 1.06%) lên 32,155.40 điểm, chấm dứt chuỗi 5 phiên lao dốc liên tiếp. Chỉ số S&P 500 tiến 1.65% lên 3,919.29 điểm. Chỉ số Nasdaq Composite cộng 2.14% lên 11,428.15 điểm.\\n\\nSự nhiệt tình mua vào các cổ phiếu ngân hàng của nhà đầu tư đã giảm đi phần nào vào buổi chiều. Tuy nhiên, nhiều cổ phiếu vẫn ghi nhận đà tăng, đánh dấu bước đảo chiều sau 2 phiên giảm sâu khi nhà đầu tư ngày càng tin tưởng rằng những ngân hàng đó sẽ không chịu chung số phận như ngân hàng Silicon Valley và Signature. Các nhà quản lý cho biết vào ngày 12/3 rằng họ đã xây dựng một kế hoạch để can thiệp cho tất cả những người gửi tiền ở 2 ngân hàng này.\\n\\nChứng chỉ quỹ SPDR S&P Regional Banking ETF tiến 2%, phục hồi phần nào sau đà lao dốc 12% trong phiên trước đó. Cổ phiếu First Republic Bank bứt phá gần 27% sau khi bốc hơi gần 62% vào ngày 13/3. Cổ phiếu KeyCorp vọt gần 7% trong đợt phục hồi nhẹ sau khi trượt dốc 27%.\\n\\nNhà đầu tư đang chờ đợi những gì tiếp theo sẽ xảy ra cho lĩnh vực ngân hàng trước những bất ổn gần đây.\\n\\nĐà tăng nới rộng sang ngoài các lĩnh vực tài chính, với tất cả 11 lĩnh vực thuộc S&P 500 đều tăng điểm trong ngày thứ Ba.\\n\\nNhà đầu tư cũng tập trung chú ý vào dữ liệu lạm phát mới nhất của Mỹ.\\n\\nChỉ số giá tiêu dùng CPI tháng 2 tăng 0.4% so với tháng 1, trùng khớp với dự báo từ các chuyên gia kinh tế tham gia cuộc thăm dò của Dow Jones. Mức tăng hàng năm của CPI là 6%, cũng phù hợp với kỳ vọng của các nhà kinh tế. CPI cốt lõi, vốn loại bỏ giá năng lượng và thực phẩm, tăng so với tháng trước một chút so với dự kiến của các nhà kinh tế là 0.5%, trong khi mức tăng hàng năm là 5.5% phù hợp với dự báo.\\n']\n",
      "len: 19\n"
     ]
    }
   ],
   "source": [
    "import pandas as pd\n",
    "from datetime import date, timedelta\n",
    "import re\n",
    "from underthesea import word_tokenize, sent_tokenize\n",
    "from gensim import corpora, models\n",
    "\n",
    "def clean_text(text):\n",
    "    text = str(text).lower() # lowercase text\n",
    "    return text\n",
    "\n",
    "df = df[df['stock_price'] != '']\n",
    "\n",
    "documents = df['content'].values.tolist()\n",
    "print('documents:', documents[0:1])\n",
    "print('len:', len(documents))"
   ]
  },
  {
   "cell_type": "code",
   "execution_count": 91,
   "id": "176f3000",
   "metadata": {
    "execution": {
     "iopub.execute_input": "2023-03-21T09:11:25.508841Z",
     "iopub.status.busy": "2023-03-21T09:11:25.508451Z",
     "iopub.status.idle": "2023-03-21T09:11:34.227541Z",
     "shell.execute_reply": "2023-03-21T09:11:34.226133Z"
    },
    "papermill": {
     "duration": 8.730456,
     "end_time": "2023-03-21T09:11:34.230453",
     "exception": false,
     "start_time": "2023-03-21T09:11:25.499997",
     "status": "completed"
    },
    "tags": []
   },
   "outputs": [],
   "source": [
    "import pandas as pd\n",
    "import numpy as np\n",
    "from gensim.models import Word2Vec\n",
    "from keras.models import Sequential\n",
    "from keras.layers import Dense, Dropout, Activation, Embedding, LSTM\n",
    "from keras.preprocessing.text import Tokenizer\n",
    "from keras.utils import pad_sequences\n",
    "from sklearn.model_selection import train_test_split\n",
    "\n",
    "def cv_texts_to_tokens(texts):\n",
    "    docs_tokened = []\n",
    "    documents_cleaned = []\n",
    "    for doc in texts:\n",
    "        words = word_tokenize(str(doc).lower(), format=\"text\").split(' ')\n",
    "        words = [word.strip(\".,?!\") for word in words if word.isalpha()]\n",
    "        docs_tokened.append(words)\n",
    "        documents_cleaned.append(' '.join(words))\n",
    "    return docs_tokened, documents_cleaned\n",
    "\n",
    "docs_tokened, documents_cleaned = cv_texts_to_tokens(documents)"
   ]
  },
  {
   "cell_type": "code",
   "execution_count": 92,
   "id": "66355db9",
   "metadata": {
    "execution": {
     "iopub.execute_input": "2023-03-21T09:11:34.248445Z",
     "iopub.status.busy": "2023-03-21T09:11:34.247350Z",
     "iopub.status.idle": "2023-03-21T09:11:41.124504Z",
     "shell.execute_reply": "2023-03-21T09:11:41.123223Z"
    },
    "papermill": {
     "duration": 6.888617,
     "end_time": "2023-03-21T09:11:41.127555",
     "exception": false,
     "start_time": "2023-03-21T09:11:34.238938",
     "status": "completed"
    },
    "tags": []
   },
   "outputs": [],
   "source": [
    "import gensim\n",
    "from gensim.models import Word2Vec\n",
    "import matplotlib.pyplot as plt\n",
    "from sklearn.manifold import TSNE\n",
    "\n",
    "w2v_model = gensim.models.KeyedVectors.load_word2vec_format('../model/wiki.vi.model.bin', binary=True)"
   ]
  },
  {
   "cell_type": "code",
   "execution_count": 93,
   "id": "cd88c258",
   "metadata": {},
   "outputs": [
    {
     "name": "stdout",
     "output_type": "stream",
     "text": [
      "[['mỹ', 'vào', 'ngày', 'thứ', 'ba', 'khi', 'vào', 'việc', 'sau', 'vụ', 'của', 'các', 'silicon', 'valley', 'và', 'signature', 'đã', 'được', 'phiên', 'ngày', 'thứ', 'ba', 'dow', 'jones', 'tăng', 'điểm', 'lên', 'điểm', 'chuỗi', 'phiên', 'lao', 'dốc', 's', 'p', 'tiến', 'lên', 'điểm', 'nasdaq', 'composite', 'cộng', 'lên', 'điểm', 'sự', 'mua', 'vào', 'các', 'của', 'đã', 'giảm', 'đi', 'vào', 'buổi', 'chiều', 'nhiều', 'vẫn', 'đà', 'tăng', 'bước', 'đảo', 'chiều', 'sau', 'phiên', 'giảm', 'sâu', 'khi', 'rằng', 'những', 'đó', 'sẽ', 'không', 'chịu', 'chung', 'như', 'silicon', 'valley', 'và', 'signature', 'các', 'nhà', 'cho', 'biết', 'vào', 'ngày', 'rằng', 'họ', 'đã', 'một', 'để', 'cho', 'những', 'người', 'gửi', 'tiền', 'ở', 'này', 'quỹ', 'spdr', 's', 'p', 'regional', 'banking', 'etf', 'tiến', 'sau', 'đà', 'lao', 'dốc', 'trong', 'phiên', 'trước', 'đó', 'first', 'republic', 'bank', 'gần', 'sau', 'khi', 'gần', 'vào', 'ngày', 'keycorp', 'vọt', 'gần', 'trong', 'đợt', 'nhẹ', 'sau', 'khi', 'trượt', 'dốc', 'nhà', 'đang', 'những', 'gì', 'sẽ', 'xảy', 'ra', 'cho', 'trước', 'những', 'gần', 'đây', 'đà', 'tăng', 'nới', 'rộng', 'sang', 'ngoài', 'các', 'với', 'thuộc', 's', 'p', 'đều', 'tăng', 'điểm', 'trong', 'ngày', 'thứ', 'ba', 'nhà', 'cũng', 'vào', 'mới', 'nhất', 'của', 'mỹ', 'giá', 'cpi', 'tháng', 'tăng', 'so', 'với', 'tháng', 'trùng', 'khớp', 'với', 'từ', 'các', 'cuộc', 'của', 'dow', 'jones', 'mức', 'tăng', 'hàng', 'năm', 'của', 'cpi', 'là', 'cũng', 'với', 'của', 'các', 'nhà', 'cpi', 'vốn', 'giá', 'và', 'tăng', 'so', 'với', 'tháng', 'trước', 'so', 'với', 'của', 'các', 'nhà', 'là', 'trong', 'khi', 'mức', 'tăng', 'hàng', 'năm', 'là', 'với'], ['giá', 'vàng', 'giảm', 'vào', 'ngày', 'thứ', 'ba', 'khi', 'mỹ', 'tăng', 'đã', 'làm', 'mất', 'đi', 'sự', 'toả', 'sáng', 'gần', 'đây', 'của', 'vàng', 'trong', 'khi', 'của', 'mỹ', 'tăng', 'trong', 'tháng', 'đặt', 'ra', 'nhiều', 'câu', 'hỏi', 'hơn', 'là', 'câu', 'về', 'phiên', 'ngày', 'thứ', 'ba', 'vàng', 'giao', 'ngay', 'lùi', 'xuống', 'usd', 'oz', 'vàng', 'mất', 'còn', 'usd', 'oz', 'mỹ', 'năm', 'cao', 'hơn', 'đã', 'đến', 'sức', 'của', 'quý', 'không', 'đem', 'lại', 'vàng', 'cho', 'thấy', 'ít', 'với', 'giá', 'cpi', 'của', 'mỹ', 'cho', 'thấy', 'mức', 'tăng', 'trong', 'tháng', 'như', 'sau', 'khi', 'tăng', 'trong', 'tháng', 'hiện', 'cục', 'mỹ', 'fed', 'chỉ', 'nâng', 'thêm', 'điểm', 'trong', 'tháng', 'này', 'được', 'xem', 'là', 'một', 'kênh', 'những', 'vàng', 'hơn', 'trong', 'thấp', 'giá', 'vàng', 'đã', 'tăng', 'hơn', 'trong', 'phiên', 'trước', 'đó', 'khi', 'sự', 'sau', 'vụ', 'của', 'silicon', 'valley', 'bank', 'svb', 'khiến', 'han', 'tan', 'tại', 'exinity', 'nhiều', 'vàng', 'giao', 'ngay', 'sẽ', 'trên', 'mức', 'về', 'mặt', 'là', 'usd', 'oz', 'trước', 'thêm', 'cuộc', 'họp', 'của', 'mở', 'fomc', 'vào', 'tuần', 'tới', 'với', 'đồng', 'usd', 'vẫn', 'giảm', 'và', 'vẫn', 'còn'], ['sau', 'khi', 'phùng', 'ngọc', 'khánh', 'cựu', 'hđqt', 'm', 'c', 'có', 'riêng', 'với', 'ông', 'trần', 'phương', 'bình', 'cựu', 'hđqt', 'hđtd', 'dongabank', 'huỳnh', 'nói', 'rằng', 'số', 'tiền', 'vay', 'hơn', 'tỷ', 'đồng', 'người', 'dân', 'nghe', 'vay', 'tand', 'tphcm', 'mở', 'ông', 'trần', 'phương', 'bình', 'phùng', 'ngọc', 'khánh', 'và', 'nguyên', 'là', 'dongabank', 'cùng', 'tội', 'về', 'cho', 'vay', 'trong', 'của', 'các', 'theo', 'điều', 'bộ', 'năm', 'sau', 'phần', 'đã', 'trong', 'đó', 'ông', 'trần', 'phương', 'bình', 'và', 'các', 'đã', 'nhiều', 'gây', 'cho', 'dongabank', 'việc', 'khoản', 'vay', 'của', 'gồm', 'cp', 'xnk', 'công', 'cp', 'tnhh', 'mtv', 'phát', 'phát', 'cp', 'biển', 'bạc', 'biển', 'bạc', 'cp', 'và', 'và', 'cp', 'm', 'c', 'với', 'tổng', 'gốc', 'tỷ', 'đồng', 'ông', 'trần', 'phương', 'bình', 'còn', 'ký', 'và', 'sau', 'đó', 'dongabank', 'thay', 'cho', 'm', 'c', 'khoản', 'mà', 'm', 'c', 'phải', 'cho', 'tmcp', 'gây', 'thêm', 'tỷ', 'đồng', 'nâng', 'tổng', 'là', 'tỷ', 'đồng', 'ông', 'trần', 'phương', 'bình', 'vào', 'phòng', 'xử', 'án', 'sáng', 'nay', 'theo', 'khánh', 'có', 'thuộc', 'nhóm', 'm', 'c', 'gồm', 'phát', 'biển', 'bạc', 'vay', 'dongabank', 'tỷ', 'đồng', 'trái', 'của', 'hiện', 'còn', 'tỷ', 'đồng', 'khánh', 'còn', 'nhờ', 'dongabank', 'trả', 'nợ', 'thay', 'cho', 'khoản', 'tỷ', 'đồng', 'là', 'người', 'được', 'gọi', 'lên', 'khánh', 'nói', 'ông', 'vay', 'dongabank', 'có', 'quyền', 'đất', 'ông', 'khánh', 'dù', 'có', 'giao', 'cho', 'dongabank', 'các', 'này', 'nhưng', 'các', 'chưa', 'được', 'chưa', 'về', 'việc', 'cho', 'rằng', 'ông', 'rồi', 'vay', 'dongabank', 'ông', 'khánh', 'nói', 'vừa', 'đúng', 'vừa', 'sai', 'đúng', 'là', 'ông', 'có', 'nhưng', 'sai', 'là', 'không', 'phải', 'ông', 'hết', 'trong', 'nhóm', 'm', 'c', 'mà', 'có', 'ông', 'nhờ', 'vay', 'tiền', 'chứ', 'ông', 'khánh', 'không', 'phùng', 'ngọc', 'khánh', 'tại', 'tòa', 'với', 'các', 'khoản', 'vay', 'của', 'ông', 'khánh', 'đến', 'ngày', 'còn', 'tỷ', 'đồng', 'còn', 'tỷ', 'đồng', 'phát', 'còn', 'tỷ', 'đồng', 'biển', 'còn', 'tỷ', 'đồng', 'và', 'còn', 'tỷ', 'đồng', 'hđxx', 'hỏi', 'đã', 'tiền', 'vay', 'từ', 'dongabank', 'vào', 'việc', 'gì', 'ông', 'khánh', 'cho', 'biết', 'là', 'trả', 'nợ', 'cho', 'chính', 'dongabank', 'vì', 'vay', 'để', 'đảo', 'nợ', 'khoản', 'vay', 'sau', 'trả', 'lại', 'nợ', 'cho', 'khoản', 'vay', 'trước', 'hđxx', 'truy', 'số', 'tiền', 'vay', 'từ', 'dongabank', 'không', 'chỉ', 'để', 'trả', 'nợ', 'giữ', 'lại', 'cho', 'vậy', 'số', 'tiền', 'này', 'làm', 'gì', 'ông', 'khánh', 'cho', 'biết', 'đã', 'vào', 'của', 'nhưng', 'không', 'nhớ', 'là', 'ra', 'sao', 'của', 'hđxx', 'về', 'việc', 'có', 'sự', 'riêng', 'nào', 'với', 'ông', 'trần', 'phương', 'bình', 'về', 'việc', 'vay', 'tiền', 'không', 'ông', 'khánh', 'nói', 'rằng', 'không', 'nghe', 'ông', 'khánh', 'đáp', 'liền', 'nói', 'vay', 'hơn', 'tỷ', 'đồng', 'đây', 'là', 'số', 'tiền', 'lớn', 'người', 'dân', 'nghe', 'là', 'vay', 'rất', 'dễ'], ['cùng', 'các', 'gây', 'tiền', 'trên', 'tỉ', 'đồng', 'cựu', 'trần', 'phương', 'bình', 'bị', 'trong', 'thứ', 'ngày', 'nguồn', 'tin', 'cho', 'biết', 'bộ', 'trần', 'phương', 'bình', 'cựu', 'tmcp', 'dab', 'về', 'tội', 'về', 'khác', 'đến', 'cựu', 'trần', 'phương', 'bình', 'bị', 'trong', 'vụ', 'án', 'từ', 'năm', 'ảnh', 'bị', 'can', 'trần', 'phương', 'bình', 'trong', 'trước', 'đó', 'ảnh', 'nlđo', 'cùng', 'với', 'đó', 'cũng', 'tài', 'cựu', 'thuộc', 'dab', 'và', 'phùng', 'ngọc', 'khánh', 'kiêm', 'm', 'c', 'và', 'bị', 'can', 'khác', 'cùng', 'về', 'trên', 'theo', 'năm', 'tmcp', 'cho', 'thuộc', 'nhóm', 'm', 'c', 'vay', 'tỉ', 'đồng', 'trong', 'nhóm', 'này', 'vay', 'tỉ', 'đồng', 'vay', 'tỉ', 'đồng', 'phát', 'vay', 'tỉ', 'đồng', 'biển', 'bạc', 'vay', 'tỉ', 'đồng', 'vay', 'tỉ', 'đồng', 'và', 'cp', 'm', 'c', 'vay', 'hơn', 'tỉ', 'đồng', 'chung', 'cho', 'những', 'khoản', 'vay', 'trên', 'là', 'một', 'phần', 'quyền', 'khu', 'đất', 'hơn', 'thuộc', 'ha', 'tại', 'phường', 'tp', 'tp', 'hcm', 'trong', 'này', 'ông', 'trần', 'phương', 'bình', 'với', 'hđqt', 'và', 'của', 'dab', 'nhóm', 'do', 'bình', 'nắm', 'giữ', 'vốn', 'dab', 'còn', 'nhóm', 'pnj', 'nắm', 'giữ', 'vốn', 'dab', 'trong', 'bị', 'can', 'trần', 'phương', 'bình', 'bị', 'là', 'bị', 'can', 'có', 'chính', 'các', 'tại', 'dab', 'khi', 'dab', 'cho', 'thuộc', 'nhóm', 'm', 'c', 'vay', 'tiền', 'cựu', 'dab', 'cũng', 'là', 'người', 'ký', 'cho', 'vay', 'số', 'tiền', 'cho', 'vay', 'đã', 'không', 'được', 'bên', 'vay', 'theo', 'vay', 'mà', 'được', 'dùng', 'để', 'trả', 'nợ', 'cho', 'các', 'khoản', 'vay', 'khác', 'của', 'm', 'c', 'của', 'bị', 'can', 'bình', 'bị', 'đã', 'các', 'và', 'của', 'dab', 'gây', 'cho', 'dab', 'tiền', 'trên', 'tỉ', 'đồng', 'cho', 'rằng', 'bị', 'can', 'trần', 'phương', 'bình', 'phải', 'chịu', 'về', 'số', 'tiền', 'này', 'các', 'tài', 'phùng', 'ngọc', 'khánh', 'và', 'người', 'khác', 'cho', 'bị', 'can', 'trần', 'phương', 'bình', 'của', 'ở', 'mức', 'là', 'một', 'trong', 'những', 'dẫn', 'đến', 'dab', 'tại', 'ngày', 'lỗ', 'lũy', 'kế', 'tỉ', 'đồng', 'vốn', 'tỉ', 'đồng', 'và', 'thực', 'chỉ', 'còn', 'tỉ', 'đồng', 'đây', 'là', 'thứ', 'tư', 'ông', 'trần', 'phương', 'bình', 'bị', 'do', 'dẫn', 'tới', 'tiền', 'của', 'dab', 'trước', 'đó', 'cựu', 'dab', 'đã', 'từng', 'lần', 'lĩnh', 'án', 'trong', 'đó', 'có', 'hơn', 'tỉ', 'đồng', 'của'], ['nhnn', 'vừa', 'các', 'giảm', 'từ', 'điểm', 'qua', 'còn', 'nhiều', 'nhiều', 'nước', 'ở', 'mức', 'cao', 'trong', 'nước', 'còn', 'nhiều', 'nhiều', 'tăng', 'thấp', 'hơn', 'cùng', 'kỳ', 'trong', 'đó', 'trong', 'nước', 'được', 'tctd', 'cũng', 'đã', 'giảm', 'để', 'cho', 'nền', 'giảm', 'cho', 'vay', 'và', 'người', 'dân', 'việt', 'nam', 'nhnn', 'các', 'mức', 'có', 'từ', 'ngày', 'số', 'ngày', 'về', 'tái', 'cấp', 'vốn', 'tái', 'cho', 'vay', 'qua', 'đêm', 'trong', 'liên', 'và', 'cho', 'vay', 'thiếu', 'hụt', 'vốn', 'trong', 'của', 'nhnn', 'tctd', 'theo', 'đó', 'tái', 'cấp', 'vốn', 'giữ', 'nguyên', 'ở', 'mức', 'năm', 'tái', 'giảm', 'từ', 'năm', 'xuống', 'năm', 'cho', 'vay', 'qua', 'đêm', 'trong', 'liên', 'và', 'cho', 'vay', 'thiếu', 'hụt', 'vốn', 'trong', 'của', 'nhnn', 'tctd', 'giảm', 'từ', 'năm', 'xuống', 'năm', 'số', 'ngày', 'về', 'mức', 'cho', 'vay', 'bằng', 'vnd', 'của', 'tctd', 'vay', 'để', 'vốn', 'ngành', 'theo', 'đó', 'cho', 'vay', 'bằng', 'vnd', 'của', 'tctd', 'vay', 'để', 'vốn', 'ngành', 'giảm', 'từ', 'năm', 'xuống', 'năm', 'cho', 'vay', 'bằng', 'vnd', 'của', 'và', 'các', 'vốn', 'này', 'giảm', 'từ', 'năm', 'xuống', 'năm'], ['năm', 'nay', 'lọc', 'hóa', 'dầu', 'bsr', 'lên', 'lớn', 'cho', 'lọc', 'dầu', 'dung', 'quất', 'đề', 'ra', 'mức', 'lãi', 'giảm', 'gần', 'theo', 'vừa', 'được', 'ban', 'bsr', 'này', 'sẽ', 'lọc', 'dầu', 'dung', 'quất', 'lần', 'thứ', 'sẽ', 'và', 'dừng', 'về', 'để', 'này', 'với', 'trên', 'bsr', 'và', 'hơn', 'triệu', 'tấn', 'gần', 'tấn', 'xăng', 'ron', 'gần', 'tấn', 'xăng', 'ron', 'và', 'khác', 'được', 'đề', 'ra', 'là', 'hơn', 'tỷ', 'đồng', 'sau', 'thuế', 'hơn', 'tỷ', 'đồng', 'trong', 'khi', 'giảm', 'lại', 'giảm', 'đến', 'so', 'với', 'trên', 'dựa', 'vào', 'giá', 'năm', 'nay', 'đạt', 'usd', 'một', 'thùng', 'bán', 'hàng', 'và', 'của', 'các', 'được', 'dự', 'phóng', 'là', 'đồng', 'một', 'lít', 'đồng', 'một', 'lít', 'xăng', 'ron', 'và', 'đồng', 'một', 'lít', 'xăng', 'ron', 'tỷ', 'đồng', 'của', 'bsr', 'sau', 'thuế', 'k', 'k', 'k', 'k', 'k', 'vnexpress', 'của', 'bsr', 'tự', 'đưa', 'ra', 'thấp', 'hơn', 'nhiều', 'so', 'với', 'của', 'vndirect', 'cho', 'biết', 'bsr', 'sẽ', 'đóng', 'cửa', 'lọc', 'dầu', 'dung', 'quất', 'trong', 'khoảng', 'ngày', 'sẽ', 'bị', 'bởi', 'thấp', 'hơn', 'và', 'trong', 'với', 'usd', 'một', 'thùng', 'nhóm', 'vndirect', 'dự', 'phóng', 'của', 'bsr', 'đạt', 'hơn', 'tỷ', 'đồng', 'giảm', 'hơn', 'trước', 'thuế', 'đạt', 'hơn', 'tỷ', 'đồng', 'giảm', 'gần', 'từ', 'mức', 'của', 'năm', 'nhưng', 'vẫn', 'cao', 'hơn', 'trước', 'ukraine', 'này', 'crack', 'spread', 'khoảng', 'giữa', 'giá', 'và', 'giá', 'các', 'lọc', 'dầu', 'được', 'ở', 'mức', 'cao', 'do', 'cuộc', 'tại', 'ukraine', 'là', 'tốt', 'các', 'lọc', 'dầu', 'như', 'bsr', 'trong', 'vài', 'năm', 'tới', 'thêm', 'vào', 'đó', 'này', 'với', 'ròng', 'hơn', 'tỷ', 'đồng', 'vào', 'cuối', 'điều', 'này', 'sẽ', 'giúp', 'hưởng', 'lợi', 'từ', 'cao', 'mb', 'mbs', 'cũng', 'đưa', 'ra', 'dự', 'phóng', 'và', 'ở', 'mức', 'hơn', 'so', 'với', 'ban', 'bsr', 'theo', 'đó', 'và', 'lãi', 'sau', 'thuế', 'giảm', 'và', 'nhóm', 'này', 'việc', 'dừng', 'để', 'chỉ', 'làm', 'cho', 'và', 'giảm', 'khoảng', 'trong', 'khi', 'đó', 'xăng', 'dầu', 'trong', 'nước', 'vẫn', 'cho', 'việc', 'với', 'cao', 'trong', 'vndirect', 'cho', 'rằng', 'của', 'bsr', 'sẽ', 'tăng', 'vào', 'năm', 'với', 'gần', 'so', 'với', 'cùng', 'kỳ', 'năm', 'trước', 'với', 'cao', 'hơn', 'sau', 'đợt', 'còn', 'mbs', 'tin', 'được', 'sẽ', 'tạo', 'cho', 'này', 'các', 'lớn', 'trong', 'trung', 'và', 'ban', 'bsr', 'cũng', 'cho', 'biết', 'sẽ', 'và', 'thử', 'các', 'mới', 'để', 'giỏ', 'cho', 'nâng', 'cao', 'và', 'cũng', 'các', 'bước', 'của', 'lọc', 'dầu', 'dung', 'quất'], ['tăng', 'của', 'fed', 'jerome', 'powell', 'nhằm', 'ghìm', 'đang', 'bị', 'sau', 'vụ', 'của', 'silicon', 'valley', 'bank', 'một', 'tuần', 'trước', 'cục', 'mỹ', 'fed', 'jerome', 'powell', 'khiến', 'khi', 'nói', 'rằng', 'fed', 'cần', 'tăng', 'với', 'nhanh', 'hơn', 'so', 'với', 'mức', 'điểm', 'hồi', 'tháng', 'để', 'nhưng', 'chỉ', 'vài', 'ngày', 'sau', 'silicon', 'valley', 'bank', 'svb', 'và', 'signature', 'bank', 'bị', 'đóng', 'cửa', 'mỹ', 'và', 'fed', 'phải', 'tung', 'ra', 'một', 'cho', 'vay', 'lớn', 'để', 'khi', 'nhiều', 'với', 'bị', 'trên', 'cho', 'thấy', 'đẩy', 'mỹ', 'vào', 'mỹ', 'năm', 'đã', 'giảm', 'gần', 'khi', 'các', 'rằng', 'fed', 'sẽ', 'giảm', 'tăng', 'là', 'dừng', 'thắt', 'chặt', 'một', 'năm', 'qua', 'các', 'mỹ', 'cũng', 'trượt', 'dốc', 'theo', 'bloomberg', 'điều', 'đáng', 'là', 'sự', 'của', 'svb', 'và', 'signature', 'bank', 'chỉ', 'là', 'sự', 'cho', 'những', 'từ', 'thắt', 'chặt', 'của', 'fed', 'mới', 'buộc', 'fed', 'cục', 'mỹ', 'fed', 'jerome', 'powell', 'ảnh', 'bloomberg', 'cục', 'mỹ', 'fed', 'jerome', 'powell', 'ảnh', 'bloomberg', 'trước', 'nhà', 'tăng', 'lãi', 'ở', 'vừa', 'phải', 'hơn', 'lorie', 'logan', 'fed', 'dallas', 'của', 'fed', 'về', 'đã', 'cách', 'hơn', 'sau', 'những', 'đợt', 'tăng', 'mạnh', 'giảm', 'tốc', 'là', 'cách', 'đưa', 'ra', 'tốt', 'nhất', 'logan', 'cho', 'biết', 'trong', 'bài', 'về', 'hồi', 'tháng', 'theo', 'tại', 'fed', 'dựa', 'vào', 'của', 'nền', 'để', 'tăng', 'lãi', 'mạnh', 'hơn', 'và', 'sẽ', 'này', 'đến', 'nay', 'fed', 'đã', 'tăng', 'lãi', 'lần', 'các', 'đang', 'cho', 'thấy', 'sự', 'chia', 'phe', 'của', 'với', 'câu', 'hỏi', 'liệu', 'fed', 'có', 'giữ', 'nguyên', 'hay', 'không', 'vào', 'việc', 'giảm', 'cuối', 'năm', 'goldman', 'sachs', 'group', 'hiện', 'fed', 'không', 'tăng', 'tuần', 'tới', 'các', 'nhà', 'của', 'barclays', 'cũng', 'vậy', 'đây', 'là', 'lần', 'trong', 'này', 'fed', 'về', 'của', 'họ', 'marc', 'sumerlin', 'người', 'evenflow', 'macro', 'tại', 'washington', 'cho', 'biết', 'được', 'để', 'và', 'họ', 'đã', 'làm', 'điều', 'đó', 'nhưng', 'lúc', 'này', 'họ', 'phải', 'với', 'một', 'để', 'họ', 'phải', 'ngừng', 'nâng', 'lãi', 'nhưng', 'để', 'ghìm', 'họ', 'phải', 'thắt', 'chặt', 'hơn', 'nữa', 'trong', 'sự', 'chững', 'lại', 'của', 'và', 'bị', 'cho', 'thấy', 'tăng', 'thêm', 'sẽ', 'là', 'nếu', 'mạnh', 'mức', 'tăng', 'điểm', 'sẽ', 'được', 'tính', 'tới', 'trong', 'các', 'cuộc', 'họp', 'tháng', 'hoặc', 'tháng', 'anna', 'wong', 'trưởng', 'tại', 'mỹ', 'của', 'bloomberg', 'cuối', 'năm', 'fed', 'từng', 'phải', 'khi', 'hơn', 'nhiều', 'so', 'với', 'có', 'nhiều', 'cho', 'rằng', 'tuần', 'trước', 'của', 'powell', 'cũng', 'không', 'còn', 'với', 'những', 'đang', 'trong', 'nữa', 'việc', 'lao', 'dốc', 'trong', 'phiên', 'đầu', 'tuần', 'này', 'khiến', 'với', 'tháng', 'trước', 'khi', 'nổ', 'ra', 'các', 'đã', 'gây', 'ra', 'dario', 'perkins', 'nhà', 'học', 'tại', 'ts', 'lombard', 'cho', 'biết', 'dù', 'vậy', 'những', 'người', 'fed', 'cũng', 'như', 'các', 'rằng', 'của', 'vẫn', 'chưa', 'trong', 'một', 'gửi', 'các', 'nhà', 'tại', 'lh', 'meyer', 'monetary', 'policy', 'analytics', 'viết', 'những', 'này', 'sẽ', 'khiến', 'mọi', 'người', 'hơn', 'nhưng', 'phải', 'được', 'với', 'bức', 'tranh', 'đang', 'xấu', 'đi', 'họ', 'fed', 'vẫn', 'tăng', 'lãi', 'nhưng', 'tăng', 'điểm', 'vào', 'tháng', 'đã', 'giảm'], ['tổ', 'được', 'lập', 'tại', 'các', 'bộ', 'và', 'nhằm', 'vốn', 'công', 'năm', 'tổ', 'này', 'vừa', 'được', 'phạm', 'minh', 'chính', 'ký', 'ngày', 'các', 'khái', 'trần', 'hồng', 'hà', 'trần', 'lưu', 'quang', 'và', 'hồ', 'đức', 'phớc', 'dũng', 'làm', 'của', 'tổ', 'này', 'theo', 'tổ', 'sẽ', 'trong', 'công', 'năm', 'nay', 'tại', 'các', 'bộ', 'ngành', 'và', 'có', 'đạt', 'dưới', 'mức', 'cả', 'nước', 'các', 'tổ', 'sẽ', 'những', 'trong', 'công', 'vốn', 'oda', 'và', 'vay', 'của', 'các', 'nhà', 'tại', 'các', 'các', 'tổ', 'này', 'sẽ', 'việc', 'lập', 'giao', 'công', 'vốn', 'năm', 'các', 'tổ', 'cũng', 'trong', 'điểm', 'nghẽn', 'khi', 'công', 'tại', 'từng', 'bộ', 'trong', 'đó', 'có', 'người', 'đứng', 'đầu', 'từ', 'đó', 'tổ', 'và', 'các', 'nhằm', 'đẩy', 'nhanh', 'vốn', 'công', 'bến', 'lức', 'long', 'thành', 'cắt', 'huyện', 'tp', 'hcm', 'ảnh', 'bến', 'lức', 'long', 'thành', 'cắt', 'huyện', 'tp', 'hcm', 'ảnh', 'của', 'bộ', 'cho', 'thấy', 'vốn', 'công', 'đạt', 'hơn', 'vốn', 'giao', 'trong', 'tháng', 'đầu', 'năm', 'hơn', 'tỷ', 'đồng', 'mức', 'này', 'thấp', 'hơn', 'cùng', 'kỳ', 'trên', 'và', 'giao', 'các', 'có', 'trên', 'là', 'điện', 'biên', 'lâm', 'đồng', 'trên', 'bộ', 'và', 'có', 'dưới', 'trong', 'đó', 'bộ', 'chưa', 'vốn', 'cùng', 'đó', 'bộ', 'và', 'chưa', 'hết', 'vốn', 'công', 'năm', 'nay', 'năm', 'nay', 'tổng', 'vốn', 'công', 'được', 'giao', 'hơn', 'tỷ', 'đồng', 'số', 'này', 'tức', 'hơn', 'tỷ', 'đồng'], ['giá', 'tiền', 'số', 'lớn', 'nhất', 'lần', 'đầu', 'vượt', 'usd', 'kể', 'từ', 'mùa', 'hè', 'khi', 'về', 'và', 'khuya', 'giá', 'bitcoin', 'tăng', 'thẳng', 'đứng', 'lên', 'hơn', 'usd', 'một', 'tăng', 'trong', 'giờ', 'đây', 'là', 'mức', 'cao', 'nhất', 'tháng', 'qua', 'này', 'giữ', 'quanh', 'usd', 'suốt', 'đêm', 'sau', 'đó', 'lùi', 'về', 'vùng', 'usd', 'khi', 'bước', 'sang', 'ngày', 'mức', 'này', 'vẫn', 'cao', 'hơn', 'nhiều', 'so', 'với', 'giá', 'bitcoin', 'nhiều', 'tháng', 'qua', 'theo', 'coindesk', 'các', 'rằng', 'sẽ', 'không', 'và', 'cục', 'mỹ', 'fed', 'sẽ', 'tăng', 'trong', 'tới', 'giá', 'cpi', 'của', 'mỹ', 'giảm', 'từ', 'trong', 'tháng', 'xuống', 'vào', 'tháng', 'nhiều', 'bên', 'cho', 'rằng', 'này', 'mang', 'lại', 'mới', 'cho', 'fed', 'về', 'bitcoin', 'tăng', 'mạnh', 'vì', 'thanh', 'khoản', 'đang', 'và', 'chậm', 'lại', 'joe', 'ziolkowski', 'ceo', 'relm', 'insurance', 'cuối', 'tuần', 'rồi', 'silicon', 'valley', 'bank', 'sbv', 'khiến', 'tiền', 'số', 'vì', 'mất', 'đi', 'các', 'với', 'ngành', 'coindesk', 'từng', 'các', 'tiền', 'số', 'sau', 'và', 'điều', 'này', 'gây', 'lớn', 'với', 'từ', 'các', 'ông', 'ziolkowski', 'cho', 'rằng', 'tiền', 'số', 'vẫn', 'sẽ', 'bơm', 'rất', 'nhiều', 'vào', 'nền', 'và', 'thêm', 'cho', 'bitcoin', 'như', 'một', 'phi', 'cho', 'theo', 'ông', 'các', 'đang', 'có', 'thêm', 'để', 'vào', 'thuyết', 'này', 'hiện', 'đè', 'nặng', 'lên', 'fed', 'trong', 'chậm', 'ngừng', 'việc', 'tăng', 'ông', 'nêu', 'với', 'trên', 'đà', 'bitcoin', 'và', 'các', 'đang', 'diễn', 'ra', 'theo', 'forbes', 'các', 'nhà', 'của', 'goldman', 'sachs', 'hiện', 'không', 'còn', 'fed', 'sẽ', 'tăng', 'vào', 'cuối', 'tháng', 'này', 'nhà', 'trưởng', 'jan', 'hatzius', 'của', 'phố', 'wall', 'chỉ', 'ra', 'sự', 'gần', 'đây', 'trong', 'là', 'chính', 'alex', 'kuptsikevich', 'cấp', 'cao', 'của', 'fxpro', 'vẫn', 'rằng', 'bitcoin', 'phải', 'với', 'một', 'bài', 'về', 'nếu', 'trong', 'tới', 'tiền', 'số', 'không', 'bị', 'đây', 'sẽ', 'là', 'một', 'cho', 'thấy', 'đợt'], ['người', 'gửi', 'tiền', 'tại', 'svb', 'các', 'khoản', 'lớn', 'hơn', 'usd', 'mức', 'không', 'được', 'sẽ', 'được', 'tiền', 'của', 'mình', 'kể', 'từ', 'ngày', 'trong', 'chung', 'hôm', 'mỹ', 'janet', 'yellen', 'cục', 'mỹ', 'fed', 'jerome', 'powell', 'và', 'tiền', 'gửi', 'fdic', 'martin', 'j', 'gruenberg', 'cho', 'biết', 'tiền', 'gửi', 'tại', 'svb', 'sẽ', 'được', 'các', 'khoản', 'không', 'được', 'theo', 'của', 'fdic', 'lớn', 'hơn', 'usd', 'người', 'gửi', 'sẽ', 'được', 'tiền', 'của', 'mình', 'kể', 'từ', 'ngày', 'đây', 'là', 'của', 'mỹ', 'nhằm', 'việc', 'các', 'bị', 'thêm', 'nữa', 'nó', 'cũng', 'giúp', 'các', 'gửi', 'số', 'tiền', 'lớn', 'tại', 'svb', 'trả', 'lương', 'và', 'mỹ', 'cũng', 'người', 'dân', 'sẽ', 'không', 'phải', 'chịu', 'với', 'khoản', 'nào', 'đến', 'svb', 'mỹ', 'đang', 'về', 'của', 'nước', 'này', 'sau', 'vụ', 'của', 'silicon', 'valley', 'bank', 'cuối', 'tuần', 'trước', 'sau', 'vài', 'ngày', 'rơi', 'vào', 'vì', 'thiếu', 'vốn', 'svb', 'đã', 'bị', 'california', 'đóng', 'cửa', 'hôm', 'cho', 'fdic', 'đây', 'là', 'vụ', 'lớn', 'nhì', 'ngành', 'mỹ', 'sau', 'washington', 'mutual', 'năm', 'chỉ', 'hai', 'ngày', 'sau', 'đó', 'đến', 'lượt', 'signature', 'bank', 'với', 'giới', 'tiền', 'số', 'bị', 'new', 'york', 'đóng', 'cửa', 'và', 'cho', 'fdic', 'này', 'có', 'tỷ', 'usd', 'và', 'tỷ', 'usd', 'tiền', 'gửi', 'một', 'bộ', 'mỹ', 'các', 'của', 'không', 'nhằm', 'svb', 'và', 'của', 'svb', 'vẫn', 'sẽ', 'chịu', 'người', 'này', 'cho', 'biết', 'nhiều', 'cũng', 'đang', 'gặp', 'svb', 'sau', 'vụ', 'của', 'này', 'nhiều', 'đã', 'lao', 'dốc', 'theo', 'fed', 'cũng', 'sẽ', 'lập', 'cấp', 'vốn', 'khoản', 'vay', 'cho', 'các', 'với', 'hơn', 'fed', 'cho', 'rằng', 'này', 'có', 'đủ', 'lớn', 'để', 'các', 'khoản', 'tiền', 'gửi', 'không', 'được', 'trong', 'mỹ', 'bộ', 'cũng', 'sẽ', 'dành', 'ra', 'tỷ', 'usd', 'từ', 'quỹ', 'cho', 'của', 'fed', 'dù', 'vậy', 'fed', 'không', 'dùng', 'đến', 'số', 'tiền', 'này', 'các', 'của', 'mỹ', 'sáng', 'nay', 'tăng', 'điểm', 'nhờ', 'về', 'của', 's', 'p', 'tăng', 'nasdaq', 'tăng', 'eurostoxx', 'lên', 'ftse', 'anh', 'tăng', 'msci', 'trừ', 'nhật', 'bản', 'hiện', 'tăng', 'kospi', 'hàn', 'quốc', 'tăng', 'trong', 'khi', 'đó', 'nikkei', 'của', 'nhật', 'bản', 'lại', 'giảm', 'giá', 'usd', 'sáng', 'nay', 'đi', 'xuống', 'sau', 'khi', 'goldman', 'sachs', 'fed', 'không', 'nâng', 'lãi', 'trong', 'cuộc', 'họp', 'tuần', 'tới', 'trước', 'vụ', 'svb', 'fed', 'nâng', 'thêm', 'điểm', 'trên', 'tiền', 'số', 'bitcoin', 'hiện', 'tăng', 'lên', 'usd', 'một', 'đồng', 'sau', 'về', 'các', 'của', 'mỹ', 'cuối', 'tuần', 'trước', 'giá', 'các', 'tiền', 'số', 'lao', 'dốc', 'do', 'svb', 'là', 'chuyên', 'cho', 'vay', 'và', 'nhận', 'tiền', 'gửi', 'của', 'các', 'startup', 'trong', 'đó', 'có', 'nhiều', 'startup'], ['sau', 'nhnn', 'giảm', 'đã', 'có', 'phiên', 'tăng', 'điểm', 'mạnh', 'trong', 'đó', 'nhóm', 'ngành', 'phủ', 'sắc', 'tím', 'các', 'mã', 'tăng', 'trần', 'nguồn', 'vietstockfinance', 'đóng', 'cửa', 'phiên', 'ở', 'mức', 'điểm', 'tăng', 'so', 'với', 'phiên', 'trước', 'và', 'tăng', 'điểm', 'về', 'số', 'các', 'như', 'gặp', 'là', 'nhóm', 'đạt', 'đà', 'tăng', 'mạnh', 'nhất', 'phiên', 'với', 'mức', 'tăng', 'hơn', 'phe', 'mua', 'thắng', 'đẩy', 'mã', 'ngành', 'tăng', 'kịch', 'trần', 'mã', 'phủ', 'sắc', 'xanh', 'chỉ', 'có', 'một', 'mã', 'và', 'không', 'có', 'mã', 'nào', 'trước', 'đó', 'nhnn', 'đã', 'các', 'giảm', 'từ', 'điểm', 'theo', 'số', 'tái', 'cấp', 'vốn', 'giữ', 'nguyên', 'ở', 'mức', 'năm', 'tái', 'giảm', 'từ', 'năm', 'xuống', 'năm', 'cho', 'vay', 'qua', 'đêm', 'trong', 'liên', 'và', 'cho', 'vay', 'thiếu', 'hụt', 'vốn', 'trong', 'của', 'nhnn', 'tctd', 'giảm', 'từ', 'năm', 'xuống', 'năm', 'đà', 'tăng', 'của', 'chung', 'và', 'nhóm', 'khoán', 'cho', 'thấy', 'của', 'trước', 'của', 'nhnn', 'theo', 'của', 'giới', 'việc', 'giảm', 'sẽ', 'là', 'và', 'của', 'các', 'ctck', 'gần', 'đây', 'các', 'ctck', 'cũng', 'đã', 'hé', 'lộ', 'năm', 'trong', 'đó', 'đưa', 'đi', 'lùi', 'của', 'ctcp', 'bản', 'việt', 'vcsc', 'hose', 'vci', 'dù', 'trước', 'thuế', 'ở', 'mức', 'tỷ', 'đồng', 'nhưng', 'vẫn', 'thấp', 'hơn', 'so', 'với', 'mức', 'năm', 'đạt', 'tỷ', 'đồng', 'tăng', 'so', 'với', 'mức', 'năm', 'các', 'của', 'vci', 'được', 'dựa', 'trên', 'quanh', 'điểm', 'vào', 'cuối', 'năm', 'chung', 'nhóm', 'đặt', 'giảm', 'lãi', 'ctcp', 'fpt', 'fpts', 'hose', 'fts', 'lên', 'đạt', 'tỷ', 'đồng', 'lãi', 'trước', 'thuế', 'năm', 'giảm', 'trong', 'khi', 'đó', 'đạt', 'tỷ', 'đồng', 'giảm', 'so', 'với', 'năm', 'trước', 'fts', 'kém', 'trong', 'nền', 'không', 'mấy', 'các', 'gặp', 'nhiều', 'cùng', 'với', 'đó', 'fts', 'cũng', 'không', 'có', 'thêm', 'mới', 'cũng', 'như', 'về', 'phí', 'cũng', 'hơn', 'ctcp', 'việt', 'nam', 'upcom', 'csi', 'thì', 'đặt', 'lãi', 'sau', 'thuế', 'giảm', 'xuống', 'còn', 'tỷ', 'đồng', 'ước', 'đạt', 'tỷ', 'đồng', 'giảm', 'so', 'với', 'năm', 'trước', 'vẫn', 'có', 'nhiều', 'đặt', 'ở', 'nhóm', 'đặt', 'lãi', 'tăng', 'năm', 'ctcp', 'và', 'việt', 'nam', 'hnx', 'vig', 'đặt', 'lãi', 'tăng', 'gần', 'gấp', 'lần', 'năm', 'lên', 'tỷ', 'đồng', 'còn', 'ở', 'mức', 'tỷ', 'đồng', 'tăng', 'so', 'với', 'năm', 'ctcp', 'phú', 'hưng', 'upcom', 'phs', 'cũng', 'đặt', 'lãi', 'trước', 'thuế', 'gần', 'gấp', 'lần', 'ước', 'đạt', 'năm', 'lên', 'khoảng', 'tỷ', 'đồng', 'trong', 'khi', 'đó', 'đạt', 'tỷ', 'đồng', 'tăng', 'so', 'với', 'ước', 'đạt', 'năm', 'trước', 'ctcp', 'mb', 'hnx', 'mbs', 'đặt', 'và', 'lãi', 'trước', 'thuế', 'năm', 'là', 'tỷ', 'đồng', 'và', 'tỷ', 'đồng', 'tăng', 'và', 'so', 'với', 'năm', 'trước', 'đó', 'cũng', 'tăng', 'lên', 'tỷ', 'đồng'], ['tại', 'argentina', 'vượt', 'lần', 'trong', 'hơn', 'năm', 'giữa', 'lúc', 'vượt', 'khỏi', 'tầm', 'của', 'nước', 'này', 'theo', 'argentina', 'indec', 'trong', 'tháng', 'giá', 'cpi', 'tăng', 'so', 'với', 'cùng', 'kỳ', 'nằm', 'trong', 'nhóm', 'cao', 'nhất', 'so', 'với', 'tháng', 'trước', 'cpi', 'tăng', 'và', 'thuộc', 'nhóm', 'tăng', 'mạnh', 'nhất', 'với', 'mức', 'tăng', 'so', 'với', 'tháng', 'trước', 'kế', 'đó', 'là', 'và', 'argentina', 'rơi', 'vào', 'vòng', 'xoáy', 'và', 'đã', 'trải', 'qua', 'tháng', 'hơn', 'thường', 'là', 'mức', 'với', 'nền', 'để', 'đà', 'tăng', 'của', 'và', 'đồng', 'peso', 'của', 'alberto', 'fernandez', 'đã', 'với', 'ngành', 'việc', 'này', 'giúp', 'các', 'ngành', 'đó', 'mua', 'được', 'usd', 'với', 'giá', 'rẻ', 'hơn', 'các', 'hãng', 'rượu', 'được', 'dollar', 'malbec', 'các', 'hãng', 'bán', 'gói', 'trong', 'dịp', 'world', 'cup', 'được', 'dollar', 'qatar', 'còn', 'dollar', 'coldplay', 'dành', 'cho', 'các'], ['nhà', 'mới', 'của', 'bamboo', 'airways', 'sẽ', 'cho', 'hãng', 'và', 'giúp', 'ông', 'trịnh', 'văn', 'quyết', 'một', 'khoản', 'tiền', 'để', 'nếu', 'có', 'trên', 'được', 'bamboo', 'airways', 'cho', 'vnexpress', 'biết', 'chiều', 'gần', 'một', 'năm', 'qua', 'để', 'và', 'bamboo', 'airways', 'đã', 'mới', 'để', 'hãng', 'về', 'tái', 'bamboo', 'airways', 'cho', 'biết', 'đã', 'tìm', 'được', 'mới', 'để', 'các', 'cũ', 'là', 'ông', 'trịnh', 'và', 'các', 'nhưng', 'hãng', 'chưa', 'và', 'cho', 'biết', 'sẽ', 'trong', 'tới', 'mới', 'đã', 'và', 'chịu', 'các', 'nợ', 'gốc', 'và', 'lãi', 'các', 'khoản', 'vay', 'trước', 'đây', 'bởi', 'các', 'cũ', 'đã', 'dùng', 'của', 'hãng', 'bay', 'này', 'để', 'tại', 'mới', 'cũng', 'cho', 'ông', 'quyết', 'một', 'khoản', 'tiền', 'riêng', 'được', 'nộp', 'vào', 'của', 'để', 'nếu', 'có', 'theo', 'hồi', 'tháng', 'sau', 'của', 'các', 'cấp', 'cao', 'flc', 'cục', 'cho', 'biết', 'tại', 'bamboo', 'airways', 'flc', 'góp', 'hơn', 'tỷ', 'đồng', 'ông', 'quyết', 'nắm', 'vốn', 'flc', 'tỷ', 'đồng', 'ông', 'quyết', 'góp', 'hơn', 'tỷ', 'đồng', 'như', 'vậy', 'tổng', 'vốn', 'góp', 'của', 'cựu', 'flc', 'bamboo', 'airways', 'khoảng', 'tỷ', 'đồng', 'chiếm', 'vốn', 'tại', 'hãng', 'bay', 'này', 'với', 'là', 'bamboo', 'airways', 'cho', 'biết', 'đã', 'các', 'từ', 'các', 'cũ', 'cho', 'mới', 'việc', 'được', 'dưới', 'sự', 'và', 'của', 'các', 'có', 'đầu', 'tháng', 'này', 'hđqt', 'flc', 'lê', 'bá', 'nguyên', 'cũng', 'này', 'sẽ', 'tại', 'bamboo', 'airways', 'đây', 'là', 'một', 'trong', 'những', 'để', 'tái', 'flc', 'theo', 'ông', 'nguyên', 'hãng', 'bay', 'này', 'có', 'lãi', 'nên', 'năm', 'flc', 'đã', 'phải', 'trích', 'lập', 'cho', 'khoản', 'trên', 'tỷ', 'đồng', 'và', 'tăng', 'mạnh', 'trích', 'lập', 'tỷ', 'đồng', 'cho', 'bamboo', 'airways', 'vẫn', 'đặt', 'chiếm', 'hãng', 'đã', 'trong', 'nước', 'và', 'vào', 'cuối', 'tháng', 'với', 'thẳng', 'với', 'hãng', 'mở', 'thêm', 'nhiều', 'tuyến', 'đến', 'australia'], ['giá', 'tháng', 'khiến', 'fed', 'phải', 'giữa', 'hạ', 'nhiệt', 'và', 'cục', 'mỹ', 'hôm', 'cho', 'biết', 'lõi', 'tháng', 'của', 'nước', 'này', 'không', 'giá', 'và', 'tăng', 'so', 'với', 'tháng', 'trước', 'và', 'so', 'với', 'này', 'cũng', 'cao', 'hơn', 'tháng', 'đẩy', 'cục', 'mỹ', 'fed', 'vào', 'lưỡng', 'nan', 'họ', 'cần', 'họ', 'phải', 'đang', 'tăng', 'lên', 'sau', 'hai', 'vụ', 'silicon', 'valley', 'bank', 'và', 'signature', 'bank', 'cpi', 'tháng', 'cho', 'thấy', 'fed', 'ngồi', 'yên', 'và', 'derek', 'tang', 'một', 'nhà', 'tại', 'lh', 'meyer', 'monetary', 'policy', 'analytics', 'ở', 'washington', 'cho', 'biết', 'sự', 'cuối', 'tuần', 'trước', 'nhằm', 'giúp', 'họ', 'thắt', 'chặt', 'fed', 'không', 'muốn', 'phải', 'đang', 'fed', 'jerome', 'powell', 'và', 'các', 'của', 'ông', 'rằng', 'còn', 'quá', 'sớm', 'để', 'thắt', 'chặt', 'các', 'từ', 'tăng', 'vẫn', 'hết', 'cục', 'mỹ', 'fed', 'jerome', 'powell', 'ảnh', 'bloomberg', 'cục', 'mỹ', 'fed', 'jerome', 'powell', 'ảnh', 'bloomberg', 'giới', 'cho', 'rằng', 'chính', 'việc', 'fed', 'thắt', 'chặt', 'quá', 'nhanh', 'đã', 'gây', 'cho', 'khiến', 'svb', 'fed', 'đang', 'với', 'một', 'rằng', 'có', 'nên', 'thắt', 'chặt', 'bằng', 'cách', 'tăng', 'lãi', 'thêm', 'không', 'hay', 'sẽ', 'dừng', 'lại', 'kathy', 'bostjancic', 'trưởng', 'tại', 'nationwide', 'life', 'insurance', 'cho', 'biết', 'bà', 'cho', 'rằng', 'nếu', 'phát', 'nhờ', 'các', 'cuối', 'tuần', 'trước', 'fed', 'nghiêng', 'về', 'cách', 'tăng', 'lãi', 'này', 'cũng', 'cho', 'rằng', 'không', 'phải', 'là', 'của', 'fed', 'lúc', 'này', 'họ', 'còn', 'cần', 'sự', 'và', 'cho', 'vay', 'nữa', 'fed', 'sẽ', 'họp', 'vào', 'ngày', 'nhà', 'từng', 'fed', 'nâng', 'lãi', 'thêm', 'điểm', 'nhưng', 'các', 'chỉ', 'ra', 'fed', 'chỉ', 'nâng', 'điểm', 'hoặc', 'giữ', 'nguyên', 'trưởng', 'mỹ', 'tại', 'renaissance', 'macro', 'research', 'cpi', 'là', 'một', 'lời', 'rằng', 'vẫn', 'chưa', 'ông', 'cho', 'rằng', 'fed', 'tăng', 'thêm', 'điểm', 'vào', 'tuần', 'tới', 'mức', 'này', 'đã', 'tính', 'tới', 'từ', 'sbv', 'nếu', 'không', 'mức', 'tăng', 'là', 'trưởng', 'tại', 'bank', 'of', 'america', 'corp', 'cũng', 'nếu', 'fed', 'trong', 'việc', 'ngăn', 'lan', 'rộng', 'trong', 'ngành', 'và', 'các', 'nhà', 'sẽ', 'quay', 'với', 'tăng', 'đang', 'ở', 'trong', 'một', 'rất', 'khó', 'mọi', 'thứ', 'sẽ', 'diễn', 'ra', 'như', 'ethan', 'nói', 'trên', 'bloomberg', 'tv', 'sau', 'về', 'cpi', 'tháng', 'dù', 'vậy', 'ông', 'cho', 'rằng', 'các', 'sẽ', 'có', 'và', 'fed', 'sẽ', 'quay', 'tăng', 'fed', 'vẫn', 'sẽ', 'phải', 'chống', 'lại', 'ông', 'nói'], ['trong', 'cuộc', 'với', 'jamie', 'dimon', 'ceo', 'jpmorgan', 'trong', 'ngày', 'mỹ', 'janet', 'yellen', 'đưa', 'ra', 'điều', 'gì', 'sẽ', 'xảy', 'ra', 'nếu', 'những', 'lớn', 'nhất', 'nước', 'mỹ', 'gửi', 'hàng', 'tỷ', 'đô', 'vào', 'first', 'republic', 'đang', 'gần', 'bờ', 'vực', 'bởi', 'sự', 'của', 'người', 'gửi', 'tiền', 'ông', 'dimon', 'vào', 'trên', 'ngay', 'sau', 'đó', 'vị', 'ceo', 'jpmorgan', 'đã', 'với', 'người', 'đứng', 'đầu', 'của', 'còn', 'lại', 'trong', 'top', 'bank', 'of', 'america', 'citigroup', 'và', 'wells', 'fargo', 'jamie', 'dimon', 'ceo', 'jpmorgan', 'sau', 'của', 'svb', 'và', 'signature', 'bank', 'những', 'ở', 'các', 'nhỏ', 'và', 'họ', 'chuyển', 'tiền', 'gửi', 'sang', 'các', 'lớn', 'hơn', 'và', 'những', 'lớn', 'lại', 'lấy', 'một', 'phần', 'tiền', 'của', 'họ', 'để', 'bơm', 'vào', 'một', 'đang', 'gặp', 'ở', 'san', 'francisco', 'là', 'một', 'cuộc', 'lan', 'rộng', 'sau', 'ngày', 'gọi', 'điện', 'và', 'ceo', 'của', 'đã', 'tỷ', 'usd', 'cho', 'first', 'republic', 'sẽ', 'gửi', 'tiền', 'ở', 'đó', 'ngày', 'với', 'tỷ', 'usd', 'họ', 'sẽ', 'đủ', 'để', 'cứu', 'first', 'republic', 'một', 'về', 'mảng', 'các', 'hoặc', 'là', 'lượng', 'này', 'sẽ', 'giúp', 'first', 'republic', 'có', 'thêm', 'để', 'tìm', 'khác', 'bán', 'hoặc', 'đó', 'là', 'mà', 'các', 'ở', 'mỹ', 'đưa', 'ra', 'để', 'cơn', 'của', 'năm', 'mỹ', 'janet', 'yellen', 'chưa', 'gì', 'gói', 'do', 'ông', 'dimon', 'và', 'bà', 'yellen', 'đã', 'bị', 'so', 'với', 'cơn', 'của', 'năm', 'khi', 'ấy', 'ngài', 'j', 'morgan', 'người', 'đã', 'nên', 'jpmorgan', 'đã', 'mời', 'các', 'nhà', 'ở', 'phố', 'wall', 'vào', 'riêng', 'của', 'mình', 'và', 'họ', 'cho', 'trust', 'company', 'of', 'america', 'tại', 'đây', 'ông', 'đã', 'tìm', 'cách', 'một', 'loạt', 'các', 'vụ', 'có', 'làm', 'ngành', 'này', 'ở', 'đó', 'các', 'phải', 'đứng', 'ra', 'vì', 'mỹ', 'ít', 'có', 'lúc', 'đó', 'chưa', 'có', 'fed', 'lần', 'này', 'các', 'đã', 'first', 'republic', 'làm', 'dấy', 'lên', 'nếu', 'này', 'đó', 'sẽ', 'là', 'một', 'mũi', 'tên', 'trúng', 'hai', 'đích', 'todd', 'baker', 'cấp', 'cao', 'tại', 'richard', 'paul', 'richman', 'thuộc', 'columbia', 'cho', 'hay', 'các', 'lớn', 'trước', 'đó', 'chịu', 'nhiều', 'chỉ', 'trích', 'vì', 'lượng', 'tiền', 'gửi', 'từ', 'các', 'nhỏ', 'và', 'với', 'các', 'lớn', 'giờ', 'một', 'phần', 'của', 'ông', 'nói', 'cuối', 'tuần', 'trước', 'mỹ', 'người', 'gửi', 'tiền', 'sau', 'sự', 'của', 'svb', 'và', 'signature', 'bank', 'hứa', 'sẽ', 'cho', 'cả', 'lượng', 'tiền', 'gửi', 'không', 'có', 'fed', 'cũng', 'đưa', 'ra', 'cho', 'vay', 'để', 'thanh', 'khoản', 'cho', 'các', 'không', 'có', 'gì', 'là', 'những', 'này', 'sẽ', 'có', 'và', 'hiện', 'vẫn', 'có', 'những', 'cho', 'thấy', 'vẫn', 'còn', 'trong', 'ngày', 'thụy', 'sỹ', 'cho', 'credit', 'suisse', 'vay', 'tỷ', 'usd', 'để', 'sau', 'đó', 'của', 'fed', 'cho', 'thấy', 'các', 'đã', 'vay', 'tỷ', 'usd', 'từ', 'hai', 'cho', 'vay', 'của', 'fed', 'trong', 'này', 'lớn', 'của', 'mỹ', 'đều', 'vào', 'một', 'người', 'trong', 'cuộc', 'cho', 'biết', 'mỹ', 'janet', 'yellen', 'đã', 'bàn', 'trước', 'về', 'này', 'với', 'các', 'cấp', 'cao', 'fed', 'jerome', 'powell', 'và', 'fdic', 'martin', 'gruenberg', 'vào', 'nhóm', 'cứ', 'trong', 'ngày', 'dù', 'vậy', 'vị', 'ceo', 'cũng', 'về', 'sự', 'của', 'gói', 'hoặc', 'liệu', 'này', 'có', 'hay', 'không', 'bà', 'yellen', 'với', 'ceo', 'cũng', 'kéo', 'chánh', 'nhà', 'trắng', 'jeff', 'zients', 'và', 'lael', 'brainard', 'vào', 'cuộc', 'vào', 'ngày', 'nhóm', 'đã', 'dần', 'có', 'là', 'được', 'mời', 'vào', 'nhóm', 'khá', 'trễ', 'hoặc', 'cần', 'thêm', 'để', 'được', 'sachs', 'nằm', 'trong', 'nhóm', 'đến', 'trễ', 'một', 'cuộc', 'gọi', 'giữa', 'mỹ', 'và', 'các', 'ceo', 'trong', 'ngày', 'đã', 'việc', 'các', 'lớn', 'thật', 'đáng', 'và', 'sự', 'của', 'bộ', 'mỹ', 'fed', 'và', 'fdic', 'cho', 'biết', 'trong', 'chung', 'không', 'phải', 'ai', 'cũng', 'với', 'đưa', 'ra', 'ngày', 'bill', 'ackman', 'cho', 'rằng', 'gói', 'này', 'là', 'tồi', 'và', 'sẽ', 'mang', 'lại', 'ông', 'nước', 'mỹ', 'cho', 'tiền', 'gửi', 'nói', 'rằng', 'đã', 'vượt', 'quá', 'mức', 'mà', 'được', 'xét', 'theo', 'gói', 'này', 'có', 'nhiều', 'điểm', 'với', 'quỹ', 'long', 'term', 'capital', 'management', 'ltcm', 'trong', 'năm', 'trong', 'đó', 'không', 'dùng', 'tới', 'tiền', 'tại', 'đó', 'fed', 'đã', 'cuộc', 'họp', 'với', 'các', 'trên', 'phố', 'wall', 'từ', 'merrill', 'lynch', 'goldman', 'sachs', 'và', 'hơn', 'khác', 'họ', 'bơm', 'tỷ', 'usd', 'vào', 'quỹ', 'ltcm', 'và', 'cú', 'sụp', 'trên', 'cũng', 'như', 'quỹ', 'ltcm', 'các', 'nhận', 'thấy', 'việc', 'first', 'republic', 'xét', 'sẽ', 'có', 'lợi', 'cho', 'họ', 'còn', 'hơn', 'là', 'gây', 'ra', 'trên', 'diện', 'rộng', 'và', 'rồi', 'họ', 'cũng', 'bị', 'vạ', 'lây', 'dựa', 'trên', 'nguồn', 'tin', 'đây', 'là', 'todd', 'phillips', 'cựu', 'fdic', 'và', 'hiện', 'đang', 'ở', 'viện', 'roosevelt', 'cho', 'hay', 'một', 'của', 'phao', 'tỷ', 'usd', 'này', 'là', 'mức', 'của', 'từng', 'các', 'đã', 'tạo', 'ra', 'một', 'chung', 'tên', 'của', 'họ', 'thành', 'các', 'nhóm', 'dựa', 'trên', 'sau', 'đó', 'bảng', 'điều', 'này', 'đặt', 'bank', 'of', 'america', 'lên', 'đầu', 'sau', 'đó', 'là', 'tới', 'gói', 'này', 'citigroup', 'là'], ['ngay', 'khi', 'đọc', 'của', 'svb', 'vào', 'cuối', 'tháng', 'thật', 'một', 'có', 'car', 'ở', 'mức', 'theo', 'chuẩn', 'basel', 'iii', 'bảng', 'thì', 'quá', 'nửa', 'là', 'có', 'tính', 'cao', 'lại', 'chết', 'vì', 'thanh', 'khoản', 'khỏe', 'mà', 'không', 'khỏe', 'một', 'có', 'car', 'cao', 'là', 'nhờ', 'vốn', 'lớn', 'hoặc', 'ít', 'với', 'này', 'car', 'cao', 'cho', 'việc', 'của', 'silicon', 'valley', 'bank', 'svb', 'ít', 'quá', 'nửa', 'là', 'usgovibond', 'và', 'bằng', 'bđs', 'do', 'các', 'không', 'có', 'nhưng', 'lại', 'có', 'rất', 'nhiều', 'câu', 'hỏi', 'là', 'lớn', 'như', 'vậy', 'lại', 'không', 'có', 'về', 'vốn', 'theo', 'basel', 'iii', 'là', 'phần', 'này', 'của', 'svb', 'nằm', 'trên', 'sổ', 'bankingbook', 'nó', 'không', 'phải', 'mà', 'chuyển', 'thành', 'trên', 'sổ', 'irrbb', 'svb', 'mua', 'nhằm', 'hưởng', 'mà', 'không', 'tới', 'giá', 'của', 'irrbb', 'được', 'và', 'phải', 'đủ', 'vốn', 'theo', 'icaap', 'chuẩn', 'vốn', 'của', 'svb', 'lại', 'cho', 'ra', 'một', 'đáng', 'theo', 'irrbb', 'của', 'svb', 'vào', 'cuối', 'năm', 'nếu', 'tăng', 'lên', 'bps', 'sẽ', 'có', 'tăng', 'đây', 'là', 'khó', 'hiểu', 'với', 'dựa', 'nhiều', 'vào', 'tiền', 'gửi', 'không', 'casa', 'này', 'là', 'lấy', 'ngắn', 'nuôi', 'dài', 'và', 'việc', 'này', 'sẽ', 'rất', 'nếu', 'tăng', 'lên', 'của', 'svb', 'cho', 'tăng', 'lên', 'là', 'có', 'lợi', 'từ', 'đó', 'đưa', 'ra', 'không', 'tăng', 'vốn', 'trong', 'năm', 'svb', 'là', 'có', 'repricing', 'gap', 'lớn', 'nhất', 'trên', 'đứng', 'đầu', 'trong', 'các', 'trong', 'khi', 'lại', 'có', 'lượng', 'tiền', 'gửi', 'phần', 'tiền', 'gửi', 'này', 'rất', 'mạnh', 'càng', 'về', 'irrbb', 'của', 'họ', 'svb', 'là', 'có', 'repricing', 'gap', 'lớn', 'nhất', 'trên', 'nguồn', 's', 'p', 'global', 'market', 'intelligence', 'svb', 'là', 'có', 'lớn', 'nhưng', 'lại', 'không', 'này', 'việc', 'cũng', 'đưa', 'ra', 'các', 'đáng', 'về', 'casa', 'của', 'họ', 'cũng', 'không', 'tốt', 'với', 'lượng', 'tiền', 'gửi', 'rất', 'thấy', 'rõ', 'khi', 'lượng', 'tiền', 'gửi', 'rất', 'mạnh', 'nhưng', 'lại', 'đưa', 'ra', 'nguồn', 'của', 'svb', 'cho', 'rằng', 'vào', 'là', 'chưa', 'vì', 'như', 'đã', 'trên', 'bảng', 'không', 'phải', 'và', 'cũng', 'cho', 'thấy', 'vẫn', 'nim', 'ở', 'mức', 'gần', 'một', 'được', 'ở', 'đây', 'là', 'chưa', 'đúng', 'do', 'không', 'thuộc', 'dạng', 'bị', 'lại', 'nhưng', 'vẫn', 'bị', 'theo', 'trong', 'và', 'ngay', 'cả', 'tính', 'vốn', 'với', 'được', 'phân', 'thành', 'loại', 'amortised', 'cost', 'htm', 'giữ', 'tới', 'đáo', 'hạn', 'fvtoci', 'afs', 'để', 'bán', 'và', 'fvtpl', 'nhằm', 'nhưng', 'với', 'basel', 'chỉ', 'phân', 'thành', 'loại', 'bankbook', 'sổ', 'và', 'trading', 'book', 'sổ', 'với', 'loại', 'này', 'cách', 'trên', 'sẽ', 'rất', 'tới', 'cách', 'basel', 'tính', 'vốn', 'vì', 'vào', 'vốn', 'car', 'hợp', 'nhất', 'thì', 'thấp', 'do', 'lại', 'ở', 'đây', 'là', 'afs', 'bị', 'lại', 'nằm', 'trên', 'oci', 'ngay', 'trong', 'bctc', 'sbv', 'cũng', 'có', 'đoạn', 'chỉ', 'rõ', 'của', 'việc', 'lại', 'trên', 'aoci', 'lũy', 'kế', 'vào', 'việc', 'tính', 'vốn', 'của', 'được', 'nữa', 'bởi', 'phải', 'cao', 'hơn', 'về', 'vốn', 'rằng', 'phần', 'này', 'không', 'trong', 'bởi', 'khi', 'đó', 'svb', 'là', 'loại', 'iv', 'không', 'phải', 'chịu', 'oci', 'vào', 'trong', 'để', 'tính', 'vốn', 'nhưng', 'tới', 'năm', 'svb', 'có', 'tỷ', 'usd', 'nên', 'chịu', 'vốn', 'của', 'nhóm', 'ii', 'và', 'buộc', 'phải', 'phần', 'oci', 'vào', 'dù', 'này', 'giữ', 'tới', 'bankingbook', 'khi', 'vào', 'afs', 'nó', 'lại', 'theo', 'giá', 'tradingbook', 'là', 'ghi', 'lỗ', 'lại', 'khiến', 'car', 'giảm', 'theo', 'của', 'basel', 'phải', 'được', 'car', 'và', 'để', 'vốn', 'việc', 'thêm', 'vốn', 'từ', 'svb', 'theo', 'đó', 'chính', 'là', 'nhằm', 'car', 'cũng', 'cho', 'thấy', 'svb', 'đã', 'một', 'phần', 'lỗ', 'từ', 'afs', 'để', 'đẩy', 'về', 'htm', 'không', 'phải', 'svb', 'không', 'biết', 'là', 'năm', 'tăng', 'mà', 'việc', 'này', 'quá', 'nhanh', 'việc', 'tỷ', 'usd', 'trong', 'khi', 'casa', 'lên', 'tới', 'cả', 'trăm', 'tỷ', 'usd', 'sẽ', 'không', 'thấm', 'vào', 'đâu', 'còn', 'làm', 'dấy', 'lên', 'car', 'cao', 'lại', 'phải', 'đi', 'tăng', 'vốn', 'đón', 'đọc', 'phần', 'svb', 'khởi', 'nguồn', 'cho', 'các', 'lớn', 'hơn'], ['ngày', 'sở', 'và', 'có', 'sân', 'golf', 'tại', 'xã', 'huyện', 'tỉnh', 'ảnh', 'của', 'là', 'và', 'sân', 'golf', 'lỗ', 'và', 'các', 'nhằm', 'của', 'tỉnh', 'theo', 'đó', 'tổng', 'đất', 'của', 'là', 'ha', 'trong', 'đó', 'khu', 'đất', 'sân', 'golf', 'có', 'ha', 'khu', 'đất', 'ha', 'khu', 'ha', 'khu', 'đất', 'ha', 'khu', 'đất', 'ha', 'khu', 'đất', 'ha', 'khu', 'đất', 'chưa', 'được', 'về', 'có', 'phía', 'bắc', 'giáp', 'một', 'phần', 'sông', 'yên', 'và', 'đất', 'phía', 'đông', 'khu', 'tại', 'xã', 'huyện', 'của', 'ctcp', 'victoria', 'phía', 'nam', 'khu', 'tại', 'xã', 'huyện', 'của', 'ctcp', 'org', 'phía', 'tây', 'giáp', 'một', 'phần', 'sông', 'yên', 'loạt', 'ông', 'lớn', 'vào', 'tổng', 'là', 'tỷ', 'đồng', 'khoảng', 'tỷ', 'đồng', 'như', 'vậy', 'tổng', 'vốn', 'của', 'sẽ', 'khoảng', 'tỷ', 'đồng', 'với', 'mức', 'này', 'cần', 'có', 'vốn', 'là', 'tỷ', 'đồng', 'tổng', 'vốn', 'của', 'là', 'năm', 'phải', 'trong', 'không', 'quá', 'tháng', 'kể', 'từ', 'ngày', 'được', 'đất'], ['sau', 'khu', 'đất', 'hơn', 'ha', 'trên', 'con', 'đường', 'thuộc', 'quận', 'gò', 'vấp', 'từng', 'là', 'của', 'da', 'giày', 'sagoda', 'sắp', 'một', 'đây', 'là', 'khu', 'đất', 'được', 'da', 'giày', 'sagoda', 'thuê', 'tại', 'đường', 'phường', 'quận', 'gò', 'vấp', 'làm', 'giày', 'năm', 'da', 'giày', 'sagoda', 'cùng', 'với', 'tại', 'khu', 'đất', 'và', 'được', 'vốn', 'sau', 'là', 'tỷ', 'đồng', 'trong', 'đó', 'là', 'vốn', 'bán', 'cho', 'người', 'trong', 'và', 'các', 'việt', 'nam', 'vốn', 'bán', 'cho', 'vốn', 'sau', 'khi', 'phần', 'được', 'giao', 'cho', 'ctcp', 'làm', 'tại', 'sagoda', 'da', 'giày', 'sagoda', 'trước', 'đây', 'nguồn', 'năm', 'da', 'giày', 'sagoda', 'xin', 'xây', 'và', 'được', 'ubnd', 'tphcm', 'đến', 'năm', 'xin', 'đất', 'để', 'làm', 'vào', 'tháng', 'ubnd', 'tphcm', 'có', 'tại', 'số', 'đường', 'phường', 'quận', 'gò', 'vấp', 'của', 'da', 'giày', 'sagoda', 'nằm', 'tiền', 'đường', 'có', 'đất', 'rộng', 'dù', 'được', 'vào', 'tháng', 'nhưng', 'trước', 'đó', 'vào', 'tháng', 'tnhh', 'emart', 'và', 'ctcp', 'và', 'cbm', 'đã', 'emart', 'ở', 'này', 'tại', 'việt', 'nam', 'của', 'hàn', 'quốc', 'khu', 'đất', 'đến', 'nằm', 'ngay', 'con', 'đường', 'đông', 'của', 'quận', 'gò', 'vấp', 'năm', 'sau', 'vào', 'tháng', 'emart', 'bán', 'vốn', 'tại', 'emart', 'việt', 'nam', 'cho', 'ctcp', 'trường', 'hải', 'thaco', 'nay', 'là', 'ctcp', 'trường', 'hải', 'được', 'bên', 'trong', 'tháng', 'rút', 'khỏi', 'việt', 'nam', 'được', 'hàn', 'quốc', 'là', 'emart', 'gặp', 'trong', 'việc', 'từ', 'đại', 'hiện', 'có', 'vốn', 'tỷ', 'đồng', 'do', 'ông', 'trần', 'bá', 'dương', 'làm', 'hđqt', 'với', 'chủ', 'cũ', 'của', 'khu', 'đất', 'da', 'giày', 'sagoda', 'sau', 'không', 'trong', 'những', 'lần', 'ở', 'lần', 'gần', 'nhất', 'vào', 'tháng', 'vốn', 'của', 'đã', 'tăng', 'lên', 'tỷ', 'đồng', 'ông', 'tuệ', 'làm', 'hđqt', 'ông', 'bảo', 'long', 'làm', 'chính', 'là', 'các', 'da', 'thảm', 'lông', 'cừu', 'vợt', 'mặt', 'vợt', 'bị', 'thay', 'vào', 'đó', 'là', 'quyền', 'đất', 'thuộc', 'chủ', 'hoặc', 'đi', 'thuê', 'theo', 'của', 'người', 'viết', 'ông', 'tuệ', 'hiện', 'là', 'của', 'ctcp', 'đại', 'ông', 'tuệ', 'ông', 'tuệ', 'cũng', 'giữ', 'nhiều', 'của', 'nhiều', 'khác', 'trong', 'thaco', 'như', 'tnhh', 'thadico', 'hđqt', 'ctcp', 'và', 'nhà', 'còn', 'emart', 'việt', 'nam', 'sau', 'khi', 'về', 'tay', 'thaco', 'do', 'tnhh', 'thiso', 'retail', 'được', 'vào', 'tháng', 'với', 'vốn', 'tỷ', 'đồng', 'ông', 'trần', 'bá', 'dương', 'làm', 'với', 'những', 'về', 'trong', 'sagoda', 'khu', 'đất', 'hơn', 'ha', 'tại', 'đường', 'đang', 'trong', 'xây', 'emart', 'thứ', 'ba', 'trước', 'đó', 'nơi', 'đây', 'được', 'sẽ', 'là', 'emart', 'thứ', 'hai', 'nhưng', 'sau', 'khi', 'về', 'tay', 'thaco', 'thứ', 'hai', 'đã', 'được', 'mở', 'ngay', 'tại', 'của', 'thaco', 'ở', 'khu', 'sala', 'thiso', 'mall', 'số', 'mai', 'chí', 'thọ', 'tp'], ['giới', 'và', 'nhà', 'vàng', 'tăng', 'khi', 'cuộc', 'còn', 'fed', 'sớm', 'dừng', 'tăng', 'tuần', 'này', 'nhà', 'phố', 'wall', 'đã', 'giá', 'vàng', 'của', 'kitco', 'với', 'quý', 'sẽ', 'có', 'thêm', 'một', 'tuần', 'năm', 'cho', 'rằng', 'giá', 'giảm', 'tuần', 'tới', 'còn', 'hai', 'người', 'đi', 'ngang', 'cũng', 'chiếm', 'với', 'trong', 'gần', 'người', 'cuộc', 'có', 'thêm', 'một', 'tuần', 'của', 'vàng', 'số', 'người', 'vàng', 'chốt', 'tuần', 'trong', 'sắc', 'đỏ', 'còn', 'cho', 'rằng', 'sẽ', 'đi', 'ngang', 'trong', 'tuần', 'này', 'đạt', 'mức', 'cao', 'nhất', 'kể', 'từ', 'đầu', 'năm', 'theo', 'kitco', 'cho', 'thấy', 'sự', 'tăng', 'vàng', 'tuần', 'của', 'kitco', 'ảnh', 'kitco', 'news', 'vàng', 'tuần', 'của', 'kitco', 'ảnh', 'kitco', 'news', 'giới', 'và', 'đặt', 'vàng', 'chốt', 'tuần', 'tới', 'ở', 'ngưỡng', 'usd', 'adrian', 'day', 'của', 'adrian', 'day', 'asset', 'management', 'cho', 'biết', 'về', 'vàng', 'do', 'đợt', 'tăng', 'điểm', 'của', 'cục', 'mỹ', 'fed', 'sẽ', 'là', 'lần', 'ba', 'tại', 'mỹ', 'cộng', 'với', 'credit', 'suisse', 'đã', 'rằng', 'fed', 'tăng', 'mà', 'không', 'có', 'gì', 'của', 'adrian', 'day', 'asset', 'management', 'này', 'nói', 'thêm', 'sẽ', 'là', 'nếu', 'cho', 'rằng', 'bốn', 'này', 'là', 'gặp', 'cách', 'của', 'thụy', 'sĩ', 'cũng', 'cho', 'thấy', 'một', 'điều', 'khi', 'gặp', 'các', 'sẽ', 'làm', 'điều', 'mà', 'họ', 'luôn', 'làm', 'là', 'ném', 'tiền', 'vào', 'fed', 'tạm', 'dừng', 'việc', 'tăng', 'trước', 'khi', 'bị', 'trong', 'nền', 'trượt', 'vào', 'còn', 'điều', 'này', 'có', 'lợi', 'cho', 'vàng', 'ông', 'nói', 'ở', 'chiều', 'không', 'phải', 'nhà', 'đều', 'về', 'vàng', 'còn', 'cho', 'rằng', 'nếu', 'cuộc', 'được', 'một', 'phần', 'điều', 'này', 'tạo', 'ra', 'một', 'đợt', 'quý', 'này', 'sean', 'lusk', 'đồng', 'tại', 'walsh', 'trading', 'cho', 'biết', 'về', 'giá', 'vàng', 'trong', 'nhưng', 'mốc', 'usd', 'mức', 'tăng', 'trong', 'năm', 'nay', 'chốt', 'lời', 'vàng', 'đang', 'ở', 'nhưng', 'bạn', 'cũng', 'phải', 'nhìn', 'vào', 'ở', 'đây', 'một', 'cuộc', 'trong', 'ngành', 'đang', 'diễn', 'ra', 'và', 'không', 'biết', 'khi', 'nào', 'nó', 'không', 'có', 'nhiều', 'niềm', 'tin', 'vào', 'trong', 'này', 'và', 'mọi', 'người', 'đang', 'những', 'nơi', 'để', 'gửi', 'tiền', 'của', 'họ', 'lusk', 'nói', 'lukman', 'otunuga', 'tại', 'fxtm', 'rằng', 'khi', 'vàng', 'tiến', 'tới', 'vùng', 'cao', 'hơn', 'chốt', 'lời', 'của', 'này', 'cũng', 'rằng', 'mức', 'usd', 'đã', 'được', 'là', 'một', 'điểm', 'điều', 'này', 'khiến', 'vàng', 'giảm', 'xuống', 'mức', 'usd', 'và', 'usd', 'trước', 'khi', 'những', 'người', 'giá', 'lên', 'quay', 'nếu', 'usd', 'nhường', 'chỗ', 'điều', 'này', 'mở', 'ra', 'cho', 'mức', 'cao', 'nhất', 'usd', 'vào', 'tháng', 'lukman', 'nói']]\n"
     ]
    }
   ],
   "source": [
    "print(docs_tokened)"
   ]
  },
  {
   "attachments": {},
   "cell_type": "markdown",
   "id": "110eab92",
   "metadata": {
    "papermill": {
     "duration": 0.006536,
     "end_time": "2023-03-21T09:11:41.141494",
     "exception": false,
     "start_time": "2023-03-21T09:11:41.134958",
     "status": "completed"
    },
    "tags": []
   },
   "source": [
    "### Tính trung bình word2vec để tạo ra mảng training chỉ 2 chiều:\n",
    "(dựa theo: https://github.com/PradipNichite/Youtube-Tutorials/blob/main/Yotutube_WordVectors.ipynb)"
   ]
  },
  {
   "cell_type": "code",
   "execution_count": 94,
   "id": "6af7a7a6",
   "metadata": {
    "execution": {
     "iopub.execute_input": "2023-03-21T09:11:41.157457Z",
     "iopub.status.busy": "2023-03-21T09:11:41.156786Z",
     "iopub.status.idle": "2023-03-21T09:11:41.182119Z",
     "shell.execute_reply": "2023-03-21T09:11:41.180100Z"
    },
    "papermill": {
     "duration": 0.037402,
     "end_time": "2023-03-21T09:11:41.185807",
     "exception": false,
     "start_time": "2023-03-21T09:11:41.148405",
     "status": "completed"
    },
    "tags": []
   },
   "outputs": [
    {
     "name": "stdout",
     "output_type": "stream",
     "text": [
      "                                              tokens  \\\n",
      "0  [mỹ, vào, ngày, thứ, ba, khi, vào, việc, sau, ...   \n",
      "1  [giá, vàng, giảm, vào, ngày, thứ, ba, khi, mỹ,...   \n",
      "2  [sau, khi, phùng, ngọc, khánh, cựu, hđqt, m, c...   \n",
      "3  [cùng, các, gây, tiền, trên, tỉ, đồng, cựu, tr...   \n",
      "4  [nhnn, vừa, các, giảm, từ, điểm, qua, còn, nhi...   \n",
      "\n",
      "                                                 vec  \n",
      "0  [0.4521556866843076, 0.36772873731374384, -0.9...  \n",
      "1  [0.3843028273714601, 0.5310362149381412, -0.91...  \n",
      "2  [0.09241913974457357, 0.3054196947547671, -0.8...  \n",
      "3  [0.2170247682347419, 0.3187902290997966, -0.67...  \n",
      "4  [0.2316580660791205, 0.7523304409403729, -0.98...  \n"
     ]
    }
   ],
   "source": [
    "\n",
    "pdTrain = pd.DataFrame({'tokens': docs_tokened})\n",
    "\n",
    "def sent_vec(sent):\n",
    "    vector_size = w2v_model.vector_size\n",
    "    wv_res = np.zeros(vector_size)\n",
    "    ctr = 1\n",
    "    for w in sent:\n",
    "        if w in w2v_model:\n",
    "            ctr += 1\n",
    "            wv_res += w2v_model[w]\n",
    "    wv_res = wv_res/ctr\n",
    "    return wv_res\n",
    "pdTrain['vec'] = pdTrain['tokens'].apply(sent_vec)\n",
    "print(pdTrain.head())"
   ]
  },
  {
   "cell_type": "code",
   "execution_count": 100,
   "id": "bb19d479",
   "metadata": {},
   "outputs": [],
   "source": [
    "X_train = pdTrain['vec'].to_list()\n",
    "\n",
    "def convert_text_to_train(texts):\n",
    "    docs_tokened, _ = cv_texts_to_tokens(texts)\n",
    "    pdData = pd.DataFrame({'tokens': docs_tokened})\n",
    "    pdData['vec'] = pdData['tokens'].apply(sent_vec)\n",
    "    print(pdData.head())\n",
    "    return pdData['vec'].to_list()\n"
   ]
  },
  {
   "cell_type": "code",
   "execution_count": 96,
   "id": "931bbeed",
   "metadata": {
    "execution": {
     "iopub.execute_input": "2023-03-21T09:11:41.243025Z",
     "iopub.status.busy": "2023-03-21T09:11:41.242585Z",
     "iopub.status.idle": "2023-03-21T09:11:41.251148Z",
     "shell.execute_reply": "2023-03-21T09:11:41.249651Z"
    },
    "papermill": {
     "duration": 0.02062,
     "end_time": "2023-03-21T09:11:41.254185",
     "exception": false,
     "start_time": "2023-03-21T09:11:41.233565",
     "status": "completed"
    },
    "tags": []
   },
   "outputs": [
    {
     "name": "stdout",
     "output_type": "stream",
     "text": [
      "(19, 1) [[ 1. ]\n",
      " [-0.5]\n",
      " [-1. ]\n",
      " [-1. ]\n",
      " [ 1. ]\n",
      " [-1. ]\n",
      " [-1. ]\n",
      " [ 1. ]\n",
      " [ 1. ]\n",
      " [ 1. ]\n",
      " [ 1. ]\n",
      " [-1. ]\n",
      " [ 0.9]\n",
      " [-1. ]\n",
      " [-1. ]\n",
      " [-1. ]\n",
      " [ 0.5]\n",
      " [ 0.1]\n",
      " [ 0.4]] [1.0, -0.5, -1.0, -1.0, 1.0, -1.0, -1.0, 1.0, 1.0, 1.0, 1.0, -1.0, 0.9, -1.0, -1.0, -1.0, 0.5, 0.1, 0.4]\n"
     ]
    }
   ],
   "source": [
    "y_train = df['status'].values.tolist()\n",
    "statusNp = np.asarray(df['status'].values.tolist())\n",
    "statusNp = np.expand_dims(statusNp, axis = 1)\n",
    "print(statusNp.shape, statusNp, y_train)"
   ]
  },
  {
   "cell_type": "code",
   "execution_count": 97,
   "id": "8d2443c9",
   "metadata": {},
   "outputs": [
    {
     "data": {
      "text/html": [
       "<style>#sk-container-id-5 {color: black;background-color: white;}#sk-container-id-5 pre{padding: 0;}#sk-container-id-5 div.sk-toggleable {background-color: white;}#sk-container-id-5 label.sk-toggleable__label {cursor: pointer;display: block;width: 100%;margin-bottom: 0;padding: 0.3em;box-sizing: border-box;text-align: center;}#sk-container-id-5 label.sk-toggleable__label-arrow:before {content: \"▸\";float: left;margin-right: 0.25em;color: #696969;}#sk-container-id-5 label.sk-toggleable__label-arrow:hover:before {color: black;}#sk-container-id-5 div.sk-estimator:hover label.sk-toggleable__label-arrow:before {color: black;}#sk-container-id-5 div.sk-toggleable__content {max-height: 0;max-width: 0;overflow: hidden;text-align: left;background-color: #f0f8ff;}#sk-container-id-5 div.sk-toggleable__content pre {margin: 0.2em;color: black;border-radius: 0.25em;background-color: #f0f8ff;}#sk-container-id-5 input.sk-toggleable__control:checked~div.sk-toggleable__content {max-height: 200px;max-width: 100%;overflow: auto;}#sk-container-id-5 input.sk-toggleable__control:checked~label.sk-toggleable__label-arrow:before {content: \"▾\";}#sk-container-id-5 div.sk-estimator input.sk-toggleable__control:checked~label.sk-toggleable__label {background-color: #d4ebff;}#sk-container-id-5 div.sk-label input.sk-toggleable__control:checked~label.sk-toggleable__label {background-color: #d4ebff;}#sk-container-id-5 input.sk-hidden--visually {border: 0;clip: rect(1px 1px 1px 1px);clip: rect(1px, 1px, 1px, 1px);height: 1px;margin: -1px;overflow: hidden;padding: 0;position: absolute;width: 1px;}#sk-container-id-5 div.sk-estimator {font-family: monospace;background-color: #f0f8ff;border: 1px dotted black;border-radius: 0.25em;box-sizing: border-box;margin-bottom: 0.5em;}#sk-container-id-5 div.sk-estimator:hover {background-color: #d4ebff;}#sk-container-id-5 div.sk-parallel-item::after {content: \"\";width: 100%;border-bottom: 1px solid gray;flex-grow: 1;}#sk-container-id-5 div.sk-label:hover label.sk-toggleable__label {background-color: #d4ebff;}#sk-container-id-5 div.sk-serial::before {content: \"\";position: absolute;border-left: 1px solid gray;box-sizing: border-box;top: 0;bottom: 0;left: 50%;z-index: 0;}#sk-container-id-5 div.sk-serial {display: flex;flex-direction: column;align-items: center;background-color: white;padding-right: 0.2em;padding-left: 0.2em;position: relative;}#sk-container-id-5 div.sk-item {position: relative;z-index: 1;}#sk-container-id-5 div.sk-parallel {display: flex;align-items: stretch;justify-content: center;background-color: white;position: relative;}#sk-container-id-5 div.sk-item::before, #sk-container-id-5 div.sk-parallel-item::before {content: \"\";position: absolute;border-left: 1px solid gray;box-sizing: border-box;top: 0;bottom: 0;left: 50%;z-index: -1;}#sk-container-id-5 div.sk-parallel-item {display: flex;flex-direction: column;z-index: 1;position: relative;background-color: white;}#sk-container-id-5 div.sk-parallel-item:first-child::after {align-self: flex-end;width: 50%;}#sk-container-id-5 div.sk-parallel-item:last-child::after {align-self: flex-start;width: 50%;}#sk-container-id-5 div.sk-parallel-item:only-child::after {width: 0;}#sk-container-id-5 div.sk-dashed-wrapped {border: 1px dashed gray;margin: 0 0.4em 0.5em 0.4em;box-sizing: border-box;padding-bottom: 0.4em;background-color: white;}#sk-container-id-5 div.sk-label label {font-family: monospace;font-weight: bold;display: inline-block;line-height: 1.2em;}#sk-container-id-5 div.sk-label-container {text-align: center;}#sk-container-id-5 div.sk-container {/* jupyter's `normalize.less` sets `[hidden] { display: none; }` but bootstrap.min.css set `[hidden] { display: none !important; }` so we also need the `!important` here to be able to override the default hidden behavior on the sphinx rendered scikit-learn.org. See: https://github.com/scikit-learn/scikit-learn/issues/21755 */display: inline-block !important;position: relative;}#sk-container-id-5 div.sk-text-repr-fallback {display: none;}</style><div id=\"sk-container-id-5\" class=\"sk-top-container\"><div class=\"sk-text-repr-fallback\"><pre>SVR(kernel=&#x27;linear&#x27;)</pre><b>In a Jupyter environment, please rerun this cell to show the HTML representation or trust the notebook. <br />On GitHub, the HTML representation is unable to render, please try loading this page with nbviewer.org.</b></div><div class=\"sk-container\" hidden><div class=\"sk-item\"><div class=\"sk-estimator sk-toggleable\"><input class=\"sk-toggleable__control sk-hidden--visually\" id=\"sk-estimator-id-5\" type=\"checkbox\" checked><label for=\"sk-estimator-id-5\" class=\"sk-toggleable__label sk-toggleable__label-arrow\">SVR</label><div class=\"sk-toggleable__content\"><pre>SVR(kernel=&#x27;linear&#x27;)</pre></div></div></div></div></div>"
      ],
      "text/plain": [
       "SVR(kernel='linear')"
      ]
     },
     "execution_count": 97,
     "metadata": {},
     "output_type": "execute_result"
    }
   ],
   "source": [
    "from sklearn.svm import SVR\n",
    "clf = SVR(kernel='linear')\n",
    "clf.fit(X_train, y_train)\n"
   ]
  },
  {
   "cell_type": "code",
   "execution_count": 101,
   "id": "4afa8758",
   "metadata": {},
   "outputs": [
    {
     "name": "stdout",
     "output_type": "stream",
     "text": [
      "                                              tokens  \\\n",
      "0  [tăng, của, fed, jerome, powell, nhằm, ghìm, đ...   \n",
      "\n",
      "                                                 vec  \n",
      "0  [0.059424844570457935, -0.17645556177012622, -...  \n",
      "X:\n",
      " 1 400\n",
      "result:\n",
      " [-2.19100919]\n"
     ]
    }
   ],
   "source": [
    "test_data = [\n",
    "    \"\"\"\n",
    "    Chính sách tăng lãi suất của Chủ tịch Fed Jerome Powell nhằm ghìm lạm phát đang bị đe dọa sau vụ sụp đổ của Silicon Valley Bank.\n",
    "    \"\"\"\n",
    "]\n",
    "\n",
    "X_test = convert_text_to_train(test_data)\n",
    "print('X:\\n', len(X_test), len(X_test[0]))\n",
    "\n",
    "result = clf.predict(X_test)\n",
    "print('result:\\n', result)"
   ]
  },
  {
   "attachments": {},
   "cell_type": "markdown",
   "id": "bc4a602a",
   "metadata": {},
   "source": [
    "## Version dùng mean numpy"
   ]
  },
  {
   "cell_type": "code",
   "execution_count": 112,
   "id": "40984fdc",
   "metadata": {},
   "outputs": [
    {
     "name": "stdout",
     "output_type": "stream",
     "text": [
      "[-4.0891525e-01  2.6084104e+00 -5.3833354e-01 -5.9752214e-01\n",
      "  1.8656381e+00  6.6219044e-01 -3.7117357e+00 -4.5574969e-01\n",
      " -1.0396051e-01 -1.9559094e+00  9.7429109e-01 -4.0667385e-01\n",
      " -1.0615259e+00 -2.1646779e+00  9.3465680e-01 -1.4586806e+00\n",
      "  5.8061433e-01 -3.7961490e+00  3.0390272e+00 -2.1457682e+00\n",
      " -5.7892412e-01  1.7761465e+00 -9.1266108e-01 -7.8270189e-02\n",
      "  1.8554451e+00  1.5198513e+00 -6.2319130e-01 -2.2093023e-01\n",
      " -1.8296558e+00 -2.0173174e-01  1.8952109e+00 -6.9549829e-01\n",
      "  1.8698134e-01  1.3218739e+00  2.4016383e+00  6.6352658e-02\n",
      " -2.7717566e-01 -2.4175718e+00 -1.1903220e+00 -7.9305309e-01\n",
      "  1.3936094e+00  2.0585716e+00  2.4315950e-01 -8.1384414e-01\n",
      " -1.9550422e+00  2.2965547e-01 -1.5387051e-01 -1.1004342e+00\n",
      " -2.4111086e-01  1.3018471e-01 -3.8814726e-01 -9.9034458e-02\n",
      "  1.6107775e+00  6.1631495e-01  1.9548521e+00  6.5761530e-01\n",
      " -1.9960139e+00  1.9396085e+00 -1.9843059e+00  8.8569456e-01\n",
      "  6.8909150e-01 -1.4907720e+00 -8.0561894e-01 -1.4252144e-01\n",
      "  8.3218837e-01 -7.3789710e-01  2.0570574e+00 -8.3198005e-01\n",
      "  3.3153164e-01 -3.2267973e-01  8.4967470e-01 -2.0789316e+00\n",
      "  1.4569157e+00 -2.1421421e+00 -3.2383254e+00  6.5753436e-01\n",
      " -5.1456040e-01  2.1396794e+00  2.9775085e+00  1.7835389e+00\n",
      " -2.4498229e-01  1.5069276e-01  4.1174656e-01 -2.5146203e-02\n",
      "  6.3369697e-01 -2.9112905e-02 -9.9139607e-01 -9.1554701e-01\n",
      "  1.3467745e+00  1.4991770e+00 -1.3973780e+00 -2.1252742e+00\n",
      "  2.4846281e-01  2.3350272e+00  1.3512208e+00  1.3055327e+00\n",
      " -3.7770030e-01 -2.3235822e+00  1.6696757e-01 -1.0859971e+00\n",
      "  1.6930966e+00  3.7835057e+00  6.7704511e-01 -5.3893363e-01\n",
      " -1.4242140e+00  1.7490100e+00  4.6168485e-01  2.1538160e+00\n",
      "  1.3742881e+00 -2.7164626e-01  2.4520283e+00  5.7503664e-01\n",
      " -8.9234972e-01  7.5295961e-01  6.9972016e-02 -1.2545583e+00\n",
      " -7.4728972e-01  5.5823958e-01  1.8587816e+00  1.5810759e-01\n",
      " -2.7625146e+00  1.7944459e+00  4.9818006e-01  1.1809126e+00\n",
      "  6.7785937e-01  3.1721509e+00  3.9104947e-01 -1.6440187e+00\n",
      " -2.5498111e+00 -1.7175345e-01 -2.6567283e+00  4.7346921e+00\n",
      "  7.2140700e-01  1.7823917e+00 -7.8660798e-01 -1.2510648e+00\n",
      "  9.2918062e-01  4.9352521e-01  9.4554842e-01  2.1837177e+00\n",
      "  1.0279794e+00  8.7185460e-01 -2.3166163e+00  4.4368234e-01\n",
      "  3.7986454e-01  1.4600788e+00 -6.8780535e-01 -9.3817014e-01\n",
      "  3.2459714e+00 -6.3642621e-02 -7.1319425e-01 -8.3628738e-01\n",
      "  1.2315114e+00  1.6768938e+00  3.6075455e-01 -2.1711562e+00\n",
      " -1.2934218e-03  9.8916161e-01 -1.3589436e+00 -2.6652923e-01\n",
      "  1.2022322e+00 -2.4885438e-01 -2.2320144e-02  1.9189188e+00\n",
      " -2.9934725e-01 -3.6640205e+00 -1.7643719e+00 -1.6132312e+00\n",
      "  2.1409829e-01  9.9522060e-01  2.6643465e+00 -2.3573086e+00\n",
      "  2.4837396e+00 -2.5548897e+00  5.0964648e-01  2.0911047e-01\n",
      " -3.4111567e+00 -3.2255021e-01  9.2102587e-01 -1.2653360e-01\n",
      "  2.5599131e-01  1.1633323e+00 -1.0573701e+00  5.1069345e-02\n",
      "  9.2874181e-01 -4.8366553e-01  1.9147921e+00  2.8640169e-01\n",
      " -3.7942621e-01  4.0165588e-01 -1.0825231e-01 -1.5470009e+00\n",
      " -8.2138062e-01  1.3628384e+00  2.4923098e+00 -1.7911514e+00\n",
      " -3.6786959e+00 -6.3038927e-01 -9.5036602e-01 -1.4481153e+00\n",
      " -2.0686479e+00 -2.0982575e+00  1.4140186e+00 -4.6454147e-01\n",
      "  1.9546309e+00 -1.9721459e+00 -1.1614704e+00  3.9149910e-01\n",
      " -1.4331833e+00 -1.0059434e+00 -2.1478128e+00 -2.2726081e-01\n",
      "  1.0495445e+00 -1.5936106e+00  2.6053975e+00 -2.5934947e+00\n",
      " -4.7908422e-01  7.4344563e-01 -1.3945783e+00 -3.1495063e+00\n",
      " -5.3220958e-01  1.0882977e+00  7.2641081e-01  8.7934583e-01\n",
      " -2.2623806e+00 -2.3234534e+00  1.8574498e+00 -1.5695207e+00\n",
      "  1.5357255e+00  2.7111876e+00  1.2986075e+00 -1.4556583e+00\n",
      " -1.0431700e+00 -4.3153024e-01  5.8180705e-02 -1.3364786e+00\n",
      " -1.6783571e-01 -5.9867078e-01 -6.3396591e-01 -2.0838072e+00\n",
      " -1.9598010e+00 -2.3161905e-01  1.8090804e-01 -1.3761141e+00\n",
      "  3.7819612e-01 -4.7669210e+00 -6.0780472e-01 -1.0300261e+00\n",
      "  1.3313235e-01 -1.4289432e+00 -4.8274231e-01  1.9397811e+00\n",
      "  6.1243123e-01  2.7523217e+00  2.4106214e+00  1.7666720e+00\n",
      "  1.9798046e-01  2.2912366e+00 -3.1026343e-01  1.3634065e-01\n",
      " -2.4289689e+00 -1.4835927e+00  1.0005048e-02 -2.0756350e-01\n",
      " -2.4590554e+00  2.9021783e+00 -3.7162623e-01 -4.3472972e+00\n",
      " -5.4779279e-01 -2.8254552e+00 -1.7727809e+00 -2.4262133e+00\n",
      " -1.1632129e+00  3.3205941e-01 -9.8297530e-01 -5.5051261e-01\n",
      "  6.5494394e-01 -4.3837559e-01 -3.1002808e+00 -2.1273047e-01\n",
      " -9.1774896e-02 -3.3432752e-01 -1.8756213e+00 -3.2396799e-01\n",
      "  3.2568488e+00 -1.2778564e-01  2.4788439e+00 -3.8243049e-01\n",
      " -2.4893565e+00  4.9045328e-02  7.6345211e-01  1.2413462e+00\n",
      "  1.8512772e-01 -2.2375228e+00 -9.2997774e-02  3.4930308e+00\n",
      "  1.7427363e+00  1.1229018e+00 -4.3571427e-02  8.5538954e-01\n",
      "  7.1918619e-01  1.1884220e+00 -1.2356080e+00 -7.3050368e-01\n",
      " -1.9725897e+00  9.1599506e-01 -5.4282651e+00  3.7256582e+00\n",
      " -6.2726259e-01 -2.9583272e-01 -4.0271345e-01 -1.2541122e+00\n",
      "  7.5898707e-02 -6.5710282e-01  2.4900153e-01 -1.7783327e+00\n",
      "  4.1735852e-01  5.8827007e-01  3.0419421e+00  7.0813909e-02\n",
      " -2.1753567e-01 -3.8094845e-01 -1.1751987e+00  5.6737477e-01\n",
      " -3.8781995e-01  8.2376820e-01 -9.9134155e-02  2.4364738e-01\n",
      "  1.0908054e+00 -1.7534016e-01  3.5962040e+00  3.2127824e-01\n",
      "  1.3352338e+00 -3.5760500e+00  2.7552466e+00 -4.2939290e-01\n",
      "  2.6314833e+00 -2.7880862e-02 -7.9275703e-01 -1.0054286e+00\n",
      " -4.9104735e-01  2.7463050e+00 -5.0564456e-01  1.2373168e+00\n",
      " -1.8036001e+00 -8.6227006e-01 -5.1425421e-01  4.8756087e-01\n",
      "  1.0021689e+00 -1.8180752e+00 -2.0422883e+00  9.5974840e-02\n",
      "  2.3145139e+00 -1.8217191e-03 -9.8436290e-01 -2.2696848e+00\n",
      "  1.4487115e-01  4.4893190e-01  1.1402929e+00 -1.4249313e+00\n",
      " -1.7519069e+00  1.7292294e-01  7.4688184e-01  1.1971933e+00\n",
      " -3.7106204e+00 -5.8095241e-01 -2.4712133e+00 -5.7754374e-01\n",
      "  5.8665767e-02 -9.5170563e-01 -1.8088993e+00 -4.7128284e-01\n",
      "  8.7280832e-02  2.0900130e+00 -5.3196919e-01  1.2785236e+00\n",
      "  2.0285947e+00  1.1366931e+00 -1.6644241e+00 -3.4165487e-01\n",
      "  1.6318549e+00 -1.1305646e+00 -1.9701108e+00 -1.5557499e+00\n",
      " -1.1757122e+00 -1.3912078e+00 -2.6365393e-01 -2.7468076e-01\n",
      "  2.9641025e+00  4.4584780e+00 -1.3047494e+00 -8.5534316e-01\n",
      " -1.3124825e+00 -2.0008965e-01 -7.1161568e-01 -1.9449968e+00\n",
      " -2.5858024e-01 -1.7750104e-01  1.0416662e+00 -1.0249403e+00]\n",
      "False\n"
     ]
    }
   ],
   "source": [
    "print(w2v_model['ăn'])\n",
    "print('m' in w2v_model)"
   ]
  },
  {
   "cell_type": "code",
   "execution_count": 120,
   "id": "08611ff7",
   "metadata": {},
   "outputs": [
    {
     "name": "stdout",
     "output_type": "stream",
     "text": [
      "(19, 400)\n"
     ]
    }
   ],
   "source": [
    "import numpy as np\n",
    "\n",
    "def vectorize(sentence):\n",
    "    words = word_tokenize(str(sentence).lower(), format=\"text\").split(' ')\n",
    "    words = [word.strip(\".,?!\") for word in words if word.isalpha()]\n",
    "    words_vecs = [w2v_model[word] for word in words if word in w2v_model]\n",
    "    \n",
    "    if len(words_vecs) == 0:\n",
    "        return np.zeros(400)\n",
    "    words_vecs = np.array(words_vecs)\n",
    "    return words_vecs.mean(axis=0)\n",
    "\n",
    "X_train = np.array([vectorize(sentence) for sentence in documents])\n",
    "print(X_train.shape)"
   ]
  },
  {
   "cell_type": "code",
   "execution_count": 121,
   "id": "6d418912",
   "metadata": {},
   "outputs": [
    {
     "data": {
      "text/html": [
       "<style>#sk-container-id-7 {color: black;background-color: white;}#sk-container-id-7 pre{padding: 0;}#sk-container-id-7 div.sk-toggleable {background-color: white;}#sk-container-id-7 label.sk-toggleable__label {cursor: pointer;display: block;width: 100%;margin-bottom: 0;padding: 0.3em;box-sizing: border-box;text-align: center;}#sk-container-id-7 label.sk-toggleable__label-arrow:before {content: \"▸\";float: left;margin-right: 0.25em;color: #696969;}#sk-container-id-7 label.sk-toggleable__label-arrow:hover:before {color: black;}#sk-container-id-7 div.sk-estimator:hover label.sk-toggleable__label-arrow:before {color: black;}#sk-container-id-7 div.sk-toggleable__content {max-height: 0;max-width: 0;overflow: hidden;text-align: left;background-color: #f0f8ff;}#sk-container-id-7 div.sk-toggleable__content pre {margin: 0.2em;color: black;border-radius: 0.25em;background-color: #f0f8ff;}#sk-container-id-7 input.sk-toggleable__control:checked~div.sk-toggleable__content {max-height: 200px;max-width: 100%;overflow: auto;}#sk-container-id-7 input.sk-toggleable__control:checked~label.sk-toggleable__label-arrow:before {content: \"▾\";}#sk-container-id-7 div.sk-estimator input.sk-toggleable__control:checked~label.sk-toggleable__label {background-color: #d4ebff;}#sk-container-id-7 div.sk-label input.sk-toggleable__control:checked~label.sk-toggleable__label {background-color: #d4ebff;}#sk-container-id-7 input.sk-hidden--visually {border: 0;clip: rect(1px 1px 1px 1px);clip: rect(1px, 1px, 1px, 1px);height: 1px;margin: -1px;overflow: hidden;padding: 0;position: absolute;width: 1px;}#sk-container-id-7 div.sk-estimator {font-family: monospace;background-color: #f0f8ff;border: 1px dotted black;border-radius: 0.25em;box-sizing: border-box;margin-bottom: 0.5em;}#sk-container-id-7 div.sk-estimator:hover {background-color: #d4ebff;}#sk-container-id-7 div.sk-parallel-item::after {content: \"\";width: 100%;border-bottom: 1px solid gray;flex-grow: 1;}#sk-container-id-7 div.sk-label:hover label.sk-toggleable__label {background-color: #d4ebff;}#sk-container-id-7 div.sk-serial::before {content: \"\";position: absolute;border-left: 1px solid gray;box-sizing: border-box;top: 0;bottom: 0;left: 50%;z-index: 0;}#sk-container-id-7 div.sk-serial {display: flex;flex-direction: column;align-items: center;background-color: white;padding-right: 0.2em;padding-left: 0.2em;position: relative;}#sk-container-id-7 div.sk-item {position: relative;z-index: 1;}#sk-container-id-7 div.sk-parallel {display: flex;align-items: stretch;justify-content: center;background-color: white;position: relative;}#sk-container-id-7 div.sk-item::before, #sk-container-id-7 div.sk-parallel-item::before {content: \"\";position: absolute;border-left: 1px solid gray;box-sizing: border-box;top: 0;bottom: 0;left: 50%;z-index: -1;}#sk-container-id-7 div.sk-parallel-item {display: flex;flex-direction: column;z-index: 1;position: relative;background-color: white;}#sk-container-id-7 div.sk-parallel-item:first-child::after {align-self: flex-end;width: 50%;}#sk-container-id-7 div.sk-parallel-item:last-child::after {align-self: flex-start;width: 50%;}#sk-container-id-7 div.sk-parallel-item:only-child::after {width: 0;}#sk-container-id-7 div.sk-dashed-wrapped {border: 1px dashed gray;margin: 0 0.4em 0.5em 0.4em;box-sizing: border-box;padding-bottom: 0.4em;background-color: white;}#sk-container-id-7 div.sk-label label {font-family: monospace;font-weight: bold;display: inline-block;line-height: 1.2em;}#sk-container-id-7 div.sk-label-container {text-align: center;}#sk-container-id-7 div.sk-container {/* jupyter's `normalize.less` sets `[hidden] { display: none; }` but bootstrap.min.css set `[hidden] { display: none !important; }` so we also need the `!important` here to be able to override the default hidden behavior on the sphinx rendered scikit-learn.org. See: https://github.com/scikit-learn/scikit-learn/issues/21755 */display: inline-block !important;position: relative;}#sk-container-id-7 div.sk-text-repr-fallback {display: none;}</style><div id=\"sk-container-id-7\" class=\"sk-top-container\"><div class=\"sk-text-repr-fallback\"><pre>SVR(kernel=&#x27;linear&#x27;)</pre><b>In a Jupyter environment, please rerun this cell to show the HTML representation or trust the notebook. <br />On GitHub, the HTML representation is unable to render, please try loading this page with nbviewer.org.</b></div><div class=\"sk-container\" hidden><div class=\"sk-item\"><div class=\"sk-estimator sk-toggleable\"><input class=\"sk-toggleable__control sk-hidden--visually\" id=\"sk-estimator-id-7\" type=\"checkbox\" checked><label for=\"sk-estimator-id-7\" class=\"sk-toggleable__label sk-toggleable__label-arrow\">SVR</label><div class=\"sk-toggleable__content\"><pre>SVR(kernel=&#x27;linear&#x27;)</pre></div></div></div></div></div>"
      ],
      "text/plain": [
       "SVR(kernel='linear')"
      ]
     },
     "execution_count": 121,
     "metadata": {},
     "output_type": "execute_result"
    }
   ],
   "source": [
    "from sklearn.svm import SVR\n",
    "clf_1 = SVR(kernel='linear')\n",
    "clf_1.fit(X_train, y_train)\n"
   ]
  },
  {
   "cell_type": "code",
   "execution_count": 123,
   "id": "e762f629",
   "metadata": {},
   "outputs": [
    {
     "name": "stdout",
     "output_type": "stream",
     "text": [
      "(1, 400)\n",
      "X:\n",
      " [[ 0.38850942  0.10464204 -0.9577096  -0.37256026  0.23389089  0.88185835\n",
      "   0.10116863  0.13173072 -0.3344859   0.22937334  0.8288219   0.7126737\n",
      "  -0.3320357  -0.48318952  0.00314491 -0.6878798   0.46772274 -0.14373691\n",
      "  -0.12396431 -0.7381272   0.30108276  0.35294417 -0.33553392  0.10188492\n",
      "  -1.0696872  -0.6097121  -0.92718166  0.4930355   0.81550753 -0.17446913\n",
      "   0.10795683 -0.1640809  -0.06091186  0.5743248  -0.08611198 -0.53096783\n",
      "   0.07730834  0.341963    0.40540507  0.13439354 -0.50310946  0.11671042\n",
      "   1.154089    0.85130805  0.32956108  0.4763059  -0.98409754 -1.0457631\n",
      "   0.34032178  0.03418423 -0.17263567  0.50373465  0.30538163  0.29047686\n",
      "   0.11044743  0.8140377  -0.22052911  0.66510034  0.36747724 -0.725286\n",
      "   0.5249629  -0.5162898   0.29559237  0.87318057 -1.5603259   0.24828897\n",
      "  -0.6180903   0.6598458   0.7546648   0.6865031  -0.02314603 -0.2760694\n",
      "  -1.0750731  -0.6624368  -1.938914   -0.87500334 -0.87977946  1.1592664\n",
      "   0.9792852   0.4131683  -0.4309003   0.11232603 -0.24454737 -0.5582747\n",
      "   0.32011172 -0.23499507 -0.34808406 -0.04520132  0.07194155  1.1404169\n",
      "   0.84193903 -0.05595974  0.363152    0.80161345  0.38356847 -0.06802887\n",
      "   0.09954098  0.42953745  0.33644497  0.09031862 -0.07398397  0.06498348\n",
      "   0.8217925  -0.43065694  0.25634694  0.71053773 -0.5800488   0.42097205\n",
      "   1.0273714  -0.42962193 -0.40672326  0.12725703  0.3112099   0.2957385\n",
      "  -0.43837878  0.06794053 -0.40486693  0.14155439  0.07202199  0.97891563\n",
      "  -0.2989533   0.41582096  0.79909456  0.93458986 -0.34665266  0.8721709\n",
      "  -0.450437    0.44439706 -0.80844223  0.00574417  0.3259248   1.0194726\n",
      "  -0.68630046  0.47585544 -0.45342943 -0.79744226  0.24060261 -0.00827532\n",
      "   0.0024818   0.1238136   0.01795481 -0.17273223 -0.2498052   0.6433718\n",
      "  -0.37059516  0.14730269 -0.50777626 -0.2031986   0.5429002  -0.96238273\n",
      "   0.10528863 -0.31333092  0.08200696  0.55531764  0.15817854  0.4677789\n",
      "   0.26754117 -0.49980423 -0.15083624 -1.0873418  -0.2619021   1.3879234\n",
      "  -0.8269034   0.23729782 -0.15087464 -0.05307785  0.04347867  0.20930976\n",
      "  -0.04823694  0.67789173  0.16347662 -0.03312167  0.3001762   0.1296026\n",
      "  -0.20021693 -0.9763705  -0.29178086 -0.46650282  0.795134   -0.0964097\n",
      "  -0.46012628  0.01981758 -0.5653278   0.00414125  0.0659371   0.0740491\n",
      "  -0.2520373  -0.5541544  -0.9310231  -0.4089199  -0.2259294   0.31268334\n",
      "  -1.0304033   1.0784813   0.80416155  0.46846884  0.12203197 -0.6875203\n",
      "   0.63383317 -0.04946964 -1.475852   -0.03002884 -0.05594775 -1.0494894\n",
      "   0.95174575 -0.6721883  -0.15037033 -0.7372476   0.20303224  0.22262532\n",
      "   0.02880611 -0.05100399  1.0317883  -0.26205516  0.7196036  -0.50719976\n",
      "  -0.44309947  0.6814898   0.27447364 -1.3473094  -0.36871856 -0.00211127\n",
      "  -0.0864107   0.597383   -0.3292933  -0.27305037  0.46018007 -0.12444582\n",
      "   0.18801558 -0.971026   -0.09068041  1.2180918   0.73654485 -0.4264482\n",
      "   0.14246945  0.47504953 -0.7301084   0.27581418 -0.32165292 -0.6650022\n",
      "   0.44335765 -1.1132592   0.665779   -1.0848001   0.34582782 -0.85548365\n",
      "  -1.0315968   0.05472348 -0.04090223  0.2835347  -0.62010074 -0.7397968\n",
      "   0.24530815  0.9910918  -0.53461254  0.5827321  -0.22924031  0.72620624\n",
      "   0.5501991   0.35449213 -0.05239777  0.17017962  0.27293134 -0.00838395\n",
      "   0.30112493  0.23297697 -0.15437736  0.36816314 -0.14863974 -0.7950444\n",
      "   0.57003015  0.35857394  0.3524512   0.37035862 -0.43493643  0.783164\n",
      "   0.38302302 -0.13519733 -0.21860984 -0.7996597  -0.30562267 -0.21977368\n",
      "   0.11703003 -0.08761244  0.3455642  -1.2192469   0.47758204 -0.19408315\n",
      "  -0.01116957 -0.352767   -0.37323806  0.5901832  -0.4477336   0.5188534\n",
      "   1.2980645   0.3518517  -0.5639247  -0.28367683 -0.21786705  1.0360659\n",
      "  -0.02088281 -0.07248318 -0.48874703  0.1949126  -0.01871766  1.112774\n",
      "  -0.6528434   0.17146343  0.77808297  1.3019841   0.41165665 -0.7765852\n",
      "  -0.97663546 -0.13809456  0.1310441  -0.21133782  0.3977656  -0.6944075\n",
      "   1.0190057  -0.12947747  0.8271403  -0.15389381 -0.58889925 -0.04475426\n",
      "   0.43400395 -0.28302628  0.28199124 -0.8286309  -0.24963567 -0.00414327\n",
      "   0.9980148   0.946462    0.28886625 -0.31675667  0.47362906 -1.114698\n",
      "   1.561811   -0.7189002   0.09057826 -1.2436715   0.32653785  0.33129779\n",
      "  -0.64346033  0.14627907 -0.342623    0.76977473 -0.71719396 -0.34041277\n",
      "  -0.6245874  -0.16598094  0.19134574 -0.5062323   0.41502112  0.4778843\n",
      "  -0.367481    0.24545492  0.30433872  0.12977687  0.22502032  1.0971705\n",
      "   0.11326635 -0.19141436  0.2217879   0.1744765  -1.2261     -0.83872896\n",
      "  -0.20436022  0.23621006  0.08590538 -0.08869543 -0.6614829   0.4627583\n",
      "  -0.01591961 -0.03000367 -0.49472967  0.11900254  0.20743102  0.16814831\n",
      "   0.14329246 -0.08118559 -0.00663045 -0.5711914   0.25322104  0.01210515\n",
      "   0.33088544  0.48765048  0.22916096  0.2468145   0.21436036  1.4672847\n",
      "  -0.12900607 -0.12261549 -0.13049662  0.30489278  0.6681439   0.507629\n",
      "   0.5634221  -0.78206295  0.18403877  0.4459203 ]]\n",
      "result:\n",
      " [-2.68356092]\n"
     ]
    }
   ],
   "source": [
    "test_data = [\n",
    "    \"\"\"\n",
    "    Công ty Lọc hóa dầu Bình Sơn (BSR) lên kế hoạch bảo dưỡng lớn cho nhà máy lọc dầu Dung Quất, đề ra mức lãi giảm gần 90%.\n",
    "    \"\"\"\n",
    "]\n",
    "\n",
    "X_test = np.array([vectorize(sentence) for sentence in test_data])\n",
    "print(X_test.shape)\n",
    "print('X:\\n', X_test)\n",
    "\n",
    "result = clf_1.predict(X_test)\n",
    "print('result:\\n', result)"
   ]
  },
  {
   "cell_type": "code",
   "execution_count": 127,
   "id": "704639f1",
   "metadata": {},
   "outputs": [
    {
     "name": "stderr",
     "output_type": "stream",
     "text": [
      "Some weights of the model checkpoint at vinai/phobert-base-v2 were not used when initializing RobertaModel: ['lm_head.dense.bias', 'lm_head.bias', 'lm_head.layer_norm.weight', 'lm_head.layer_norm.bias', 'lm_head.dense.weight']\n",
      "- This IS expected if you are initializing RobertaModel from the checkpoint of a model trained on another task or with another architecture (e.g. initializing a BertForSequenceClassification model from a BertForPreTraining model).\n",
      "- This IS NOT expected if you are initializing RobertaModel from the checkpoint of a model that you expect to be exactly identical (initializing a BertForSequenceClassification model from a BertForSequenceClassification model).\n",
      "Some weights of RobertaModel were not initialized from the model checkpoint at vinai/phobert-base-v2 and are newly initialized: ['roberta.pooler.dense.bias', 'roberta.pooler.dense.weight']\n",
      "You should probably TRAIN this model on a down-stream task to be able to use it for predictions and inference.\n",
      "Special tokens have been added in the vocabulary, make sure the associated word embeddings are fine-tuned or trained.\n"
     ]
    },
    {
     "name": "stdout",
     "output_type": "stream",
     "text": [
      "features BaseModelOutputWithPoolingAndCrossAttentions(last_hidden_state=tensor([[[ 3.8362e-02,  7.0703e-01, -1.3202e-01,  ..., -9.7446e-02,\n",
      "           2.5193e-01,  3.4828e-01],\n",
      "         [ 2.1041e-01,  2.3984e-01,  9.1064e-03,  ..., -3.2405e-04,\n",
      "          -1.7492e-01,  4.0126e-02],\n",
      "         [ 2.3745e-01,  9.8417e-03, -1.6509e-01,  ..., -4.3378e-02,\n",
      "          -7.5782e-02,  4.6838e-02],\n",
      "         ...,\n",
      "         [ 2.3041e-01,  3.7583e-01,  1.7602e-02,  ...,  7.8472e-02,\n",
      "           1.8661e-01,  5.2052e-02],\n",
      "         [-2.3020e-01,  5.0276e-01,  1.0913e-01,  ..., -7.3260e-02,\n",
      "           1.4339e-01,  1.8320e-01],\n",
      "         [ 1.8813e-01,  6.2870e-01, -2.4809e-01,  ..., -4.8115e-02,\n",
      "           1.6404e-01,  4.7204e-01]]]), pooler_output=tensor([[-4.6626e-02, -2.6561e-02, -1.0378e-01, -3.0149e-01,  2.5160e-01,\n",
      "          1.0361e-01, -1.8122e-01,  2.5892e-01,  1.0942e-01,  2.4178e-01,\n",
      "         -3.4443e-01,  2.0829e-01, -5.8292e-03, -6.5296e-02,  1.1208e-01,\n",
      "          7.5874e-02,  2.9334e-03,  2.2507e-01, -2.9722e-01, -1.7445e-01,\n",
      "          7.7236e-02,  1.2713e-01, -1.4509e-02, -8.0943e-02,  2.8207e-01,\n",
      "         -8.6233e-02, -6.2408e-02,  2.4295e-01,  5.9946e-02, -3.9836e-04,\n",
      "          4.0364e-02,  9.9802e-02,  8.9839e-02, -3.2369e-01,  1.8631e-01,\n",
      "         -8.9817e-02, -7.3200e-02, -8.8747e-02, -5.6950e-02, -1.9454e-01,\n",
      "         -1.3464e-03, -1.2771e-01,  5.4830e-02,  1.3781e-01,  1.3886e-01,\n",
      "          7.2092e-02,  9.9196e-02,  2.4153e-01, -1.8136e-01, -7.4805e-02,\n",
      "          1.9322e-01, -1.1947e-01, -2.2287e-01, -9.5348e-02, -2.1082e-01,\n",
      "          3.4955e-02,  2.9633e-01,  7.3072e-02,  1.1344e-01, -9.5494e-02,\n",
      "          1.1823e-02,  2.2750e-01,  5.1302e-02,  6.9015e-02, -5.4696e-02,\n",
      "         -2.1559e-01,  9.3496e-03, -1.9762e-01,  1.5858e-01,  2.1279e-01,\n",
      "         -1.9341e-02,  9.0839e-02, -2.1355e-02,  9.1469e-02, -5.2383e-02,\n",
      "         -1.1814e-01,  5.7031e-02,  6.1327e-02, -4.2016e-02,  1.1818e-01,\n",
      "         -9.4954e-02,  5.8340e-02, -1.5831e-01,  3.4571e-02, -1.7680e-01,\n",
      "          2.3102e-01,  1.7379e-01, -5.5974e-02, -5.1025e-02, -5.8265e-02,\n",
      "          4.8137e-02, -4.6203e-02, -1.1040e-01,  1.1705e-01, -5.8744e-02,\n",
      "          1.1806e-01,  1.1765e-01, -5.4880e-02, -1.3129e-01,  2.2358e-01,\n",
      "          2.0673e-01,  1.5483e-01, -1.8546e-02, -1.9365e-01, -2.1659e-01,\n",
      "         -1.3519e-01,  3.1578e-01,  1.1420e-01, -9.3707e-02, -8.8212e-02,\n",
      "          1.1485e-01, -1.6297e-01,  5.6801e-02,  1.2050e-01, -5.0272e-03,\n",
      "         -2.0219e-02, -2.1257e-02, -4.9253e-02,  5.1853e-03,  5.9269e-04,\n",
      "          2.2793e-01,  4.6519e-02, -1.1972e-01,  1.5734e-01, -6.7588e-02,\n",
      "          8.3256e-02,  3.0783e-01, -3.4809e-02,  2.1096e-01, -1.6252e-01,\n",
      "         -5.1052e-02,  9.6791e-02, -2.6854e-01,  1.4608e-02,  1.6349e-01,\n",
      "          1.7675e-01,  1.5717e-01,  1.9906e-01,  1.6181e-01,  9.2366e-02,\n",
      "          2.6732e-01,  7.2780e-02,  1.6235e-01, -6.3067e-02,  1.6625e-02,\n",
      "         -9.2033e-02, -2.2553e-01, -1.5556e-01, -3.7519e-02, -1.3180e-01,\n",
      "          1.3411e-01,  1.6382e-01, -6.4271e-02,  1.9402e-01, -2.6143e-02,\n",
      "          1.0061e-01, -1.9551e-01,  1.1463e-01,  1.6493e-02, -1.6571e-01,\n",
      "          2.1907e-01, -2.9450e-02,  3.1340e-01, -1.0838e-01, -1.0504e-01,\n",
      "         -6.8561e-02,  1.0753e-01, -1.9356e-01,  1.2919e-01, -3.9717e-02,\n",
      "          9.2636e-02, -1.9125e-01,  2.3582e-01, -1.1945e-01,  1.5477e-01,\n",
      "         -3.8127e-02,  2.0123e-01, -6.1552e-03, -1.0711e-01,  3.3788e-02,\n",
      "         -2.0534e-02, -4.9676e-03,  2.8589e-03, -3.6689e-02, -2.1328e-01,\n",
      "         -1.4868e-01,  2.6531e-02,  1.2155e-01,  1.1693e-01, -2.4542e-02,\n",
      "         -1.5819e-01, -6.8674e-02, -4.8566e-02, -1.7906e-01, -2.1771e-01,\n",
      "         -8.5817e-02, -1.0364e-01,  1.7188e-01,  1.1207e-01, -6.8419e-02,\n",
      "         -2.3518e-01,  3.0116e-01, -3.1026e-02,  3.4900e-02,  2.5012e-01,\n",
      "         -9.1717e-02,  2.4441e-01,  3.7719e-03, -8.1975e-02, -3.8284e-01,\n",
      "         -1.1271e-01, -5.0697e-02, -1.0167e-01,  5.4782e-03,  7.5993e-02,\n",
      "          9.1630e-03, -2.5082e-01, -1.6118e-01, -7.6713e-02,  1.3517e-01,\n",
      "          7.0381e-02,  4.6834e-02, -6.4672e-02,  5.6713e-02, -1.9236e-01,\n",
      "          7.3437e-02,  5.4120e-02, -2.3156e-02, -3.0134e-01, -5.5984e-02,\n",
      "         -1.9758e-01,  1.5430e-01, -1.2726e-01, -7.1327e-03,  7.1543e-03,\n",
      "          5.3855e-02, -4.6266e-02,  8.4268e-02, -1.8231e-01,  2.1840e-02,\n",
      "         -5.5965e-02, -1.1089e-02, -1.1627e-01,  2.1285e-03, -5.3343e-02,\n",
      "         -2.6781e-02,  6.3376e-02, -1.3235e-01,  8.4652e-02, -2.3241e-01,\n",
      "          4.4964e-02, -1.7398e-01,  6.2027e-02, -1.5796e-01, -2.5744e-01,\n",
      "         -1.1007e-01, -6.5420e-02,  2.2220e-01, -9.8617e-03, -1.6938e-01,\n",
      "          1.9939e-01,  1.0651e-02,  1.4654e-01, -1.2393e-01, -8.2759e-02,\n",
      "          2.0688e-01,  9.2506e-02,  4.4414e-01,  9.4618e-02, -1.1607e-01,\n",
      "          1.4504e-01,  1.9430e-01,  9.2222e-02,  5.8293e-02,  3.6606e-02,\n",
      "          3.3917e-01, -2.9710e-01,  4.1147e-01,  9.0828e-02, -1.2812e-03,\n",
      "         -1.0603e-01, -6.5858e-03,  1.8928e-01,  7.4924e-02, -1.0575e-01,\n",
      "          2.0516e-01,  1.6082e-01,  7.7977e-02,  2.6957e-02, -1.6551e-02,\n",
      "         -3.6133e-01,  1.3068e-01,  7.4801e-02, -5.4478e-02,  8.3701e-02,\n",
      "          1.2173e-01,  1.4161e-02, -2.3677e-02,  1.0082e-01, -9.7853e-02,\n",
      "         -1.5791e-02,  1.9924e-02,  2.3156e-01, -2.5206e-01,  2.2967e-02,\n",
      "         -9.6515e-02, -9.1824e-02,  9.8143e-04,  9.8579e-03, -1.0750e-01,\n",
      "         -5.4786e-02, -3.6224e-02,  3.6728e-02,  1.0147e-01,  2.3833e-01,\n",
      "          1.5554e-01, -1.0998e-01, -3.4063e-03, -1.8646e-01,  1.0390e-01,\n",
      "          4.9710e-02, -1.0351e-01,  7.5764e-02, -8.4752e-02, -6.3049e-02,\n",
      "          8.0408e-02, -6.5533e-02, -3.2340e-01, -8.4913e-02,  1.1270e-01,\n",
      "         -3.8228e-02,  9.7312e-02, -1.3829e-02,  2.6522e-02,  5.5974e-02,\n",
      "          2.1856e-01,  1.0289e-01, -2.0547e-01,  9.4990e-02, -2.7975e-02,\n",
      "          9.1385e-02, -9.2363e-02,  1.6438e-01,  2.9245e-01, -8.9069e-02,\n",
      "         -1.9168e-01, -4.2133e-01,  6.1639e-03, -1.4060e-01, -3.6068e-02,\n",
      "          1.6059e-01, -6.7662e-02,  6.2596e-02,  1.0232e-01,  2.2899e-01,\n",
      "          2.5788e-02, -1.9785e-01, -1.8754e-01, -1.4035e-01,  7.0642e-02,\n",
      "          2.1601e-02,  1.1655e-01, -1.0914e-01, -1.5009e-01,  1.5749e-01,\n",
      "          2.6849e-02, -1.3059e-02, -1.6485e-01, -1.4252e-01, -7.1967e-02,\n",
      "         -7.3936e-04, -3.1149e-02,  2.7459e-02,  1.9316e-01, -6.8135e-02,\n",
      "         -2.7532e-01,  6.9946e-02,  1.5482e-01,  8.6967e-02,  2.5061e-02,\n",
      "         -2.8045e-01,  2.1260e-02,  1.8930e-01, -3.4897e-02, -2.0798e-01,\n",
      "          7.5728e-02, -5.0073e-02,  1.0690e-01,  5.9092e-02, -2.1312e-02,\n",
      "         -1.9630e-01, -2.3033e-02,  3.1333e-02,  1.1621e-01, -3.5153e-01,\n",
      "         -5.5620e-02,  9.5929e-03,  4.2184e-02, -8.6881e-02, -3.9419e-03,\n",
      "         -9.3257e-03,  2.0033e-02,  8.8576e-02, -3.3399e-02,  3.9832e-02,\n",
      "          8.7158e-02,  2.9711e-01,  3.8829e-01,  2.0089e-01, -1.3600e-01,\n",
      "         -4.3451e-02,  3.9408e-02, -6.5347e-02,  1.8267e-01,  1.4714e-01,\n",
      "          1.4242e-01, -1.1987e-01, -1.4043e-01, -1.9513e-02,  3.7494e-01,\n",
      "         -1.5519e-02,  3.0751e-02, -1.7179e-01,  1.7455e-01, -3.4980e-01,\n",
      "          1.1597e-01, -2.1844e-02,  6.7766e-02,  6.6282e-02,  2.2995e-01,\n",
      "          8.2634e-03, -3.5178e-01,  3.3106e-02,  3.5076e-02,  1.6430e-02,\n",
      "         -8.4235e-02,  5.4503e-02,  9.6435e-04,  2.8674e-02, -1.3532e-01,\n",
      "         -2.6294e-02, -5.5007e-02,  1.1061e-01,  1.0550e-01,  9.3678e-02,\n",
      "         -2.6655e-01, -4.9271e-02,  1.3803e-01,  1.1121e-01, -3.3154e-02,\n",
      "         -2.1885e-01,  3.0689e-03,  2.6391e-02, -1.6543e-01,  1.0858e-01,\n",
      "          1.3768e-01, -1.2253e-02, -8.5382e-02, -1.1151e-01,  1.5528e-01,\n",
      "          2.1157e-01, -4.5687e-02,  6.3494e-02, -2.9069e-01,  1.6050e-01,\n",
      "         -1.5436e-01, -1.2828e-01,  4.2580e-02,  7.0900e-02,  1.5831e-01,\n",
      "          5.5365e-02, -1.4198e-02,  1.3003e-01,  7.0494e-02,  2.3917e-02,\n",
      "         -8.6394e-02, -1.2560e-02,  1.2180e-01, -1.9106e-01,  9.5603e-02,\n",
      "          1.2539e-02, -2.9368e-02,  1.3169e-02, -1.7655e-01, -1.2926e-01,\n",
      "         -1.1952e-01, -1.7604e-01, -1.0690e-02,  1.0144e-02, -1.2039e-01,\n",
      "          4.7846e-02, -3.0477e-03, -1.8645e-01, -1.4467e-01, -1.0028e-01,\n",
      "         -1.0899e-02, -1.3454e-01,  1.1119e-01, -1.9348e-01, -6.1973e-02,\n",
      "         -2.7415e-01,  1.3925e-02, -1.6636e-01, -6.1654e-02, -1.2430e-01,\n",
      "         -7.6347e-02,  2.8000e-02,  7.6671e-02, -5.2620e-02, -1.8942e-03,\n",
      "         -6.6648e-02,  1.6117e-01, -8.6872e-02,  9.1467e-02,  3.8399e-02,\n",
      "         -9.7428e-02, -4.7680e-02, -1.3390e-01,  2.1270e-01, -1.4336e-01,\n",
      "          1.0458e-01, -1.5551e-01, -3.9882e-02, -2.1597e-01, -1.0704e-01,\n",
      "         -1.5515e-01,  3.4566e-02,  6.6966e-02, -1.6321e-01, -1.3094e-01,\n",
      "         -9.8909e-02, -3.7060e-02,  5.8723e-02,  2.3931e-01, -1.7623e-02,\n",
      "          4.3995e-02,  3.6677e-02, -8.1265e-03, -6.4531e-02,  8.3522e-02,\n",
      "         -2.2980e-02,  3.0801e-02,  3.5511e-02,  2.2215e-02, -5.3460e-02,\n",
      "          1.1244e-01,  2.7328e-02, -2.4608e-01,  2.1115e-01,  4.1911e-02,\n",
      "         -8.1267e-02,  4.1744e-02, -6.8221e-02,  6.7878e-02,  1.7571e-01,\n",
      "          3.7586e-03,  1.1079e-01,  1.1727e-01,  5.2797e-02,  8.8051e-02,\n",
      "         -1.6302e-01, -2.1185e-01, -1.0420e-01,  2.5103e-02,  2.9720e-04,\n",
      "          3.1391e-01, -1.3981e-02, -2.2938e-02, -1.2573e-02,  5.6469e-02,\n",
      "          1.6856e-01,  5.9039e-02,  7.5570e-02, -2.3455e-02,  2.5366e-02,\n",
      "          2.7940e-02, -3.9090e-02,  1.2791e-01,  6.2877e-02, -1.8029e-01,\n",
      "         -8.7321e-02, -7.6692e-02,  1.4731e-01, -1.3064e-02, -6.9925e-02,\n",
      "          1.4588e-01, -1.1230e-01,  9.1792e-02,  9.2332e-02, -1.4318e-01,\n",
      "          5.4827e-02, -2.5486e-03,  2.0754e-01,  3.7518e-02,  1.5162e-01,\n",
      "         -8.7280e-02, -4.2452e-02, -6.9645e-02, -1.1893e-01,  4.0818e-02,\n",
      "         -6.7943e-04,  3.9490e-02,  3.4290e-01,  2.4775e-02, -1.0182e-01,\n",
      "         -9.6043e-02, -2.5825e-01, -8.8251e-02, -8.4495e-02,  2.3360e-02,\n",
      "         -5.6267e-02, -3.7769e-02, -2.1407e-01, -6.6326e-02, -1.3079e-01,\n",
      "         -2.2451e-01, -1.1398e-01, -5.3282e-02, -8.4912e-02,  3.8202e-02,\n",
      "          7.2550e-02, -1.0385e-01,  1.6786e-01, -5.1180e-02,  1.5802e-01,\n",
      "          3.4603e-02, -2.8731e-01,  2.4900e-01,  3.7402e-01, -6.0786e-03,\n",
      "          3.9968e-02, -8.9736e-02,  5.0936e-02, -1.5304e-01,  2.7756e-01,\n",
      "          1.2287e-01,  1.8033e-01, -8.1023e-02,  3.1221e-03,  2.1015e-01,\n",
      "          2.5007e-01, -1.6744e-01,  9.0424e-02, -6.5787e-02,  7.1204e-02,\n",
      "         -1.7970e-01, -1.5061e-03, -1.1880e-01,  7.5336e-02, -2.2739e-01,\n",
      "          1.0607e-01,  4.8050e-02,  1.5454e-01,  9.3855e-02,  1.0234e-01,\n",
      "          1.9075e-01, -1.9221e-01, -1.3821e-01, -3.4718e-02,  8.9249e-02,\n",
      "         -1.5925e-01,  2.0870e-01,  4.3119e-02, -6.5400e-02,  1.8168e-03,\n",
      "          7.7486e-02, -2.4929e-01,  1.0387e-01,  1.5491e-01,  5.6089e-02,\n",
      "         -2.8691e-02,  4.7854e-02,  2.5415e-02,  1.0883e-01, -4.0620e-02,\n",
      "         -4.5605e-01,  1.4142e-01,  3.6772e-01,  1.4890e-01,  2.6118e-01,\n",
      "         -5.5865e-02, -2.0825e-02, -8.3900e-02, -6.8030e-02,  1.5751e-01,\n",
      "         -4.6586e-03,  3.7709e-02, -2.1520e-02, -1.3284e-01, -4.2675e-02,\n",
      "          2.2317e-01,  9.3006e-02, -8.9699e-02,  1.2241e-01, -2.4055e-02,\n",
      "         -8.6703e-02,  1.0214e-01,  8.3618e-02,  4.5189e-02, -2.6116e-01,\n",
      "          3.2370e-02,  1.7277e-01,  7.3400e-02,  6.3508e-02,  1.1366e-01,\n",
      "          4.1475e-03,  3.0349e-01, -1.1058e-01, -5.9853e-03,  2.5796e-01,\n",
      "         -6.6116e-02, -8.3806e-02,  9.6370e-02, -2.0051e-03, -5.8033e-02,\n",
      "         -1.1869e-01, -2.3880e-01, -2.3005e-01, -1.4284e-01,  3.3195e-02,\n",
      "          1.4064e-01, -5.0261e-02,  7.2967e-02, -1.5102e-01,  3.9412e-02,\n",
      "          2.0414e-01, -9.4001e-02, -2.1940e-01, -8.3281e-02,  1.7880e-01,\n",
      "          1.1475e-01, -1.6888e-02, -1.8033e-02, -1.1642e-01,  2.6347e-01,\n",
      "         -7.1271e-02,  4.7242e-02,  4.5683e-03, -4.5868e-02,  7.5391e-02,\n",
      "          2.4886e-01,  1.2715e-01, -4.0156e-02, -5.9336e-02,  1.1446e-01,\n",
      "          9.3721e-02, -1.6237e-01,  2.6430e-01,  1.7261e-02,  3.9623e-02,\n",
      "          1.9957e-01,  2.6121e-02, -1.2755e-01, -1.1512e-01, -1.0573e-01,\n",
      "         -4.9340e-02, -1.4006e-01, -7.1589e-03, -2.0621e-01,  1.2195e-01,\n",
      "         -5.8535e-02, -5.0421e-02,  2.5021e-01,  9.0075e-02,  1.2298e-01,\n",
      "          1.0047e-01,  1.3989e-01,  8.6901e-03]]), hidden_states=None, past_key_values=None, attentions=None, cross_attentions=None)\n"
     ]
    }
   ],
   "source": [
    "import torch\n",
    "from transformers import AutoModel, AutoTokenizer\n",
    "\n",
    "phobert = AutoModel.from_pretrained(\"vinai/phobert-base-v2\")\n",
    "tokenizer = AutoTokenizer.from_pretrained(\"vinai/phobert-base-v2\")\n",
    "\n",
    "# INPUT TEXT MUST BE ALREADY WORD-SEGMENTED!\n",
    "sentence = 'Chúng_tôi là những nghiên_cứu_viên .'  \n",
    "\n",
    "input_ids = torch.tensor([tokenizer.encode(sentence)])\n",
    "\n",
    "with torch.no_grad():\n",
    "    features = phobert(input_ids)  # Models outputs are now tuples\n",
    "    print('features', features)\n",
    "\n",
    "## With TensorFlow 2.0+:\n",
    "# from transformers import TFAutoModel\n",
    "# phobert = TFAutoModel.from_pretrained(\"vinai/phobert-base\")"
   ]
  }
 ],
 "metadata": {
  "kernelspec": {
   "display_name": "Python 3",
   "language": "python",
   "name": "python3"
  },
  "language_info": {
   "codemirror_mode": {
    "name": "ipython",
    "version": 3
   },
   "file_extension": ".py",
   "mimetype": "text/x-python",
   "name": "python",
   "nbconvert_exporter": "python",
   "pygments_lexer": "ipython3",
   "version": "3.10.3"
  },
  "papermill": {
   "default_parameters": {},
   "duration": 66.698033,
   "end_time": "2023-03-21T09:11:52.763306",
   "environment_variables": {},
   "exception": null,
   "input_path": "__notebook__.ipynb",
   "output_path": "__notebook__.ipynb",
   "parameters": {},
   "start_time": "2023-03-21T09:10:46.065273",
   "version": "2.4.0"
  }
 },
 "nbformat": 4,
 "nbformat_minor": 5
}
