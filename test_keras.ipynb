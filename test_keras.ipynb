{
 "cells": [
  {
   "cell_type": "code",
   "execution_count": 1,
   "metadata": {},
   "outputs": [
    {
     "name": "stdout",
     "output_type": "stream",
     "text": [
      "Epoch 1/10\n"
     ]
    },
    {
     "name": "stderr",
     "output_type": "stream",
     "text": [
      "2023-06-10 10:21:07.210451: W tensorflow/tsl/platform/profile_utils/cpu_utils.cc:128] Failed to get CPU frequency: 0 Hz\n"
     ]
    },
    {
     "name": "stdout",
     "output_type": "stream",
     "text": [
      "3/3 [==============================] - 0s 2ms/step - loss: 0.6976\n",
      "Epoch 2/10\n",
      "3/3 [==============================] - 0s 1ms/step - loss: 0.6939\n",
      "Epoch 3/10\n",
      "3/3 [==============================] - 0s 805us/step - loss: 0.6914\n",
      "Epoch 4/10\n",
      "3/3 [==============================] - 0s 1ms/step - loss: 0.6873\n",
      "Epoch 5/10\n",
      "3/3 [==============================] - 0s 1ms/step - loss: 0.6826\n",
      "Epoch 6/10\n",
      "3/3 [==============================] - 0s 988us/step - loss: 0.6796\n",
      "Epoch 7/10\n",
      "3/3 [==============================] - 0s 835us/step - loss: 0.6763\n",
      "Epoch 8/10\n",
      "3/3 [==============================] - 0s 869us/step - loss: 0.6733\n",
      "Epoch 9/10\n",
      "3/3 [==============================] - 0s 1ms/step - loss: 0.6690\n",
      "Epoch 10/10\n",
      "3/3 [==============================] - 0s 2ms/step - loss: 0.6666\n"
     ]
    },
    {
     "data": {
      "text/plain": [
       "<keras.callbacks.History at 0x177b7f190>"
      ]
     },
     "execution_count": 1,
     "metadata": {},
     "output_type": "execute_result"
    }
   ],
   "source": [
    "import tensorflow as tf\n",
    "from keras.layers import Input, Dense\n",
    "from keras import Model\n",
    "\n",
    "# Define your input data\n",
    "input_data = [[0.2, 0.5, 0.1], [0.7, 0.3, 0.9], [0.4, 0.8, 0.6]]\n",
    "\n",
    "# Create an input layer\n",
    "input_layer = Input(shape=(3,))\n",
    "\n",
    "# Create the rest of your network\n",
    "hidden_layer = Dense(4, activation='relu')(input_layer)\n",
    "output_layer = Dense(1, activation='sigmoid')(hidden_layer)\n",
    "\n",
    "# Create a model with the input layer as the input and output layer as the output\n",
    "model = Model(inputs=input_layer, outputs=output_layer)\n",
    "\n",
    "# Compile the model\n",
    "model.compile(optimizer='adam', loss='binary_crossentropy')\n",
    "\n",
    "# Train the model\n",
    "labels = [0, 1, 1]  # Dummy labels for demonstration purposes\n",
    "model.fit(input_data, labels, epochs=10, batch_size=1)\n"
   ]
  }
 ],
 "metadata": {
  "kernelspec": {
   "display_name": "Python 3",
   "language": "python",
   "name": "python3"
  },
  "language_info": {
   "codemirror_mode": {
    "name": "ipython",
    "version": 3
   },
   "file_extension": ".py",
   "mimetype": "text/x-python",
   "name": "python",
   "nbconvert_exporter": "python",
   "pygments_lexer": "ipython3",
   "version": "3.10.3"
  },
  "orig_nbformat": 4
 },
 "nbformat": 4,
 "nbformat_minor": 2
}
