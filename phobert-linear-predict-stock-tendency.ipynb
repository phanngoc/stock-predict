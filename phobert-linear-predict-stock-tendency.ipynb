{
 "cells": [
  {
   "attachments": {},
   "cell_type": "markdown",
   "id": "dd381fa5",
   "metadata": {},
   "source": [
    "# Sử dụng model phobert-base cho bài toán regress tính khuynh hướng giá stock dựa trên tin tức"
   ]
  },
  {
   "attachments": {},
   "cell_type": "markdown",
   "id": "077cba5c",
   "metadata": {
    "papermill": {
     "duration": 0.00482,
     "end_time": "2023-03-21T09:11:08.593497",
     "exception": false,
     "start_time": "2023-03-21T09:11:08.588677",
     "status": "completed"
    },
    "tags": []
   },
   "source": [
    "### Load data from google sheet \n",
    "https://docs.google.com/spreadsheets/d/1ZSLM2gc6GBWs1fvvNwzA0D7jusRWv2xPVqOVoXcYJ3o/edit#gid=732292548"
   ]
  },
  {
   "cell_type": "code",
   "execution_count": 152,
   "id": "3a3ea012",
   "metadata": {
    "execution": {
     "iopub.execute_input": "2023-03-21T09:11:08.606765Z",
     "iopub.status.busy": "2023-03-21T09:11:08.605763Z",
     "iopub.status.idle": "2023-03-21T09:11:09.838709Z",
     "shell.execute_reply": "2023-03-21T09:11:09.837039Z"
    },
    "papermill": {
     "duration": 1.243328,
     "end_time": "2023-03-21T09:11:09.841944",
     "exception": false,
     "start_time": "2023-03-21T09:11:08.598616",
     "status": "completed"
    },
    "tags": []
   },
   "outputs": [
    {
     "name": "stdout",
     "output_type": "stream",
     "text": [
      "data [{'id': 1, 'title': 'Dow Jones tăng hơn 300 điểm, chấm dứt 5 phiên giảm liên tiếp', 'content': 'Chứng khoán Mỹ khởi sắc vào ngày thứ Ba (14/3), khi nhà đầu tư đặt cược vào việc nguy cơ lan truyền sau vụ phá sản của các ngân hàng Silicon Valley và Signature đã được ngăn chặn.\\n\\n\\n\\nKết thúc phiên giao dịch ngày thứ Ba, chỉ số Dow Jones tăng 336.26 điểm (tương đương 1.06%) lên 32,155.40 điểm, chấm dứt chuỗi 5 phiên lao dốc liên tiếp. Chỉ số S&P 500 tiến 1.65% lên 3,919.29 điểm. Chỉ số Nasdaq Composite cộng 2.14% lên 11,428.15 điểm.\\n\\nSự nhiệt tình mua vào các cổ phiếu ngân hàng của nhà đầu tư đã giảm đi phần nào vào buổi chiều. Tuy nhiên, nhiều cổ phiếu vẫn ghi nhận đà tăng, đánh dấu bước đảo chiều sau 2 phiên giảm sâu khi nhà đầu tư ngày càng tin tưởng rằng những ngân hàng đó sẽ không chịu chung số phận như ngân hàng Silicon Valley và Signature. Các nhà quản lý cho biết vào ngày 12/3 rằng họ đã xây dựng một kế hoạch để can thiệp cho tất cả những người gửi tiền ở 2 ngân hàng này.\\n\\nChứng chỉ quỹ SPDR S&P Regional Banking ETF tiến 2%, phục hồi phần nào sau đà lao dốc 12% trong phiên trước đó. Cổ phiếu First Republic Bank bứt phá gần 27% sau khi bốc hơi gần 62% vào ngày 13/3. Cổ phiếu KeyCorp vọt gần 7% trong đợt phục hồi nhẹ sau khi trượt dốc 27%.\\n\\nNhà đầu tư đang chờ đợi những gì tiếp theo sẽ xảy ra cho lĩnh vực ngân hàng trước những bất ổn gần đây.\\n\\nĐà tăng nới rộng sang ngoài các lĩnh vực tài chính, với tất cả 11 lĩnh vực thuộc S&P 500 đều tăng điểm trong ngày thứ Ba.\\n\\nNhà đầu tư cũng tập trung chú ý vào dữ liệu lạm phát mới nhất của Mỹ.\\n\\nChỉ số giá tiêu dùng CPI tháng 2 tăng 0.4% so với tháng 1, trùng khớp với dự báo từ các chuyên gia kinh tế tham gia cuộc thăm dò của Dow Jones. Mức tăng hàng năm của CPI là 6%, cũng phù hợp với kỳ vọng của các nhà kinh tế. CPI cốt lõi, vốn loại bỏ giá năng lượng và thực phẩm, tăng so với tháng trước một chút so với dự kiến của các nhà kinh tế là 0.5%, trong khi mức tăng hàng năm là 5.5% phù hợp với dự báo.\\n', 'date': '2023/02/07', 'stock_price': 100, 'status': 1}]\n"
     ]
    }
   ],
   "source": [
    "import gspread\n",
    "import pandas as pd\n",
    "from oauth2client.service_account import ServiceAccountCredentials\n",
    "# define the scope\n",
    "scope = ['https://spreadsheets.google.com/feeds','https://www.googleapis.com/auth/drive']\n",
    "\n",
    "# add credentials to the account\n",
    "creds = ServiceAccountCredentials.from_json_keyfile_name('./key/questioniso-0a60ce8c39c1.json', scope)\n",
    "\n",
    "# authorize the clientsheet \n",
    "client = gspread.authorize(creds)\n",
    "\n",
    "sheet = client.open_by_key('1ZSLM2gc6GBWs1fvvNwzA0D7jusRWv2xPVqOVoXcYJ3o')\n",
    "\n",
    "# get the first sheet of the Spreadsheet\n",
    "sheet_instance = sheet.worksheet('news')\n",
    "\n",
    "data = sheet_instance.get_all_records()\n",
    "print('data', data[:1])"
   ]
  },
  {
   "cell_type": "code",
   "execution_count": 153,
   "id": "b0867220",
   "metadata": {
    "execution": {
     "iopub.execute_input": "2023-03-21T09:11:09.855314Z",
     "iopub.status.busy": "2023-03-21T09:11:09.854468Z",
     "iopub.status.idle": "2023-03-21T09:11:09.899346Z",
     "shell.execute_reply": "2023-03-21T09:11:09.898132Z"
    },
    "papermill": {
     "duration": 0.054436,
     "end_time": "2023-03-21T09:11:09.901750",
     "exception": false,
     "start_time": "2023-03-21T09:11:09.847314",
     "status": "completed"
    },
    "tags": []
   },
   "outputs": [
    {
     "data": {
      "text/html": [
       "<div>\n",
       "<style scoped>\n",
       "    .dataframe tbody tr th:only-of-type {\n",
       "        vertical-align: middle;\n",
       "    }\n",
       "\n",
       "    .dataframe tbody tr th {\n",
       "        vertical-align: top;\n",
       "    }\n",
       "\n",
       "    .dataframe thead th {\n",
       "        text-align: right;\n",
       "    }\n",
       "</style>\n",
       "<table border=\"1\" class=\"dataframe\">\n",
       "  <thead>\n",
       "    <tr style=\"text-align: right;\">\n",
       "      <th></th>\n",
       "      <th>title</th>\n",
       "      <th>content</th>\n",
       "      <th>date</th>\n",
       "      <th>stock_price</th>\n",
       "      <th>status</th>\n",
       "    </tr>\n",
       "  </thead>\n",
       "  <tbody>\n",
       "    <tr>\n",
       "      <th>0</th>\n",
       "      <td>Dow Jones tăng hơn 300 điểm, chấm dứt 5 phiên ...</td>\n",
       "      <td>Chứng khoán Mỹ khởi sắc vào ngày thứ Ba (14/3)...</td>\n",
       "      <td>2023/02/07</td>\n",
       "      <td>100</td>\n",
       "      <td>1.0</td>\n",
       "    </tr>\n",
       "    <tr>\n",
       "      <th>1</th>\n",
       "      <td>Vàng thế giới lùi nhẹ khi lợi suất trái phiếu ...</td>\n",
       "      <td>Giá vàng giảm vào ngày thứ Ba (14/3) khi lợi s...</td>\n",
       "      <td>2023/02/08</td>\n",
       "      <td>98</td>\n",
       "      <td>-0.5</td>\n",
       "    </tr>\n",
       "    <tr>\n",
       "      <th>2</th>\n",
       "      <td>Xét xử vụ DongABank: 'Lạnh gáy' với khoản vay ...</td>\n",
       "      <td>Sau khi bị cáo Phùng Ngọc Khánh (cựu Chủ tịch ...</td>\n",
       "      <td>2023/02/09</td>\n",
       "      <td>95</td>\n",
       "      <td>-1.0</td>\n",
       "    </tr>\n",
       "    <tr>\n",
       "      <th>3</th>\n",
       "      <td>Cựu tổng giám đốc Ngân hàng Đông Á Trần Phương...</td>\n",
       "      <td>Cùng các đồng phạm gây thiệt hại tổng số tiền ...</td>\n",
       "      <td>2023/02/10</td>\n",
       "      <td>93</td>\n",
       "      <td>-1.0</td>\n",
       "    </tr>\n",
       "    <tr>\n",
       "      <th>4</th>\n",
       "      <td>Nóng: Ngân hàng Nhà nước giảm lãi suất điều hành</td>\n",
       "      <td>Ngân hàng Nhà nước (NHNN) vừa ban hành các quy...</td>\n",
       "      <td>2023/02/11</td>\n",
       "      <td>94</td>\n",
       "      <td>1.0</td>\n",
       "    </tr>\n",
       "  </tbody>\n",
       "</table>\n",
       "</div>"
      ],
      "text/plain": [
       "                                               title  \\\n",
       "0  Dow Jones tăng hơn 300 điểm, chấm dứt 5 phiên ...   \n",
       "1  Vàng thế giới lùi nhẹ khi lợi suất trái phiếu ...   \n",
       "2  Xét xử vụ DongABank: 'Lạnh gáy' với khoản vay ...   \n",
       "3  Cựu tổng giám đốc Ngân hàng Đông Á Trần Phương...   \n",
       "4   Nóng: Ngân hàng Nhà nước giảm lãi suất điều hành   \n",
       "\n",
       "                                             content        date stock_price  \\\n",
       "0  Chứng khoán Mỹ khởi sắc vào ngày thứ Ba (14/3)...  2023/02/07         100   \n",
       "1  Giá vàng giảm vào ngày thứ Ba (14/3) khi lợi s...  2023/02/08          98   \n",
       "2  Sau khi bị cáo Phùng Ngọc Khánh (cựu Chủ tịch ...  2023/02/09          95   \n",
       "3  Cùng các đồng phạm gây thiệt hại tổng số tiền ...  2023/02/10          93   \n",
       "4  Ngân hàng Nhà nước (NHNN) vừa ban hành các quy...  2023/02/11          94   \n",
       "\n",
       "   status  \n",
       "0     1.0  \n",
       "1    -0.5  \n",
       "2    -1.0  \n",
       "3    -1.0  \n",
       "4     1.0  "
      ]
     },
     "execution_count": 153,
     "metadata": {},
     "output_type": "execute_result"
    }
   ],
   "source": [
    "df = pd.DataFrame()\n",
    "title = []\n",
    "content = []\n",
    "date = []\n",
    "stock_price = []\n",
    "status = []\n",
    "\n",
    "for values in data:\n",
    "    title.append(values['title'])\n",
    "    content.append(values['content'])\n",
    "    date.append(values['date'])\n",
    "    stock_price.append(values['stock_price'])\n",
    "    status.append(values['status'])\n",
    "\n",
    "df['title'] = title\n",
    "df['content'] = content\n",
    "df['date'] = date\n",
    "df['stock_price'] = stock_price\n",
    "df['status'] = status\n",
    "\n",
    "df[0:5]"
   ]
  },
  {
   "cell_type": "code",
   "execution_count": 154,
   "id": "f2ecacc8",
   "metadata": {
    "execution": {
     "iopub.execute_input": "2023-03-21T09:11:23.201387Z",
     "iopub.status.busy": "2023-03-21T09:11:23.200943Z",
     "iopub.status.idle": "2023-03-21T09:11:25.490367Z",
     "shell.execute_reply": "2023-03-21T09:11:25.489064Z"
    },
    "papermill": {
     "duration": 2.301,
     "end_time": "2023-03-21T09:11:25.493174",
     "exception": false,
     "start_time": "2023-03-21T09:11:23.192174",
     "status": "completed"
    },
    "tags": []
   },
   "outputs": [
    {
     "name": "stdout",
     "output_type": "stream",
     "text": [
      "documents: ['Chứng khoán Mỹ khởi sắc vào ngày thứ Ba (14/3), khi nhà đầu tư đặt cược vào việc nguy cơ lan truyền sau vụ phá sản của các ngân hàng Silicon Valley và Signature đã được ngăn chặn.\\n\\n\\n\\nKết thúc phiên giao dịch ngày thứ Ba, chỉ số Dow Jones tăng 336.26 điểm (tương đương 1.06%) lên 32,155.40 điểm, chấm dứt chuỗi 5 phiên lao dốc liên tiếp. Chỉ số S&P 500 tiến 1.65% lên 3,919.29 điểm. Chỉ số Nasdaq Composite cộng 2.14% lên 11,428.15 điểm.\\n\\nSự nhiệt tình mua vào các cổ phiếu ngân hàng của nhà đầu tư đã giảm đi phần nào vào buổi chiều. Tuy nhiên, nhiều cổ phiếu vẫn ghi nhận đà tăng, đánh dấu bước đảo chiều sau 2 phiên giảm sâu khi nhà đầu tư ngày càng tin tưởng rằng những ngân hàng đó sẽ không chịu chung số phận như ngân hàng Silicon Valley và Signature. Các nhà quản lý cho biết vào ngày 12/3 rằng họ đã xây dựng một kế hoạch để can thiệp cho tất cả những người gửi tiền ở 2 ngân hàng này.\\n\\nChứng chỉ quỹ SPDR S&P Regional Banking ETF tiến 2%, phục hồi phần nào sau đà lao dốc 12% trong phiên trước đó. Cổ phiếu First Republic Bank bứt phá gần 27% sau khi bốc hơi gần 62% vào ngày 13/3. Cổ phiếu KeyCorp vọt gần 7% trong đợt phục hồi nhẹ sau khi trượt dốc 27%.\\n\\nNhà đầu tư đang chờ đợi những gì tiếp theo sẽ xảy ra cho lĩnh vực ngân hàng trước những bất ổn gần đây.\\n\\nĐà tăng nới rộng sang ngoài các lĩnh vực tài chính, với tất cả 11 lĩnh vực thuộc S&P 500 đều tăng điểm trong ngày thứ Ba.\\n\\nNhà đầu tư cũng tập trung chú ý vào dữ liệu lạm phát mới nhất của Mỹ.\\n\\nChỉ số giá tiêu dùng CPI tháng 2 tăng 0.4% so với tháng 1, trùng khớp với dự báo từ các chuyên gia kinh tế tham gia cuộc thăm dò của Dow Jones. Mức tăng hàng năm của CPI là 6%, cũng phù hợp với kỳ vọng của các nhà kinh tế. CPI cốt lõi, vốn loại bỏ giá năng lượng và thực phẩm, tăng so với tháng trước một chút so với dự kiến của các nhà kinh tế là 0.5%, trong khi mức tăng hàng năm là 5.5% phù hợp với dự báo.\\n']\n",
      "len: 22\n"
     ]
    }
   ],
   "source": [
    "import pandas as pd\n",
    "from datetime import date, timedelta\n",
    "import re\n",
    "from underthesea import word_tokenize, sent_tokenize\n",
    "from gensim import corpora, models\n",
    "\n",
    "def clean_text(text):\n",
    "    text = str(text).lower() # lowercase text\n",
    "    return text\n",
    "\n",
    "df = df[df['stock_price'] != '']\n",
    "\n",
    "documents = df['content'].values.tolist()\n",
    "print('documents:', documents[0:1])\n",
    "print('len:', len(documents))"
   ]
  },
  {
   "attachments": {},
   "cell_type": "markdown",
   "id": "110eab92",
   "metadata": {
    "papermill": {
     "duration": 0.006536,
     "end_time": "2023-03-21T09:11:41.141494",
     "exception": false,
     "start_time": "2023-03-21T09:11:41.134958",
     "status": "completed"
    },
    "tags": []
   },
   "source": [
    "### Tính trung bình word2vec để tạo ra mảng training chỉ 2 chiều:\n",
    "(dựa theo: https://github.com/PradipNichite/Youtube-Tutorials/blob/main/Yotutube_WordVectors.ipynb)"
   ]
  },
  {
   "cell_type": "code",
   "execution_count": 155,
   "id": "931bbeed",
   "metadata": {
    "execution": {
     "iopub.execute_input": "2023-03-21T09:11:41.243025Z",
     "iopub.status.busy": "2023-03-21T09:11:41.242585Z",
     "iopub.status.idle": "2023-03-21T09:11:41.251148Z",
     "shell.execute_reply": "2023-03-21T09:11:41.249651Z"
    },
    "papermill": {
     "duration": 0.02062,
     "end_time": "2023-03-21T09:11:41.254185",
     "exception": false,
     "start_time": "2023-03-21T09:11:41.233565",
     "status": "completed"
    },
    "tags": []
   },
   "outputs": [
    {
     "name": "stdout",
     "output_type": "stream",
     "text": [
      "(22, 1) [[ 1. ]\n",
      " [-0.5]\n",
      " [-1. ]\n",
      " [-1. ]\n",
      " [ 1. ]\n",
      " [-1. ]\n",
      " [-1. ]\n",
      " [ 1. ]\n",
      " [ 1. ]\n",
      " [ 1. ]\n",
      " [ 1. ]\n",
      " [-1. ]\n",
      " [ 0.9]\n",
      " [-1. ]\n",
      " [-1. ]\n",
      " [-1. ]\n",
      " [ 0.5]\n",
      " [ 0.1]\n",
      " [ 0.4]\n",
      " [ 0.2]\n",
      " [-0.3]\n",
      " [-0.2]]\n"
     ]
    }
   ],
   "source": [
    "import numpy as np\n",
    "y_train = df['status'].values.tolist()\n",
    "statusNp = np.asarray(df['status'].values.tolist())\n",
    "Y_train = np.expand_dims(statusNp, axis = 1)\n",
    "print(Y_train.shape, Y_train)"
   ]
  },
  {
   "cell_type": "code",
   "execution_count": 156,
   "id": "296b7c65",
   "metadata": {},
   "outputs": [
    {
     "name": "stdout",
     "output_type": "stream",
     "text": [
      "MinMaxScaler(feature_range=(-1, 1))\n",
      "[1.]\n"
     ]
    }
   ],
   "source": [
    "from sklearn.preprocessing import MinMaxScaler\n",
    "scaler = MinMaxScaler(feature_range=(-1, 1)) \n",
    "print(scaler.fit(Y_train))\n",
    "print(scaler.data_max_)"
   ]
  },
  {
   "cell_type": "code",
   "execution_count": 157,
   "id": "08611ff7",
   "metadata": {},
   "outputs": [
    {
     "name": "stderr",
     "output_type": "stream",
     "text": [
      "Some weights of the model checkpoint at vinai/phobert-base-v2 were not used when initializing RobertaModel: ['lm_head.dense.bias', 'lm_head.dense.weight', 'lm_head.layer_norm.bias', 'lm_head.layer_norm.weight', 'lm_head.bias']\n",
      "- This IS expected if you are initializing RobertaModel from the checkpoint of a model trained on another task or with another architecture (e.g. initializing a BertForSequenceClassification model from a BertForPreTraining model).\n",
      "- This IS NOT expected if you are initializing RobertaModel from the checkpoint of a model that you expect to be exactly identical (initializing a BertForSequenceClassification model from a BertForSequenceClassification model).\n",
      "Some weights of RobertaModel were not initialized from the model checkpoint at vinai/phobert-base-v2 and are newly initialized: ['roberta.pooler.dense.bias', 'roberta.pooler.dense.weight']\n",
      "You should probably TRAIN this model on a down-stream task to be able to use it for predictions and inference.\n",
      "Special tokens have been added in the vocabulary, make sure the associated word embeddings are fine-tuned or trained.\n"
     ]
    }
   ],
   "source": [
    "import numpy as np\n",
    "import torch\n",
    "from transformers import AutoModel, AutoTokenizer\n",
    "\n",
    "phobert = AutoModel.from_pretrained(\"vinai/phobert-base-v2\")\n",
    "tokenizer = AutoTokenizer.from_pretrained(\"vinai/phobert-base-v2\")"
   ]
  },
  {
   "cell_type": "code",
   "execution_count": 158,
   "id": "82b6f513",
   "metadata": {},
   "outputs": [
    {
     "name": "stdout",
     "output_type": "stream",
     "text": [
      "[[0. 0. 0. 0. 0.]\n",
      " [0. 0. 0. 0. 0.]]\n"
     ]
    }
   ],
   "source": [
    "print(np.zeros((2, 5)))"
   ]
  },
  {
   "cell_type": "code",
   "execution_count": 184,
   "id": "cda6dc32",
   "metadata": {},
   "outputs": [
    {
     "name": "stdout",
     "output_type": "stream",
     "text": [
      "documents: (400, 768)\n"
     ]
    }
   ],
   "source": [
    "from torch.nn.functional import pad\n",
    "def trim_words(sentence, num_word = 200):\n",
    "    # Split the sentence into words\n",
    "    words = sentence.split()\n",
    "    # Trim the sentence to 5 words\n",
    "    trimmed_sentence = \" \".join(words[:num_word])\n",
    "    return trimmed_sentence\n",
    "\n",
    "max_len = 400\n",
    "def vectorize(sentence):\n",
    "    sentence_token = trim_words(word_tokenize(sentence, format=\"text\"))\n",
    "    input_ids = torch.tensor([tokenizer.encode(sentence_token)])\n",
    "    features = phobert(input_ids)  # Models outputs are now tuples\n",
    "    features_np = features.last_hidden_state.detach()\n",
    "    padding_length = max_len - len(features_np[0])\n",
    "    padded_a = pad(features_np, (0, 0, 0, padding_length), value=0, mode='constant')\n",
    "    return padded_a.detach().numpy()[0]\n",
    "\n",
    "def vectorize_arr(sentences):\n",
    "    t = np.array([vectorize(sentence) for sentence in sentences])\n",
    "    return t\n",
    "\n",
    "\n",
    "X_train = vectorize_arr(documents)"
   ]
  },
  {
   "cell_type": "code",
   "execution_count": 188,
   "id": "f3587bf2",
   "metadata": {},
   "outputs": [
    {
     "name": "stdout",
     "output_type": "stream",
     "text": [
      "documents: (400, 768)\n",
      "words ['<s>', 'Chứng_khoán', 'Mỹ', 'khởi_sắc', 'vào', 'ngày', 'thứ@@', '_B@@', 'a', '(', '14/3', ')', ',', 'khi', 'nhà_đầu_tư', 'đặt_cược', 'vào', 'việc', 'nguy_cơ', 'lan_truyền', 'sau', 'vụ', 'phá_sản', 'của', 'các', 'ngân_hàng', 'Silicon_@@', 'Valley', 'và', 'Signa@@', 'ture', 'đã', 'được', 'ngăn_chặn', '.', 'Các', 'nhà_đầu_tư', 'đang', 'thực_hiện', 'mua_bán', 'đầu_cơ', 'là', 'nhiều', '.', '</s>']\n",
      "tensor([[    0,  5149,    93,  7864,    33,    43, 26286,  2848,  1517,    20,\n",
      "         18521,    19,     4,    26,   887, 13016,    33,    49,   750,  5384,\n",
      "            53,   178,  5905,     7,     9,   610, 41963, 23442,     6, 50348,\n",
      "         11371,    14,    11,  1608,     5,   146,   887,    52,   112,  1862,\n",
      "          7625,     8,    36,     5,     2]]) BaseModelOutputWithPoolingAndCrossAttentions(last_hidden_state=tensor([[[-0.0949,  0.5619, -0.1988,  ...,  0.1258,  0.3684,  0.1136],\n",
      "         [-0.1720,  0.0289, -0.4192,  ...,  0.0990,  0.1530, -0.0903],\n",
      "         [-0.1661,  0.2093, -0.0141,  ...,  0.0549, -0.0985, -0.0731],\n",
      "         ...,\n",
      "         [ 0.0941,  0.4109, -0.3352,  ...,  0.2037,  0.2426, -0.1100],\n",
      "         [ 0.0722,  0.3263, -0.1465,  ...,  0.0775, -0.0646,  0.0047],\n",
      "         [-0.0031,  0.5835, -0.2328,  ...,  0.1159,  0.1997,  0.1360]]],\n",
      "       grad_fn=<NativeLayerNormBackward0>), pooler_output=tensor([[ 4.9202e-02,  5.9078e-02,  2.1073e-01,  1.1527e-01,  5.7742e-02,\n",
      "         -6.8722e-02, -4.0693e-01, -4.3420e-02, -5.6196e-02,  1.6764e-01,\n",
      "          2.2622e-01,  2.3341e-01,  1.3417e-02, -9.6540e-02,  9.1885e-02,\n",
      "         -3.3752e-02,  1.1127e-02,  9.2189e-02,  2.8008e-02,  1.6057e-01,\n",
      "          3.5064e-02,  2.5359e-03,  3.5845e-02,  4.6067e-02, -7.6746e-02,\n",
      "         -1.1397e-02, -1.3435e-02,  3.7976e-02, -1.1395e-01, -1.4122e-01,\n",
      "         -4.8336e-02, -9.2731e-02, -2.2766e-01, -3.9895e-02,  1.9773e-01,\n",
      "          3.1718e-02,  2.8176e-01,  5.0818e-02,  1.3770e-01, -1.3008e-01,\n",
      "          6.5909e-02, -3.8882e-01, -8.1962e-04,  2.8564e-01, -1.0990e-01,\n",
      "         -2.5956e-01,  1.1462e-01, -1.4038e-01, -9.3682e-02,  1.0365e-01,\n",
      "         -2.4611e-02, -7.4743e-02,  1.9793e-02, -9.5636e-02,  1.6701e-01,\n",
      "          4.0355e-02, -5.8732e-02, -1.2912e-01,  2.4304e-01,  5.2235e-02,\n",
      "         -2.3605e-01,  2.6659e-01,  2.3440e-01, -9.0389e-02, -1.8826e-01,\n",
      "          5.5083e-02, -7.7414e-02, -6.2338e-02,  4.8539e-02,  1.3274e-01,\n",
      "          1.1837e-01, -6.9057e-02,  1.6938e-02,  2.7623e-01, -1.1411e-01,\n",
      "          2.3548e-01, -1.0694e-01, -1.8894e-01, -2.8552e-01, -2.2955e-01,\n",
      "          2.8298e-02, -1.4799e-01, -1.5403e-01, -6.1132e-02,  2.2145e-02,\n",
      "         -2.7531e-02, -8.4127e-02, -1.2507e-01, -6.7011e-02,  2.6365e-01,\n",
      "         -5.2056e-02,  4.5607e-02, -1.4714e-01,  7.0925e-02, -1.5052e-01,\n",
      "         -1.3121e-01, -1.0670e-01,  1.7834e-02, -3.0056e-01, -3.8989e-02,\n",
      "         -1.4475e-01, -2.7307e-01,  1.5579e-01, -1.7076e-01,  3.2485e-01,\n",
      "         -4.5853e-02, -2.4585e-01,  3.1638e-02, -1.7300e-01,  2.3981e-01,\n",
      "         -1.8349e-01, -8.7805e-02, -2.4304e-01,  2.1827e-01,  1.3634e-01,\n",
      "         -1.1580e-01,  2.8391e-01,  3.5197e-02, -3.3816e-02, -7.5773e-02,\n",
      "         -2.5469e-03, -3.3091e-02, -7.4266e-02, -5.5819e-02, -1.5201e-01,\n",
      "         -3.0353e-01, -1.4420e-02,  2.1452e-01, -1.4588e-02,  3.2111e-02,\n",
      "         -3.3060e-02,  9.4061e-02, -2.0880e-01, -5.1381e-02, -6.7584e-03,\n",
      "         -1.6182e-02, -2.9417e-01,  4.9740e-02,  6.9684e-03, -6.3364e-04,\n",
      "          2.2253e-01,  4.2930e-02, -1.9694e-01, -1.1163e-01,  2.3286e-01,\n",
      "          1.0148e-01,  3.7880e-02,  1.6529e-01,  2.8098e-01, -2.5425e-01,\n",
      "         -7.0915e-02, -6.3565e-02, -2.3508e-01,  3.4146e-01, -9.0878e-03,\n",
      "         -1.1570e-01,  7.0144e-02, -2.1058e-01,  1.1283e-02, -3.5559e-02,\n",
      "          4.4870e-02, -5.8251e-03, -4.4329e-02, -1.9086e-01, -6.1034e-02,\n",
      "          1.8361e-01, -2.7297e-01, -1.5253e-01,  1.5089e-01, -2.3423e-01,\n",
      "          3.0715e-03, -7.3110e-03,  1.8415e-01,  1.9959e-02,  1.6531e-01,\n",
      "          7.9530e-02,  2.5840e-02,  1.5563e-01, -1.8921e-01,  1.4292e-01,\n",
      "          1.3715e-01, -8.2212e-02,  6.6747e-02, -9.2342e-02,  1.1843e-01,\n",
      "         -4.0264e-02,  6.5596e-02, -1.5393e-01,  1.5442e-02, -2.0960e-02,\n",
      "          3.8253e-02, -1.8389e-01,  5.8052e-02, -1.4944e-01, -2.6189e-01,\n",
      "          1.6646e-01,  5.2970e-02, -4.0189e-03,  1.4271e-02, -1.1398e-01,\n",
      "          2.0386e-01, -2.2666e-01, -5.0171e-02,  2.6351e-02, -2.1532e-01,\n",
      "          2.7741e-01, -7.2262e-02,  2.5800e-01,  7.7738e-02,  2.2838e-03,\n",
      "         -7.1336e-02, -6.3098e-02, -8.3091e-02, -1.4397e-01,  2.6943e-02,\n",
      "          2.1421e-01,  8.2643e-03,  2.5034e-02,  3.6697e-01, -2.7263e-01,\n",
      "          2.8303e-02, -2.2498e-01,  5.8141e-03,  3.0025e-01, -2.9026e-02,\n",
      "          6.8016e-02, -2.7712e-01,  1.5906e-01, -2.6365e-01, -1.0481e-01,\n",
      "         -1.8004e-01,  4.1463e-01, -2.8105e-02,  8.6392e-03, -1.0692e-01,\n",
      "         -3.7794e-01,  2.1965e-01,  1.0030e-01, -1.9753e-01,  1.8477e-01,\n",
      "          7.3427e-02,  1.2466e-01,  1.0650e-01,  1.6147e-01,  2.7449e-01,\n",
      "          3.1306e-02,  5.1827e-02, -1.5502e-01,  1.5381e-01, -1.2019e-01,\n",
      "         -1.8097e-01, -1.7010e-01,  3.3355e-02,  1.0716e-01,  2.1055e-03,\n",
      "          7.5405e-02,  2.1091e-02, -2.0529e-01, -2.1862e-02,  2.8379e-01,\n",
      "         -1.3259e-01, -1.1906e-01,  5.6456e-02, -1.7143e-01, -2.5224e-01,\n",
      "         -4.6670e-02, -1.5824e-01, -8.7908e-02, -1.7992e-01,  2.3286e-01,\n",
      "          1.0986e-01,  1.6712e-01,  1.1716e-01,  1.5734e-01,  2.3552e-01,\n",
      "          5.6046e-02, -1.3972e-01,  1.2661e-01, -1.1070e-01,  8.0227e-02,\n",
      "         -1.2015e-01, -8.0476e-02, -1.9715e-01,  1.0037e-01, -1.5474e-01,\n",
      "          2.2343e-01,  2.0405e-02,  3.5470e-02,  1.2509e-01, -5.6199e-02,\n",
      "          1.9304e-01, -6.6116e-02, -1.0018e-01,  1.3808e-01, -1.0571e-01,\n",
      "          1.8349e-01, -1.0050e-01,  2.1446e-02,  1.0396e-01,  8.3203e-02,\n",
      "          2.2058e-01, -4.6464e-02, -2.5698e-02, -1.9627e-01,  1.7724e-01,\n",
      "         -1.9591e-01, -1.0164e-01, -8.3418e-02, -8.2038e-02, -1.3754e-02,\n",
      "         -1.4679e-01,  2.0156e-01, -7.7997e-02,  1.0796e-01,  1.4483e-01,\n",
      "          3.1524e-02, -1.0024e-01, -2.1083e-01,  1.7178e-01, -5.0076e-02,\n",
      "         -1.5769e-01, -2.0025e-01, -7.9454e-02,  2.2350e-01,  2.0923e-01,\n",
      "          6.6936e-02,  1.0309e-01,  7.1790e-02, -1.5307e-02,  1.9681e-01,\n",
      "         -5.9868e-02,  1.4643e-01,  1.1830e-01, -1.0852e-01,  2.5597e-02,\n",
      "         -7.0482e-03, -1.1672e-01,  5.9551e-02, -4.7270e-02,  9.2989e-02,\n",
      "          4.5086e-02,  2.9763e-01, -2.2101e-01,  1.8162e-01, -2.5204e-02,\n",
      "          1.9645e-02, -5.7353e-02,  5.4349e-02, -2.4159e-02,  2.5724e-02,\n",
      "         -8.6717e-02, -5.4708e-02,  1.0348e-01,  2.4340e-03,  1.8735e-01,\n",
      "         -2.5887e-01, -5.8463e-02,  1.7738e-01,  5.0166e-02, -1.2081e-01,\n",
      "          1.9642e-01,  1.4148e-01, -4.7365e-02, -1.7427e-01,  7.4349e-02,\n",
      "          2.2820e-01, -3.5440e-02, -1.8355e-02,  2.1434e-01, -3.6664e-02,\n",
      "         -1.7346e-01, -5.6086e-02,  1.9692e-02,  1.2638e-01, -1.3131e-02,\n",
      "         -8.2647e-03, -9.8316e-02, -1.1700e-01,  5.8565e-02, -3.6136e-02,\n",
      "         -1.0148e-01,  1.7888e-02, -4.4629e-02,  2.8792e-02,  2.6313e-01,\n",
      "          1.8169e-01,  1.6203e-01, -4.9444e-02,  2.6368e-01, -5.2813e-02,\n",
      "          9.0034e-02, -7.2095e-02,  4.4764e-02, -8.4258e-03,  3.8423e-02,\n",
      "         -1.0760e-01,  1.2306e-01,  1.1641e-01,  1.1002e-01,  7.2202e-02,\n",
      "          1.9766e-01, -2.4134e-01,  2.4555e-01, -8.7554e-02, -4.0022e-04,\n",
      "          1.2245e-01,  4.4008e-02, -1.4749e-01,  1.1739e-01,  9.7415e-03,\n",
      "          1.5514e-01,  4.2860e-02,  5.8712e-02,  1.5082e-01,  1.0555e-01,\n",
      "         -1.1145e-01, -2.0592e-01, -2.2754e-02, -7.1740e-02, -1.2933e-01,\n",
      "         -1.8250e-01,  1.6761e-01,  1.1884e-01, -3.1164e-02,  3.0439e-01,\n",
      "         -1.2121e-01,  2.2063e-01,  1.6605e-01,  2.2460e-02,  1.3298e-02,\n",
      "         -5.8780e-02,  6.2257e-02,  2.6705e-02, -5.7382e-02,  2.4672e-01,\n",
      "          4.1143e-02,  1.0430e-01,  8.6684e-02, -1.5604e-01, -2.7276e-01,\n",
      "          2.5191e-02,  1.7575e-01,  7.3271e-02, -5.8829e-02,  1.4757e-01,\n",
      "         -1.3849e-01, -9.5226e-02,  9.1335e-02, -1.3420e-01, -9.3289e-02,\n",
      "         -1.2999e-01,  2.2929e-01,  2.2856e-01,  1.1459e-01,  1.8466e-03,\n",
      "         -5.2389e-02, -2.1900e-02,  4.6458e-02, -4.3547e-02, -4.0666e-02,\n",
      "          3.4936e-01,  3.6595e-01,  4.5568e-02, -7.7394e-02,  1.8416e-01,\n",
      "         -3.3264e-02, -2.4900e-01,  1.5113e-01,  2.4936e-02,  1.6922e-01,\n",
      "          1.5361e-01,  9.5716e-03, -4.1339e-03,  3.1814e-02,  4.0562e-02,\n",
      "         -2.4121e-02,  3.1332e-01,  6.1541e-02,  1.2240e-01, -1.8599e-01,\n",
      "          1.8959e-01, -3.2832e-02, -9.2253e-02, -1.1217e-01,  1.2357e-01,\n",
      "          3.5372e-02, -4.7844e-02, -9.6566e-03,  1.8594e-01,  9.2759e-02,\n",
      "          1.1002e-01, -9.4003e-02, -8.5591e-02, -1.4049e-01,  1.4168e-01,\n",
      "          3.2466e-01,  2.6675e-01,  1.4739e-01,  6.0247e-02, -6.4326e-02,\n",
      "          2.2452e-01, -1.2343e-01,  1.5400e-01,  1.9155e-01,  4.0540e-01,\n",
      "          1.4393e-01, -2.1991e-02,  1.3794e-01, -1.0137e-01,  1.0506e-01,\n",
      "          1.2014e-01,  1.2076e-01, -1.2136e-01,  2.5275e-01, -2.4384e-01,\n",
      "         -1.4110e-02,  7.4884e-02, -8.0240e-02,  9.6490e-02, -1.8169e-01,\n",
      "         -7.0254e-03, -2.2572e-02,  1.3576e-01, -1.3790e-01,  1.0943e-01,\n",
      "         -9.4354e-02,  1.4713e-01,  2.6689e-01,  1.9907e-01, -2.2045e-01,\n",
      "         -3.2199e-01, -1.9480e-01,  3.7538e-03,  7.8713e-03,  9.4560e-02,\n",
      "          3.7874e-03, -1.7622e-01, -4.2978e-02,  2.6523e-02, -1.0539e-01,\n",
      "         -1.0195e-01,  1.4935e-01, -1.7272e-01,  1.7429e-01, -7.7976e-02,\n",
      "          3.0313e-02, -4.7552e-03, -3.1463e-01,  9.5270e-02, -2.3957e-01,\n",
      "         -2.4863e-02,  9.2724e-03,  2.0308e-01,  1.3190e-01,  1.7098e-01,\n",
      "          5.0105e-02,  5.3118e-02, -1.6918e-01, -2.4296e-01, -9.4935e-02,\n",
      "         -9.6886e-02,  1.4465e-01,  3.2207e-01, -2.8436e-02,  1.6012e-01,\n",
      "         -2.3479e-01,  9.5575e-02,  1.6392e-02,  1.8489e-01,  1.1024e-01,\n",
      "         -1.2713e-03,  2.2770e-01,  1.8291e-01, -3.3177e-01,  6.3814e-02,\n",
      "         -2.9715e-01, -2.8749e-01,  8.7538e-02, -3.3501e-02, -1.7356e-01,\n",
      "         -8.3620e-02, -1.0541e-02, -3.3721e-02, -2.0063e-01, -1.4125e-01,\n",
      "         -1.1098e-02,  2.6045e-01, -1.8686e-01, -1.8076e-01, -8.2568e-02,\n",
      "         -2.0178e-01, -1.6621e-01,  3.1375e-01, -1.7694e-02,  6.9725e-02,\n",
      "          1.4249e-01, -7.1536e-02, -8.0478e-02,  3.7846e-02,  2.0845e-01,\n",
      "         -1.7929e-01,  4.3863e-02, -8.5111e-03,  1.1638e-01, -2.7597e-02,\n",
      "         -1.4522e-02, -1.0053e-01,  3.5273e-01, -8.3323e-02, -7.4790e-02,\n",
      "         -5.2353e-02, -8.4732e-02, -1.3748e-01,  3.8535e-02,  2.5994e-01,\n",
      "         -9.1371e-03,  4.0050e-02, -2.8679e-01,  1.4243e-01,  1.1701e-01,\n",
      "         -3.7844e-02, -1.4924e-02, -2.1594e-01,  3.4880e-01, -1.2605e-01,\n",
      "          1.5509e-01, -2.6608e-01, -8.8477e-02,  1.0516e-01,  1.4999e-01,\n",
      "         -3.1643e-01, -4.8881e-02,  3.3588e-02, -1.1229e-01,  3.5214e-02,\n",
      "          2.0826e-02, -1.4297e-01, -3.5424e-02, -9.9681e-02, -8.1541e-02,\n",
      "          1.5408e-01, -5.5955e-02, -2.9230e-01,  1.5941e-01, -3.5725e-02,\n",
      "         -1.1402e-01,  2.2536e-02,  1.0758e-01, -9.8376e-02,  1.6389e-01,\n",
      "         -9.6080e-03, -1.0606e-01, -1.1231e-01, -2.2588e-02,  5.3307e-02,\n",
      "         -1.7244e-01, -2.9462e-01, -1.7153e-01, -6.3212e-02,  1.3158e-01,\n",
      "         -9.4399e-02,  1.2890e-01,  9.3751e-02, -2.3962e-01,  1.5204e-01,\n",
      "         -4.5114e-02, -2.0994e-01, -7.6699e-02, -5.1855e-02,  1.9994e-01,\n",
      "          9.9996e-02, -7.1072e-02, -1.2950e-01,  5.9696e-02, -2.1943e-01,\n",
      "         -7.2691e-02,  1.2074e-01,  1.3344e-01,  1.4895e-01,  3.2420e-02,\n",
      "          1.5677e-02, -9.9585e-02,  7.8386e-02, -3.6062e-02,  6.6157e-02,\n",
      "          9.1141e-02,  5.9656e-02,  2.4953e-01, -1.0455e-01, -1.3215e-01,\n",
      "         -9.5616e-02, -7.7581e-02, -2.7208e-01, -2.4623e-02, -1.2081e-01,\n",
      "          1.9468e-01,  7.2501e-03,  3.2028e-03, -5.2065e-02,  9.1341e-02,\n",
      "         -5.0444e-02, -2.2812e-01, -6.0193e-02, -1.3778e-01, -4.9975e-02,\n",
      "         -1.1365e-01,  5.5538e-02,  1.1875e-01, -4.6848e-02, -6.4470e-02,\n",
      "          1.8555e-01, -3.0044e-02,  5.0780e-02,  9.4113e-02, -3.6511e-02,\n",
      "         -1.5900e-01,  8.6737e-02,  6.3404e-02,  1.4153e-01,  6.0648e-02,\n",
      "         -2.3295e-01, -2.1586e-01, -9.5445e-03,  2.4797e-01,  2.0334e-01,\n",
      "          1.7298e-01, -7.8096e-02,  1.8046e-01, -2.9591e-01,  8.2993e-02,\n",
      "          9.0042e-02, -1.0520e-02, -4.1023e-03, -1.4080e-02,  2.3718e-02,\n",
      "         -7.5433e-02, -1.0934e-02,  1.6771e-01, -3.0908e-02, -3.3708e-02,\n",
      "         -2.7380e-02,  7.2944e-02, -3.9918e-02,  1.1154e-01, -7.6306e-02,\n",
      "         -2.9719e-01,  5.2787e-02, -1.0291e-01,  2.0800e-01, -1.2632e-01,\n",
      "         -1.9078e-01,  1.0988e-01, -2.2961e-01,  3.7795e-02,  1.4518e-02,\n",
      "          6.7327e-02, -8.2953e-02, -2.9234e-02, -2.2989e-01, -1.1490e-01,\n",
      "          5.7302e-02, -1.0430e-01, -9.7643e-02,  1.0888e-01, -3.7310e-02,\n",
      "         -1.4268e-01, -5.9224e-02, -2.9153e-01]], grad_fn=<TanhBackward0>), hidden_states=None, past_key_values=None, attentions=None, cross_attentions=None)\n"
     ]
    }
   ],
   "source": [
    "text = \"\"\"\n",
    "Chứng khoán Mỹ khởi sắc vào ngày thứ Ba (14/3), khi nhà đầu tư đặt cược vào việc nguy cơ lan truyền sau vụ phá sản của các ngân hàng Silicon Valley và Signature đã được ngăn chặn.\n",
    "Các nhà đầu tư đang thực hiện mua bán đầu cơ là nhiều.\n",
    "\"\"\"\n",
    "\n",
    "# (1, 239, 768)\n",
    "print('documents:', vectorize(text).shape)\n",
    "\n",
    "sentence_token = trim_words(word_tokenize(text, format=\"text\"))\n",
    "input_ids = torch.tensor([tokenizer.encode(sentence_token)])\n",
    "\n",
    "words = []\n",
    "for index in input_ids[0]:\n",
    "    word = tokenizer.decode([index])\n",
    "    words.append(word)\n",
    "print('words', words)\n",
    "\n",
    "features = phobert(input_ids)  # Models outputs are now tuples\n",
    "print(input_ids, features)"
   ]
  },
  {
   "cell_type": "code",
   "execution_count": 161,
   "id": "ca57e92d",
   "metadata": {},
   "outputs": [
    {
     "name": "stdout",
     "output_type": "stream",
     "text": [
      "(22, 400, 768)\n"
     ]
    }
   ],
   "source": [
    "print(X_train.shape)"
   ]
  },
  {
   "cell_type": "code",
   "execution_count": 234,
   "id": "49a34b2d",
   "metadata": {},
   "outputs": [
    {
     "name": "stdout",
     "output_type": "stream",
     "text": [
      "tf.Tensor(\n",
      "[[5]\n",
      " [5]\n",
      " [8]], shape=(3, 1), dtype=int64)\n"
     ]
    }
   ],
   "source": [
    "# Importing the necessary library\n",
    "import numpy as np\n",
    "import tensorflow as tf\n",
    "from keras.layers import MaxPooling1D, BatchNormalization, Rescaling, Normalization, LayerNormalization, Lambda\n",
    "\n",
    "# Defining the input array\n",
    "input_array = np.array(\n",
    "    [[[1], [2], [12]], [[4], [5], [6]], [[7], [8], [9]]]\n",
    "    )\n",
    "\n",
    "# Define a custom function or lambda expression\n",
    "def custom_function(x):\n",
    "        # Compute the average along the second axis\n",
    "    average_tensor = tf.reduce_mean(x, axis=1)\n",
    "\n",
    "    # Min-max scale the average tensor\n",
    "    # min_val = tf.reduce_min(average_tensor)\n",
    "    # max_val = tf.reduce_max(average_tensor)\n",
    "    # scaled_tensor = 2 * ((average_tensor - min_val) / (max_val - min_val)) - 1\n",
    "\n",
    "    # Print the scaled tensor\n",
    "    # print(scaled_tensor)\n",
    "    return average_tensor\n",
    "\n",
    "# Create a Lambda layer\n",
    "layer = Lambda(custom_function)\n",
    "\n",
    "# Printing the output\n",
    "print(layer(input_array))\n"
   ]
  },
  {
   "cell_type": "code",
   "execution_count": 252,
   "id": "6d418912",
   "metadata": {},
   "outputs": [
    {
     "name": "stdout",
     "output_type": "stream",
     "text": [
      "Model: \"sequential_70\"\n",
      "_________________________________________________________________\n",
      " Layer (type)                Output Shape              Param #   \n",
      "=================================================================\n",
      " bidirectional_70 (Bidirecti  (None, 400, 200)         695200    \n",
      " onal)                                                           \n",
      "                                                                 \n",
      " dense_100 (Dense)           (None, 400, 10)           2010      \n",
      "                                                                 \n",
      " dropout_34 (Dropout)        (None, 400, 10)           0         \n",
      "                                                                 \n",
      " dense_101 (Dense)           (None, 400, 1)            11        \n",
      "                                                                 \n",
      " batch_normalization_32 (Bat  (None, 400, 1)           4         \n",
      " chNormalization)                                                \n",
      "                                                                 \n",
      " global_average_pooling1d_47  (None, 1)                0         \n",
      "  (GlobalAveragePooling1D)                                       \n",
      "                                                                 \n",
      "=================================================================\n",
      "Total params: 697,225\n",
      "Trainable params: 697,223\n",
      "Non-trainable params: 2\n",
      "_________________________________________________________________\n",
      "1/1 [==============================] - 1s 649ms/step\n",
      "(9, 1) [[0.052818  ]\n",
      " [0.04058009]]\n"
     ]
    }
   ],
   "source": [
    "from keras.models import Sequential\n",
    "from keras.layers import MaxPooling1D, BatchNormalization, Rescaling, Dropout, Flatten, Dense, LSTM, Bidirectional, GlobalAveragePooling1D, Input, Average, LayerNormalization\n",
    "\n",
    "input_shape = (400, 768)\n",
    "model = Sequential()\n",
    "model.add(Input(shape=input_shape))\n",
    "model.add(Bidirectional(LSTM(\n",
    "        100, \n",
    "        return_sequences = True, \n",
    "        recurrent_dropout=0.2)))\n",
    "\n",
    "model.add(Dense(10, activation='relu'))\n",
    "model.add(Dropout(0.2))\n",
    "# model.add(Rescaling(\n",
    "#         scale=1, offset=-1,\n",
    "#         input_shape=(400, 1)\n",
    "#         ))\n",
    "model.add(Dense(1))\n",
    "model.add(BatchNormalization())\n",
    "model.add(GlobalAveragePooling1D())\n",
    "\n",
    "model.compile(optimizer='adam', loss='mean_squared_error', metrics=['mae'])\n",
    "model.summary()\n",
    "results = model.predict(X_train[:9])\n",
    "print(results.shape, results[:2])"
   ]
  },
  {
   "cell_type": "code",
   "execution_count": 253,
   "id": "f5461b2a",
   "metadata": {},
   "outputs": [
    {
     "name": "stdout",
     "output_type": "stream",
     "text": [
      "Epoch 1/10\n",
      "3/3 [==============================] - 5s 675ms/step - loss: 0.8007 - mae: 0.8199\n",
      "Epoch 2/10\n",
      "3/3 [==============================] - 2s 593ms/step - loss: 0.3066 - mae: 0.4743\n",
      "Epoch 3/10\n",
      "3/3 [==============================] - 2s 594ms/step - loss: 0.2661 - mae: 0.4620\n",
      "Epoch 4/10\n",
      "3/3 [==============================] - 2s 570ms/step - loss: 0.1947 - mae: 0.3536\n",
      "Epoch 5/10\n",
      "3/3 [==============================] - 2s 584ms/step - loss: 0.1846 - mae: 0.3251\n",
      "Epoch 6/10\n",
      "3/3 [==============================] - 2s 588ms/step - loss: 0.0934 - mae: 0.2641\n",
      "Epoch 7/10\n",
      "3/3 [==============================] - 2s 633ms/step - loss: 0.1240 - mae: 0.2736\n",
      "Epoch 8/10\n",
      "3/3 [==============================] - 2s 609ms/step - loss: 0.2768 - mae: 0.4592\n",
      "Epoch 9/10\n",
      "3/3 [==============================] - 2s 590ms/step - loss: 0.1242 - mae: 0.2993\n",
      "Epoch 10/10\n",
      "3/3 [==============================] - 2s 604ms/step - loss: 0.0926 - mae: 0.2489\n"
     ]
    },
    {
     "data": {
      "text/plain": [
       "<keras.callbacks.History at 0x40bc0ab30>"
      ]
     },
     "execution_count": 253,
     "metadata": {},
     "output_type": "execute_result"
    }
   ],
   "source": [
    "\n",
    "model.fit(X_train, Y_train, epochs=10, batch_size=10)"
   ]
  },
  {
   "attachments": {},
   "cell_type": "markdown",
   "id": "ccbc8695",
   "metadata": {},
   "source": [
    "result:\n",
    " [[-0.00193834]\n",
    " [-0.04076922]\n",
    " [ 0.09973867]\n",
    " [ 0.13607511]\n",
    " [ 0.02344097]\n",
    " [-0.00054041]]\n",
    "\n",
    " "
   ]
  },
  {
   "cell_type": "code",
   "execution_count": 254,
   "id": "62cee0dc",
   "metadata": {},
   "outputs": [
    {
     "name": "stdout",
     "output_type": "stream",
     "text": [
      "1/1 [==============================] - 0s 248ms/step\n",
      "result:\n",
      " [[-0.02144255]\n",
      " [-0.038692  ]\n",
      " [ 0.12251861]\n",
      " [ 0.1090144 ]\n",
      " [ 0.0224402 ]\n",
      " [-0.00058876]]\n"
     ]
    }
   ],
   "source": [
    "test_data = [\n",
    "    \"Cùng các đồng phạm gây thiệt hại tổng số tiền trên 5.500 tỉ đồng, cựu tổng giám đốc Ngân hàng Đông Á Trần Phương Bình tiếp tục bị đề nghị truy tố trong vụ án thứ 4.\",\n",
    "    \"Công ty Lọc hóa dầu Bình Sơn (BSR) lên kế hoạch bảo dưỡng lớn cho nhà máy lọc dầu Dung Quất, đề ra mức lãi giảm gần 90%.\",\n",
    "    \"Chứng khoán Mỹ khởi sắc vào ngày thứ Ba (14/3), khi nhà đầu tư đặt cược vào việc nguy cơ lan truyền sau vụ phá sản của các ngân hàng Silicon Valley và Signature đã được ngăn chặn.\",\n",
    "    \"Nhà đầu tư mới của Bamboo Airways sẽ hỗ trợ tài chính cho hãng và giúp ông Trịnh Văn Quyết một khoản tiền để khắc phục hậu quả vụ án (nếu có).\",\n",
    "    \"Thị trường chứng khoán năm 2023 không hoàn toàn như vẻ ngoài chúng ta đang thấy.\",\n",
    "    \"Chỉ cần loại bỏ nhóm doanh nghiệp này, tất cả đều là “gã khổng lồ” về công nghệ, chỉ số này sẽ chẳng đi đến đâu.\"\n",
    "]\n",
    "\n",
    "test_data_c = vectorize_arr(test_data)\n",
    "# print('test_data_c:', test_data_c.shape)\n",
    "result = model.predict(test_data_c)\n",
    "print('result:\\n', result)\n",
    "\n",
    "# scaler = MinMaxScaler(feature_range=(-1, 1)) \n",
    "# print(scaler.fit(result))\n",
    "# print(scaler.data_max_)\n",
    "# print(scaler.transform(result))\n",
    "\n",
    "# i have numpy array with shape (6, 400, 1), how to convert it to (6, 1) use max result from array ?\n",
    "# result = np.amax(result, axis=1)\n",
    "# print('result:\\n', result)\n",
    "# print(scaler.transform(result))"
   ]
  }
 ],
 "metadata": {
  "kernelspec": {
   "display_name": "Python 3",
   "language": "python",
   "name": "python3"
  },
  "language_info": {
   "codemirror_mode": {
    "name": "ipython",
    "version": 3
   },
   "file_extension": ".py",
   "mimetype": "text/x-python",
   "name": "python",
   "nbconvert_exporter": "python",
   "pygments_lexer": "ipython3",
   "version": "3.10.3"
  },
  "papermill": {
   "default_parameters": {},
   "duration": 66.698033,
   "end_time": "2023-03-21T09:11:52.763306",
   "environment_variables": {},
   "exception": null,
   "input_path": "__notebook__.ipynb",
   "output_path": "__notebook__.ipynb",
   "parameters": {},
   "start_time": "2023-03-21T09:10:46.065273",
   "version": "2.4.0"
  }
 },
 "nbformat": 4,
 "nbformat_minor": 5
}
