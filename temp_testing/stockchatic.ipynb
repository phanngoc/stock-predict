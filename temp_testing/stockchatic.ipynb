{
 "cells": [
  {
   "cell_type": "code",
   "execution_count": 1,
   "metadata": {},
   "outputs": [
    {
     "name": "stdout",
     "output_type": "stream",
     "text": [
      "        Date  High  Low  Close  %K  %D\n",
      "0 2023-07-01   100   90     95 NaN NaN\n",
      "1 2023-07-02   110  100    105 NaN NaN\n",
      "2 2023-07-03   105   95    100 NaN NaN\n",
      "3 2023-07-04   120  110    115 NaN NaN\n",
      "4 2023-07-05   115  105    110 NaN NaN\n",
      "5 2023-07-06   125  115    120 NaN NaN\n",
      "6 2023-07-07   130  120    125 NaN NaN\n",
      "7 2023-07-08   135  125    130 NaN NaN\n",
      "8 2023-07-09   140  130    135 NaN NaN\n",
      "9 2023-07-10   150  135    145 NaN NaN\n"
     ]
    }
   ],
   "source": [
    "import numpy as np\n",
    "import pandas as pd\n",
    "\n",
    "def calculate_stochastic_oscillator(high_prices, low_prices, close_prices, period=14):\n",
    "    highest_high = high_prices.rolling(window=period).max()\n",
    "    lowest_low = low_prices.rolling(window=period).min()\n",
    "\n",
    "    k_values = 100 * ((close_prices - lowest_low) / (highest_high - lowest_low))\n",
    "    d_values = k_values.rolling(window=3).mean()\n",
    "\n",
    "    return k_values, d_values\n",
    "\n",
    "# Create a sample dataset\n",
    "data = {\n",
    "    'Date': pd.date_range(start='2023-07-01', periods=10, freq='D'),\n",
    "    'High': [100, 110, 105, 120, 115, 125, 130, 135, 140, 150],\n",
    "    'Low': [90, 100, 95, 110, 105, 115, 120, 125, 130, 135],\n",
    "    'Close': [95, 105, 100, 115, 110, 120, 125, 130, 135, 145]\n",
    "}\n",
    "\n",
    "# Convert the data to a DataFrame\n",
    "df = pd.DataFrame(data)\n",
    "\n",
    "# Calculate the Stochastic Oscillator using the function\n",
    "k_values, d_values = calculate_stochastic_oscillator(df['High'], df['Low'], df['Close'])\n",
    "\n",
    "# Add the results to the DataFrame\n",
    "df['%K'] = k_values\n",
    "df['%D'] = d_values\n",
    "\n",
    "print(df)\n"
   ]
  },
  {
   "cell_type": "code",
   "execution_count": 5,
   "metadata": {},
   "outputs": [
    {
     "name": "stdout",
     "output_type": "stream",
     "text": [
      "                                 Open        High         Low       Close  \\\n",
      "Date                                                                        \n",
      "2012-05-18 00:00:00-04:00   42.049999   45.000000   38.000000   38.230000   \n",
      "2012-05-21 00:00:00-04:00   36.529999   36.660000   33.000000   34.029999   \n",
      "2012-05-22 00:00:00-04:00   32.610001   33.590000   30.940001   31.000000   \n",
      "2012-05-23 00:00:00-04:00   31.370001   32.500000   31.360001   32.000000   \n",
      "2012-05-24 00:00:00-04:00   32.950001   33.209999   31.770000   33.029999   \n",
      "...                               ...         ...         ...         ...   \n",
      "2023-07-26 00:00:00-04:00  301.190002  301.769989  291.899994  298.570007   \n",
      "2023-07-27 00:00:00-04:00  325.119995  325.350006  309.839996  311.709991   \n",
      "2023-07-28 00:00:00-04:00  316.880005  326.200012  314.250000  325.480011   \n",
      "2023-07-31 00:00:00-04:00  323.690002  325.660004  317.589996  318.600006   \n",
      "2023-08-01 00:00:00-04:00  317.535004  324.140015  314.679993  322.709991   \n",
      "\n",
      "                              Volume  Dividends  Stock Splits  \n",
      "Date                                                           \n",
      "2012-05-18 00:00:00-04:00  573576400        0.0           0.0  \n",
      "2012-05-21 00:00:00-04:00  168192700        0.0           0.0  \n",
      "2012-05-22 00:00:00-04:00  101786600        0.0           0.0  \n",
      "2012-05-23 00:00:00-04:00   73600000        0.0           0.0  \n",
      "2012-05-24 00:00:00-04:00   50237200        0.0           0.0  \n",
      "...                              ...        ...           ...  \n",
      "2023-07-26 00:00:00-04:00   47256900        0.0           0.0  \n",
      "2023-07-27 00:00:00-04:00   64229200        0.0           0.0  \n",
      "2023-07-28 00:00:00-04:00   39220300        0.0           0.0  \n",
      "2023-07-31 00:00:00-04:00   25799600        0.0           0.0  \n",
      "2023-08-01 00:00:00-04:00   22109337        0.0           0.0  \n",
      "\n",
      "[2818 rows x 7 columns]\n"
     ]
    }
   ],
   "source": [
    "import yfinance as yahooFinance\n",
    "\n",
    "# Here We are getting Facebook financial information\n",
    "# We need to pass FB as argument for that\n",
    "GetFacebookInformation = yahooFinance.Ticker(\"META\")\n",
    "\n",
    "# whole python dictionary is printed here\n",
    "# print(GetFacebookInformation)\n",
    " \n",
    "# Let us  get historical stock prices for Facebook\n",
    "# covering the past few years.\n",
    "# max->maximum number of daily prices available\n",
    "# for Facebook.\n",
    "# Valid options are 1d, 5d, 1mo, 3mo, 6mo, 1y, 2y,\n",
    "# 5y, 10y and ytd.\n",
    "print(GetFacebookInformation.history(period=\"max\"))"
   ]
  }
 ],
 "metadata": {
  "kernelspec": {
   "display_name": "Python 3",
   "language": "python",
   "name": "python3"
  },
  "language_info": {
   "codemirror_mode": {
    "name": "ipython",
    "version": 3
   },
   "file_extension": ".py",
   "mimetype": "text/x-python",
   "name": "python",
   "nbconvert_exporter": "python",
   "pygments_lexer": "ipython3",
   "version": "3.10.3"
  },
  "orig_nbformat": 4
 },
 "nbformat": 4,
 "nbformat_minor": 2
}
