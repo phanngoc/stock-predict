{
 "cells": [
  {
   "attachments": {},
   "cell_type": "markdown",
   "metadata": {},
   "source": [
    "## Dùng simple transformer cho regression task, dự đoán giá stock \n",
    "- https://simpletransformers.ai/docs/regression/.\n",
    "- Dùng tin tức từ vneconomy, và giá stock VNINDEX, dự đoán giá dựa trên tin tức mới trong ngày."
   ]
  },
  {
   "cell_type": "code",
   "execution_count": 3,
   "metadata": {},
   "outputs": [
    {
     "name": "stderr",
     "output_type": "stream",
     "text": [
      "/var/folders/g6/37kt02914kx36yzcbbqfyck00000gn/T/ipykernel_83193/2801794870.py:15: UserWarning: pandas only supports SQLAlchemy connectable (engine/connection) or database string URI or sqlite3 DBAPI2 connection. Other DBAPI2 objects are not tested. Please consider using SQLAlchemy.\n",
      "  df = pd.read_sql(query, connection)\n"
     ]
    }
   ],
   "source": [
    "import pandas as pd # data processing, CSV file I/O (e.g. pd.read_csv)\n",
    "import mysql.connector\n",
    "\n",
    "# Establish a connection to the MySQL database\n",
    "connection = mysql.connector.connect(\n",
    "    host='127.0.0.1',\n",
    "    port=13306,\n",
    "    user='root',\n",
    "    password='root',\n",
    "    database='pyml'\n",
    ")\n",
    "\n",
    "# Read the table data using pandas\n",
    "query = \"SELECT title, content, date FROM crawl_data where domain = 'https://vneconomy.vn/kinh-te-the-gioi.htm'\"\n",
    "df = pd.read_sql(query, connection)\n"
   ]
  },
  {
   "cell_type": "code",
   "execution_count": 4,
   "metadata": {},
   "outputs": [
    {
     "data": {
      "text/html": [
       "<div>\n",
       "<style scoped>\n",
       "    .dataframe tbody tr th:only-of-type {\n",
       "        vertical-align: middle;\n",
       "    }\n",
       "\n",
       "    .dataframe tbody tr th {\n",
       "        vertical-align: top;\n",
       "    }\n",
       "\n",
       "    .dataframe thead th {\n",
       "        text-align: right;\n",
       "    }\n",
       "</style>\n",
       "<table border=\"1\" class=\"dataframe\">\n",
       "  <thead>\n",
       "    <tr style=\"text-align: right;\">\n",
       "      <th></th>\n",
       "      <th>title</th>\n",
       "      <th>content</th>\n",
       "      <th>date</th>\n",
       "    </tr>\n",
       "  </thead>\n",
       "  <tbody>\n",
       "    <tr>\n",
       "      <th>0</th>\n",
       "      <td>10 xe điện có tầm đi dài nhất năm 2023</td>\n",
       "      <td>\\nNỗi quan ngại về tầm đi (range - quãng đường...</td>\n",
       "      <td>2023-06-08 10:57:00</td>\n",
       "    </tr>\n",
       "    <tr>\n",
       "      <th>1</th>\n",
       "      <td>Cử nhân thất nghiệp: “Vết sẹo” kinh tế Trung Quốc</td>\n",
       "      <td>\\nNhiều người trong số họ chấp nhận công việc ...</td>\n",
       "      <td>2023-06-09 07:11:00</td>\n",
       "    </tr>\n",
       "    <tr>\n",
       "      <th>2</th>\n",
       "      <td>Giá vàng thế giới tăng mạnh nhờ đồng USD giảm ...</td>\n",
       "      <td>\\nGiá vàng thế giới tăng mạnh trong phiên giao...</td>\n",
       "      <td>2023-06-09 10:31:00</td>\n",
       "    </tr>\n",
       "    <tr>\n",
       "      <th>3</th>\n",
       "      <td>20 thành phố đắt đỏ nhất thế giới với người nư...</td>\n",
       "      <td>\\nTheo Xếp hạng Chi phí Sinh hoạt năm 2023 của...</td>\n",
       "      <td>2023-06-08 10:22:00</td>\n",
       "    </tr>\n",
       "    <tr>\n",
       "      <th>4</th>\n",
       "      <td>S&amp;P 500 đóng cửa cao nhất từ đầu năm, dầu sụt ...</td>\n",
       "      <td>\\nChứng khoán Mỹ tăng điểm trong phiên giao dị...</td>\n",
       "      <td>2023-06-09 07:56:00</td>\n",
       "    </tr>\n",
       "  </tbody>\n",
       "</table>\n",
       "</div>"
      ],
      "text/plain": [
       "                                               title  \\\n",
       "0             10 xe điện có tầm đi dài nhất năm 2023   \n",
       "1  Cử nhân thất nghiệp: “Vết sẹo” kinh tế Trung Quốc   \n",
       "2  Giá vàng thế giới tăng mạnh nhờ đồng USD giảm ...   \n",
       "3  20 thành phố đắt đỏ nhất thế giới với người nư...   \n",
       "4  S&P 500 đóng cửa cao nhất từ đầu năm, dầu sụt ...   \n",
       "\n",
       "                                             content                date  \n",
       "0  \\nNỗi quan ngại về tầm đi (range - quãng đường... 2023-06-08 10:57:00  \n",
       "1  \\nNhiều người trong số họ chấp nhận công việc ... 2023-06-09 07:11:00  \n",
       "2  \\nGiá vàng thế giới tăng mạnh trong phiên giao... 2023-06-09 10:31:00  \n",
       "3  \\nTheo Xếp hạng Chi phí Sinh hoạt năm 2023 của... 2023-06-08 10:22:00  \n",
       "4  \\nChứng khoán Mỹ tăng điểm trong phiên giao dị... 2023-06-09 07:56:00  "
      ]
     },
     "execution_count": 4,
     "metadata": {},
     "output_type": "execute_result"
    }
   ],
   "source": [
    "df.head()"
   ]
  },
  {
   "cell_type": "code",
   "execution_count": 5,
   "metadata": {},
   "outputs": [
    {
     "name": "stdout",
     "output_type": "stream",
     "text": [
      "         Ngày  Lần cuối        Mở       Cao      Thấp       KL % Thay đổi\n",
      "0  09/06/2023  1,107.53  1,101.32  1,107.53  1,097.23  902.21K      0.56%\n",
      "1  08/06/2023  1,101.32  1,109.54  1,115.14  1,101.32    1.32M     -0.74%\n",
      "2  07/06/2023  1,109.54  1,108.31  1,112.28  1,104.26    1.00M      0.11%\n",
      "3  06/06/2023  1,108.31  1,097.82  1,108.31  1,097.82  842.76K      0.96%\n",
      "4  05/06/2023  1,097.82  1,090.84  1,103.81  1,090.84  948.36K      0.64%\n",
      "                                               title  \\\n",
      "0             10 xe điện có tầm đi dài nhất năm 2023   \n",
      "1  Cử nhân thất nghiệp: “Vết sẹo” kinh tế Trung Quốc   \n",
      "2  Giá vàng thế giới tăng mạnh nhờ đồng USD giảm ...   \n",
      "3  20 thành phố đắt đỏ nhất thế giới với người nư...   \n",
      "4  S&P 500 đóng cửa cao nhất từ đầu năm, dầu sụt ...   \n",
      "\n",
      "                                             content        date  \n",
      "0  \\nNỗi quan ngại về tầm đi (range - quãng đường...  08/06/2023  \n",
      "1  \\nNhiều người trong số họ chấp nhận công việc ...  09/06/2023  \n",
      "2  \\nGiá vàng thế giới tăng mạnh trong phiên giao...  09/06/2023  \n",
      "3  \\nTheo Xếp hạng Chi phí Sinh hoạt năm 2023 của...  08/06/2023  \n",
      "4  \\nChứng khoán Mỹ tăng điểm trong phiên giao dị...  09/06/2023  \n"
     ]
    }
   ],
   "source": [
    "dfIndex = pd.read_csv('./data/vn_index.csv')\n",
    "print(dfIndex.head())\n",
    "\n",
    "# how to format date from '2023-06-08 10:57:00' to '09/06/2023' ?\n",
    "df['date'] = pd.to_datetime(df['date'], format='%Y-%m-%d %H:%M:%S').dt.strftime('%d/%m/%Y')\n",
    "print(df.head())"
   ]
  },
  {
   "cell_type": "code",
   "execution_count": 6,
   "metadata": {},
   "outputs": [
    {
     "name": "stdout",
     "output_type": "stream",
     "text": [
      "                                               title  \\\n",
      "0             10 xe điện có tầm đi dài nhất năm 2023   \n",
      "1  Cử nhân thất nghiệp: “Vết sẹo” kinh tế Trung Quốc   \n",
      "2  Giá vàng thế giới tăng mạnh nhờ đồng USD giảm ...   \n",
      "3  20 thành phố đắt đỏ nhất thế giới với người nư...   \n",
      "4  S&P 500 đóng cửa cao nhất từ đầu năm, dầu sụt ...   \n",
      "\n",
      "                                             content        date        Ngày  \\\n",
      "0  \\nNỗi quan ngại về tầm đi (range - quãng đường...  08/06/2023  08/06/2023   \n",
      "1  \\nNhiều người trong số họ chấp nhận công việc ...  09/06/2023  09/06/2023   \n",
      "2  \\nGiá vàng thế giới tăng mạnh trong phiên giao...  09/06/2023  09/06/2023   \n",
      "3  \\nTheo Xếp hạng Chi phí Sinh hoạt năm 2023 của...  08/06/2023  08/06/2023   \n",
      "4  \\nChứng khoán Mỹ tăng điểm trong phiên giao dị...  09/06/2023  09/06/2023   \n",
      "\n",
      "   Lần cuối        Mở       Cao      Thấp       KL % Thay đổi  \n",
      "0  1,101.32  1,109.54  1,115.14  1,101.32    1.32M     -0.74%  \n",
      "1  1,107.53  1,101.32  1,107.53  1,097.23  902.21K      0.56%  \n",
      "2  1,107.53  1,101.32  1,107.53  1,097.23  902.21K      0.56%  \n",
      "3  1,101.32  1,109.54  1,115.14  1,101.32    1.32M     -0.74%  \n",
      "4  1,107.53  1,101.32  1,107.53  1,097.23  902.21K      0.56%  \n"
     ]
    }
   ],
   "source": [
    "# how to merge df and dfIndex by date and another column ?\n",
    "\n",
    "dfMerge = pd.merge(df, dfIndex, left_on=['date'], right_on=['Ngày'], how='left')\n",
    "print(dfMerge.head())"
   ]
  },
  {
   "cell_type": "code",
   "execution_count": 7,
   "metadata": {},
   "outputs": [
    {
     "name": "stdout",
     "output_type": "stream",
     "text": [
      "                                                 title  \\\n",
      "741  Tiền ảo 2023: Không chỉ là “mùa đông”, thậm ch...   \n",
      "627  Giá vàng trong nước tiếp tục trượt dốc, thế gi...   \n",
      "629  Các nhà đầu tư lớn “rón rén” quay trở lại thị ...   \n",
      "630  Thế khó của Chủ tịch Fed trong cuộc họp báo ng...   \n",
      "631  Đặt cược sai vào cổ phiếu ô tô điện, Amazon hứ...   \n",
      "\n",
      "                                               content        date  \\\n",
      "741  \\nTrong thế giới tiền ảo, các nhà đầu tư đã qu...  01/01/2023   \n",
      "627  \\nGiá vàng miếng trong nước sáng nay (1/2) tiế...  01/02/2023   \n",
      "629  \\nHãng tin Reuters dẫn số liệu từ công ty quản...  01/02/2023   \n",
      "630  \\nCuộc họp chính sách tiền tệ đầu tiên trong n...  01/02/2023   \n",
      "631  \\nTrong 9 tháng đầu năm 2022, Amazon ghi nhận ...  01/02/2023   \n",
      "\n",
      "           Ngày  Lần cuối        Mở       Cao      Thấp     KL % Thay đổi  \n",
      "741         NaN       NaN       NaN       NaN       NaN    NaN        NaN  \n",
      "627  01/02/2023  1,075.97  1,111.18  1,116.96  1,075.97  1.03M     -3.17%  \n",
      "629  01/02/2023  1,075.97  1,111.18  1,116.96  1,075.97  1.03M     -3.17%  \n",
      "630  01/02/2023  1,075.97  1,111.18  1,116.96  1,075.97  1.03M     -3.17%  \n",
      "631  01/02/2023  1,075.97  1,111.18  1,116.96  1,075.97  1.03M     -3.17%  \n"
     ]
    }
   ],
   "source": [
    "df_sorted = dfMerge.sort_values(by='date', ascending=True)\n",
    "print(df_sorted.head())"
   ]
  },
  {
   "cell_type": "code",
   "execution_count": 8,
   "metadata": {},
   "outputs": [
    {
     "name": "stdout",
     "output_type": "stream",
     "text": [
      "741    -0.000291\n",
      "627    -0.031700\n",
      "629    -0.031700\n",
      "630    -0.031700\n",
      "631    -0.031700\n",
      "637    -0.031700\n",
      "620    -0.031700\n",
      "626    -0.031700\n",
      "621    -0.031700\n",
      "628    -0.031700\n",
      "490     0.015500\n",
      "494     0.015500\n",
      "489     0.015500\n",
      "330    -0.000291\n",
      "329    -0.000291\n",
      "331    -0.000291\n",
      "197    -0.000291\n",
      "201    -0.000291\n",
      "35      0.003000\n",
      "41      0.003000\n",
      "40      0.003000\n",
      "38      0.003000\n",
      "39      0.003000\n",
      "36      0.003000\n",
      "37      0.003000\n",
      "1378   -0.000291\n",
      "1377   -0.000291\n",
      "1376   -0.000291\n",
      "1374   -0.000291\n",
      "1368   -0.000291\n",
      "1370   -0.000291\n",
      "1369   -0.000291\n",
      "1372   -0.000291\n",
      "1194   -0.000291\n",
      "1198   -0.000291\n",
      "1203   -0.000291\n",
      "1032    0.005700\n",
      "1033    0.005700\n",
      "1034    0.005700\n",
      "1035    0.005700\n",
      "1037    0.005700\n",
      "1038    0.005700\n",
      "1042    0.005700\n",
      "1036    0.005700\n",
      "865    -0.011600\n",
      "864    -0.011600\n",
      "866    -0.011600\n",
      "863    -0.011600\n",
      "868    -0.011600\n",
      "869    -0.011600\n",
      "Name: change_percent, dtype: float64\n"
     ]
    },
    {
     "data": {
      "image/png": "[encoded data removed]",
      "text/plain": [
       "<Figure size 640x480 with 1 Axes>"
      ]
     },
     "metadata": {},
     "output_type": "display_data"
    }
   ],
   "source": [
    "from sklearn.impute import SimpleImputer\n",
    "import math\n",
    "import numpy as np\n",
    "# Create an instance of SimpleImputer\n",
    "imputer = SimpleImputer(strategy='mean')\n",
    "\n",
    "# Extract the column with missing values from the DataFrame\n",
    "def convertToFloat(percentage_str):\n",
    "    if type(percentage_str) == str:\n",
    "        percentage_str = percentage_str.strip('%')\n",
    "        # Convert to decimal.\n",
    "        decimal_value = float(percentage_str) / 100\n",
    "        return decimal_value\n",
    "    else:\n",
    "        return percentage_str\n",
    "\n",
    "columnDiffValue = df_sorted['% Thay đổi'].apply(convertToFloat)\n",
    "\n",
    "# Reshape the column to match the input requirements of SimpleImputer\n",
    "column_reshaped = columnDiffValue.values.reshape(-1, 1)\n",
    "\n",
    "# Fit the imputer on the column\n",
    "imputer.fit(column_reshaped)\n",
    "\n",
    "# Transform the column by filling missing values\n",
    "column_filled = imputer.transform(column_reshaped)\n",
    "\n",
    "# Replace the original column with the imputed values\n",
    "df_sorted['change_percent'] = column_filled\n",
    "print(df_sorted['change_percent'][:50])\n",
    "\n",
    "import matplotlib.pyplot as plt\n",
    "\n",
    "# Create a histogram of the column\n",
    "plt.hist(df_sorted[\"change_percent\"])\n",
    "\n",
    "# Show the histogram\n",
    "plt.show()\n"
   ]
  },
  {
   "cell_type": "code",
   "execution_count": 11,
   "metadata": {},
   "outputs": [
    {
     "name": "stderr",
     "output_type": "stream",
     "text": [
      "Some weights of the model checkpoint at roberta-base were not used when initializing RobertaForSequenceClassification: ['lm_head.decoder.weight', 'lm_head.layer_norm.bias', 'roberta.pooler.dense.bias', 'roberta.pooler.dense.weight', 'lm_head.dense.bias', 'lm_head.bias', 'lm_head.dense.weight', 'lm_head.layer_norm.weight']\n",
      "- This IS expected if you are initializing RobertaForSequenceClassification from the checkpoint of a model trained on another task or with another architecture (e.g. initializing a BertForSequenceClassification model from a BertForPreTraining model).\n",
      "- This IS NOT expected if you are initializing RobertaForSequenceClassification from the checkpoint of a model that you expect to be exactly identical (initializing a BertForSequenceClassification model from a BertForSequenceClassification model).\n",
      "Some weights of RobertaForSequenceClassification were not initialized from the model checkpoint at roberta-base and are newly initialized: ['classifier.out_proj.bias', 'classifier.out_proj.weight', 'classifier.dense.bias', 'classifier.dense.weight']\n",
      "You should probably TRAIN this model on a down-stream task to be able to use it for predictions and inference.\n",
      "INFO:simpletransformers.classification.classification_utils: Converting to features started. Cache is not used.\n"
     ]
    },
    {
     "data": {
      "application/vnd.jupyter.widget-view+json": {
       "model_id": "df4a7f66049146cd8f3681fa3cbade4a",
       "version_major": 2,
       "version_minor": 0
      },
      "text/plain": [
       "  0%|          | 0/1498 [00:00<?, ?it/s]"
      ]
     },
     "metadata": {},
     "output_type": "display_data"
    },
    {
     "name": "stdout",
     "output_type": "stream",
     "text": [
      "huggingface/tokenizers: The current process just got forked, after parallelism has already been used. Disabling parallelism to avoid deadlocks...\n",
      "To disable this warning, you can either:\n",
      "\t- Avoid using `tokenizers` before the fork if possible\n",
      "\t- Explicitly set the environment variable TOKENIZERS_PARALLELISM=(true | false)\n",
      "huggingface/tokenizers: The current process just got forked, after parallelism has already been used. Disabling parallelism to avoid deadlocks...\n",
      "To disable this warning, you can either:\n",
      "\t- Avoid using `tokenizers` before the fork if possible\n",
      "\t- Explicitly set the environment variable TOKENIZERS_PARALLELISM=(true | false)\n",
      "huggingface/tokenizers: The current process just got forked, after parallelism has already been used. Disabling parallelism to avoid deadlocks...\n",
      "To disable this warning, you can either:\n",
      "\t- Avoid using `tokenizers` before the fork if possible\n",
      "\t- Explicitly set the environment variable TOKENIZERS_PARALLELISM=(true | false)\n"
     ]
    },
    {
     "name": "stderr",
     "output_type": "stream",
     "text": [
      "INFO:simpletransformers.classification.classification_utils: Saving features into cached file cache_dir/cached_train_roberta_128_1_2\n"
     ]
    },
    {
     "data": {
      "application/vnd.jupyter.widget-view+json": {
       "model_id": "fc0c333e54ec4d8b91d65272c65f1efd",
       "version_major": 2,
       "version_minor": 0
      },
      "text/plain": [
       "Epoch:   0%|          | 0/1 [00:00<?, ?it/s]"
      ]
     },
     "metadata": {},
     "output_type": "display_data"
    },
    {
     "data": {
      "application/vnd.jupyter.widget-view+json": {
       "model_id": "97d1e9a7ffba4a97b244519f50bd4cf2",
       "version_major": 2,
       "version_minor": 0
      },
      "text/plain": [
       "Running Epoch 0 of 1:   0%|          | 0/188 [00:00<?, ?it/s]"
      ]
     },
     "metadata": {},
     "output_type": "display_data"
    },
    {
     "name": "stderr",
     "output_type": "stream",
     "text": [
      "INFO:simpletransformers.classification.classification_model: Training of roberta model complete. Saved to outputs/.\n"
     ]
    },
    {
     "data": {
      "text/plain": [
       "(188, 0.0024849198741728113)"
      ]
     },
     "execution_count": 11,
     "metadata": {},
     "output_type": "execute_result"
    }
   ],
   "source": [
    "from simpletransformers.classification import ClassificationModel, ClassificationArgs\n",
    "import pandas as pd\n",
    "import logging\n",
    "\n",
    "\n",
    "logging.basicConfig(level=logging.INFO)\n",
    "transformers_logger = logging.getLogger(\"transformers\")\n",
    "transformers_logger.setLevel(logging.WARNING)\n",
    "\n",
    "# Preparing train data\n",
    "train_data = df_sorted[['content', 'change_percent']]\n",
    "train_df = pd.DataFrame(train_data)\n",
    "train_df.columns = [\"text\", \"labels\"]\n",
    "\n",
    "# Enabling regression\n",
    "# Setting optional model configuration\n",
    "model_args = ClassificationArgs()\n",
    "model_args.num_train_epochs = 1\n",
    "model_args.regression = True\n",
    "\n",
    "# Create a ClassificationModel\n",
    "model = ClassificationModel(\n",
    "    \"roberta\",\n",
    "    \"roberta-base\", use_cuda=False,\n",
    "    num_labels=1,\n",
    "    args=model_args\n",
    ")\n",
    "\n",
    "# Train the model\n",
    "model.train_model(train_df)\n",
    "\n",
    "# Evaluate the model\n",
    "# result, model_outputs, wrong_predictions = model.eval_model(eval_df)\n",
    "\n",
    "\n"
   ]
  },
  {
   "cell_type": "code",
   "execution_count": 18,
   "metadata": {},
   "outputs": [
    {
     "name": "stderr",
     "output_type": "stream",
     "text": [
      "INFO:simpletransformers.classification.classification_utils: Converting to features started. Cache is not used.\n"
     ]
    },
    {
     "data": {
      "application/vnd.jupyter.widget-view+json": {
       "model_id": "ec4eb2cace3a4639aecf2155a12e993f",
       "version_major": 2,
       "version_minor": 0
      },
      "text/plain": [
       "  0%|          | 0/3 [00:00<?, ?it/s]"
      ]
     },
     "metadata": {},
     "output_type": "display_data"
    },
    {
     "name": "stdout",
     "output_type": "stream",
     "text": [
      "huggingface/tokenizers: The current process just got forked, after parallelism has already been used. Disabling parallelism to avoid deadlocks...\n",
      "To disable this warning, you can either:\n",
      "\t- Avoid using `tokenizers` before the fork if possible\n",
      "\t- Explicitly set the environment variable TOKENIZERS_PARALLELISM=(true | false)\n"
     ]
    },
    {
     "data": {
      "application/vnd.jupyter.widget-view+json": {
       "model_id": "ae92a094198b44fe8d47a9a4a90a58f8",
       "version_major": 2,
       "version_minor": 0
      },
      "text/plain": [
       "  0%|          | 0/1 [00:00<?, ?it/s]"
      ]
     },
     "metadata": {},
     "output_type": "display_data"
    },
    {
     "name": "stdout",
     "output_type": "stream",
     "text": [
      "predictions:  [0.00466498 0.00389154 0.00921591]\n",
      "raw_outputs:  [0.00466498 0.00389154 0.00921591]\n"
     ]
    }
   ],
   "source": [
    "# Make predictions with the model\n",
    "test_data = [\n",
    "    \"\"\"\n",
    "    Chứng khoán Mỹ tụt điểm trước khi bước vào mùa báo cáo tài chính, giá dầu tăng nhẹ\n",
    "    Sự lưỡng lự của nhà đầu tư diễn ra giữa lúc thị trường chờ đợi một chất xúc tác mới và bước vào tuần giao dịch cuối cùng của quý 2...\n",
    "Thị trường chứng khoán Mỹ giảm điểm trong phiên giao dịch ngày thứ Hai (26/6), khi giới đầu tư thận trọng trước khi bước vào mùa báo cáo kết quả kinh doanh quý 2. Giá dầu thô tăng nhẹ sau mấy phiên giảm liên tiếp, trong bối cảnh mối lo về lãi suất tăng và nguy cơ suy thoái kinh tế toàn cầu còn ám ảnh tâm trí nhà đầu tư.\n",
    "    \"\"\",\n",
    "    \"Nhà đầu tư cá nhân thờ ơ, vì sao giá Bitcoin vẫn lên cao nhất 1 năm?\",\n",
    "    \"Minh định giữa gián đoạn thanh khoản và mất khả năng thanh toán trái phiếu doanh nghiệp\",\n",
    "\n",
    "]\n",
    "predictions, raw_outputs = model.predict(test_data)\n",
    "print('predictions: ', predictions)\n",
    "print('raw_outputs: ', raw_outputs)"
   ]
  },
  {
   "cell_type": "code",
   "execution_count": 19,
   "metadata": {},
   "outputs": [],
   "source": [
    "model.save_model(\"outputs/\")"
   ]
  }
 ],
 "metadata": {
  "kernelspec": {
   "display_name": "Python 3",
   "language": "python",
   "name": "python3"
  },
  "language_info": {
   "codemirror_mode": {
    "name": "ipython",
    "version": 3
   },
   "file_extension": ".py",
   "mimetype": "text/x-python",
   "name": "python",
   "nbconvert_exporter": "python",
   "pygments_lexer": "ipython3",
   "version": "3.10.3"
  },
  "orig_nbformat": 4
 },
 "nbformat": 4,
 "nbformat_minor": 2
}
