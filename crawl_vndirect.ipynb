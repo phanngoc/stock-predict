{
 "cells": [
  {
   "cell_type": "code",
   "execution_count": 18,
   "metadata": {},
   "outputs": [],
   "source": [
    "import requests\n",
    "import json\n",
    "\n",
    "\n",
    "def crawl_json(url, params):\n",
    "    headers = {\n",
    "        'Access-Control-Allow-Origin': '*',\n",
    "        'Access-Control-Allow-Credentials': 'true',\n",
    "        'Access-Control-Allow-Methods': 'GET, HEAD, POST, PUT, DELETE, TRACE, OPTIONS, PATCH',\n",
    "        'Access-Control-Allow-Headers': 'X-Real-IP,X-AGENT,Pragma,X-REFERER,X-AUTH-TOKEN,Accept-Encoding,channel,X-XSS-Protection,X-Content-Type-Options,Strict-Transport-Security,Content-Type,Authorization,Accept,Origin,User-Agent,DNT,Cache-Control,X-Mx-ReqToken,Keep-Alive,X-Requested-With,If-Modified-Since,token-id',\n",
    "        'Content-Encoding': 'gzip'\n",
    "    }\n",
    "    # Make an HTTP GET request to the API endpoint using the requests library\n",
    "    response = requests.get(url, params=params, headers=headers)\n",
    "    print(response.content)\n",
    "    if response.status_code // 100 == 2:\n",
    "        # If successful, retrieve the JSON data from the response body\n",
    "        json_data = response.json()\n",
    "        # Do something with the JSON data (e.g. print it to the console)\n",
    "        # print(json_data['data'])\n",
    "        jsonDataDump = json.dumps(json_data, indent=2)\n",
    "        print('crawl_json', jsonDataDump)\n",
    "        return json_data\n",
    "    else:\n",
    "        # If unsuccessful, print the status code and reason for failure\n",
    "        print(f\"Request failed with status code {response.status_code}: {response.reason}\")\n",
    "        \n",
    "\n",
    "# crawl_json('https://finfo-api.vndirect.com.vn/v4/news?q=newsType:company_report~locale:VN~newsSource:VNDIRECT&sort=newsDate:desc~newsTime:desc&size=20&page=3', {})"
   ]
  },
  {
   "cell_type": "code",
   "execution_count": 19,
   "metadata": {},
   "outputs": [
    {
     "name": "stderr",
     "output_type": "stream",
     "text": [
      "/var/folders/g6/37kt02914kx36yzcbbqfyck00000gn/T/ipykernel_78623/3483921797.py:5: DeprecationWarning: headless property is deprecated, instead use add_argument('--headless') or add_argument('--headless=new')\n",
      "  options.headless = False\n"
     ]
    }
   ],
   "source": [
    "from selenium import webdriver\n",
    "from selenium.webdriver.chrome.options import Options\n",
    "\n",
    "options = Options()\n",
    "options.headless = False\n",
    "options.add_argument(\"--window-size=1920,1200\")\n",
    "\n",
    "DRIVER_PATH = '/Users/ngocp/.pyenv/versions/3.10.3/lib/python3.10/site-packages/selenium/webdriver'\n",
    "driver = webdriver.Chrome(options=options)\n",
    "driver.get('https://dstock.vndirect.com.vn/trung-tam-phan-tich/bao-cao-phan-tich-dn')"
   ]
  },
  {
   "cell_type": "code",
   "execution_count": 20,
   "metadata": {},
   "outputs": [
    {
     "name": "stdout",
     "output_type": "stream",
     "text": [
      "[<selenium.webdriver.remote.webelement.WebElement (session=\"1204353cb278075ea1710e385ac57f9e\", element=\"E7395FBB00D597E6EBD9857E2CE9D2CD_element_56\")>, <selenium.webdriver.remote.webelement.WebElement (session=\"1204353cb278075ea1710e385ac57f9e\", element=\"E7395FBB00D597E6EBD9857E2CE9D2CD_element_57\")>, <selenium.webdriver.remote.webelement.WebElement (session=\"1204353cb278075ea1710e385ac57f9e\", element=\"E7395FBB00D597E6EBD9857E2CE9D2CD_element_58\")>, <selenium.webdriver.remote.webelement.WebElement (session=\"1204353cb278075ea1710e385ac57f9e\", element=\"E7395FBB00D597E6EBD9857E2CE9D2CD_element_59\")>, <selenium.webdriver.remote.webelement.WebElement (session=\"1204353cb278075ea1710e385ac57f9e\", element=\"E7395FBB00D597E6EBD9857E2CE9D2CD_element_60\")>, <selenium.webdriver.remote.webelement.WebElement (session=\"1204353cb278075ea1710e385ac57f9e\", element=\"E7395FBB00D597E6EBD9857E2CE9D2CD_element_61\")>, <selenium.webdriver.remote.webelement.WebElement (session=\"1204353cb278075ea1710e385ac57f9e\", element=\"E7395FBB00D597E6EBD9857E2CE9D2CD_element_62\")>, <selenium.webdriver.remote.webelement.WebElement (session=\"1204353cb278075ea1710e385ac57f9e\", element=\"E7395FBB00D597E6EBD9857E2CE9D2CD_element_63\")>, <selenium.webdriver.remote.webelement.WebElement (session=\"1204353cb278075ea1710e385ac57f9e\", element=\"E7395FBB00D597E6EBD9857E2CE9D2CD_element_64\")>, <selenium.webdriver.remote.webelement.WebElement (session=\"1204353cb278075ea1710e385ac57f9e\", element=\"E7395FBB00D597E6EBD9857E2CE9D2CD_element_65\")>, <selenium.webdriver.remote.webelement.WebElement (session=\"1204353cb278075ea1710e385ac57f9e\", element=\"E7395FBB00D597E6EBD9857E2CE9D2CD_element_66\")>, <selenium.webdriver.remote.webelement.WebElement (session=\"1204353cb278075ea1710e385ac57f9e\", element=\"E7395FBB00D597E6EBD9857E2CE9D2CD_element_67\")>, <selenium.webdriver.remote.webelement.WebElement (session=\"1204353cb278075ea1710e385ac57f9e\", element=\"E7395FBB00D597E6EBD9857E2CE9D2CD_element_68\")>, <selenium.webdriver.remote.webelement.WebElement (session=\"1204353cb278075ea1710e385ac57f9e\", element=\"E7395FBB00D597E6EBD9857E2CE9D2CD_element_69\")>, <selenium.webdriver.remote.webelement.WebElement (session=\"1204353cb278075ea1710e385ac57f9e\", element=\"E7395FBB00D597E6EBD9857E2CE9D2CD_element_70\")>, <selenium.webdriver.remote.webelement.WebElement (session=\"1204353cb278075ea1710e385ac57f9e\", element=\"E7395FBB00D597E6EBD9857E2CE9D2CD_element_71\")>, <selenium.webdriver.remote.webelement.WebElement (session=\"1204353cb278075ea1710e385ac57f9e\", element=\"E7395FBB00D597E6EBD9857E2CE9D2CD_element_72\")>, <selenium.webdriver.remote.webelement.WebElement (session=\"1204353cb278075ea1710e385ac57f9e\", element=\"E7395FBB00D597E6EBD9857E2CE9D2CD_element_73\")>, <selenium.webdriver.remote.webelement.WebElement (session=\"1204353cb278075ea1710e385ac57f9e\", element=\"E7395FBB00D597E6EBD9857E2CE9D2CD_element_74\")>, <selenium.webdriver.remote.webelement.WebElement (session=\"1204353cb278075ea1710e385ac57f9e\", element=\"E7395FBB00D597E6EBD9857E2CE9D2CD_element_75\")>, <selenium.webdriver.remote.webelement.WebElement (session=\"1204353cb278075ea1710e385ac57f9e\", element=\"E7395FBB00D597E6EBD9857E2CE9D2CD_element_76\")>, <selenium.webdriver.remote.webelement.WebElement (session=\"1204353cb278075ea1710e385ac57f9e\", element=\"E7395FBB00D597E6EBD9857E2CE9D2CD_element_77\")>, <selenium.webdriver.remote.webelement.WebElement (session=\"1204353cb278075ea1710e385ac57f9e\", element=\"E7395FBB00D597E6EBD9857E2CE9D2CD_element_78\")>, <selenium.webdriver.remote.webelement.WebElement (session=\"1204353cb278075ea1710e385ac57f9e\", element=\"E7395FBB00D597E6EBD9857E2CE9D2CD_element_79\")>, <selenium.webdriver.remote.webelement.WebElement (session=\"1204353cb278075ea1710e385ac57f9e\", element=\"E7395FBB00D597E6EBD9857E2CE9D2CD_element_80\")>, <selenium.webdriver.remote.webelement.WebElement (session=\"1204353cb278075ea1710e385ac57f9e\", element=\"E7395FBB00D597E6EBD9857E2CE9D2CD_element_81\")>, <selenium.webdriver.remote.webelement.WebElement (session=\"1204353cb278075ea1710e385ac57f9e\", element=\"E7395FBB00D597E6EBD9857E2CE9D2CD_element_82\")>, <selenium.webdriver.remote.webelement.WebElement (session=\"1204353cb278075ea1710e385ac57f9e\", element=\"E7395FBB00D597E6EBD9857E2CE9D2CD_element_83\")>, <selenium.webdriver.remote.webelement.WebElement (session=\"1204353cb278075ea1710e385ac57f9e\", element=\"E7395FBB00D597E6EBD9857E2CE9D2CD_element_84\")>, <selenium.webdriver.remote.webelement.WebElement (session=\"1204353cb278075ea1710e385ac57f9e\", element=\"E7395FBB00D597E6EBD9857E2CE9D2CD_element_85\")>, <selenium.webdriver.remote.webelement.WebElement (session=\"1204353cb278075ea1710e385ac57f9e\", element=\"E7395FBB00D597E6EBD9857E2CE9D2CD_element_86\")>, <selenium.webdriver.remote.webelement.WebElement (session=\"1204353cb278075ea1710e385ac57f9e\", element=\"E7395FBB00D597E6EBD9857E2CE9D2CD_element_87\")>, <selenium.webdriver.remote.webelement.WebElement (session=\"1204353cb278075ea1710e385ac57f9e\", element=\"E7395FBB00D597E6EBD9857E2CE9D2CD_element_88\")>, <selenium.webdriver.remote.webelement.WebElement (session=\"1204353cb278075ea1710e385ac57f9e\", element=\"E7395FBB00D597E6EBD9857E2CE9D2CD_element_89\")>, <selenium.webdriver.remote.webelement.WebElement (session=\"1204353cb278075ea1710e385ac57f9e\", element=\"E7395FBB00D597E6EBD9857E2CE9D2CD_element_90\")>, <selenium.webdriver.remote.webelement.WebElement (session=\"1204353cb278075ea1710e385ac57f9e\", element=\"E7395FBB00D597E6EBD9857E2CE9D2CD_element_91\")>, <selenium.webdriver.remote.webelement.WebElement (session=\"1204353cb278075ea1710e385ac57f9e\", element=\"E7395FBB00D597E6EBD9857E2CE9D2CD_element_92\")>, <selenium.webdriver.remote.webelement.WebElement (session=\"1204353cb278075ea1710e385ac57f9e\", element=\"E7395FBB00D597E6EBD9857E2CE9D2CD_element_93\")>, <selenium.webdriver.remote.webelement.WebElement (session=\"1204353cb278075ea1710e385ac57f9e\", element=\"E7395FBB00D597E6EBD9857E2CE9D2CD_element_94\")>, <selenium.webdriver.remote.webelement.WebElement (session=\"1204353cb278075ea1710e385ac57f9e\", element=\"E7395FBB00D597E6EBD9857E2CE9D2CD_element_95\")>]\n",
      "DGW – Sẵn sàng cho chu kỳ tiêu dùng mới – Báo cáo lần đầu\n",
      "TPB – Đi qua những ngày mưa – Cập nhật\n",
      "TPB – Đi qua những ngày mưa – Cập nhật\n",
      "BSR – Nhiều câu chuyện hấp dẫn ở phía trước – Cập nhật\n",
      "HDG – Chờ đợi chính sách mới cho điện gió – Cập nhật\n",
      "MBB – Cơ hội nhiều hơn rủi ro – Cập nhật\n",
      "VIB – Chất lượng tài sản suy yếu – Cập nhật\n",
      "HDB – Vững vàng trước thử thách – Cập nhật\n",
      "PC1 – Động lực tăng trưởng tới từ các lĩnh vực mới – Cập nhật\n",
      "VCB – Dự phòng vững chắc là động lực tăng trưởng – Cập nhật\n",
      "LPB – Chi phí dự phòng thấp hỗ trợ lợi nhuận Q1/23 – Cập nhật\n",
      "ACB – Ổn định giữa “cơn gió ngược” – Cập nhật\n",
      "SZC – Triển vọng tươi sáng cho nửa cuối 2023 – Cập nhật\n",
      "PVS – Động lực dài hạn đến từ xu hướng phát triển điện gió ngoài khơi – Cập nhật\n",
      "TCB – Vượt qua thử thách – Cập nhật\n",
      "CTG – Chất lượng tài sản cần được chú ý – Cập nhật\n",
      "MIG – Kết quả kinh doanh Q1/23 nhìn chung sát với dự phóng – Cập nhật\n",
      "VNM – Biên lợi nhuận gộp cải thiện từ Q3/23 – Cập nhật\n",
      "STK – Chờ đợi những tín hiệu hồi phục rõ ràng hơn – Cập nhật\n",
      "GAS – Chuẩn bị cho quá trình chuyển dịch sang điện khí LNG – Cập nhật\n",
      "\n",
      "\n",
      "\n",
      "\n",
      "\n",
      "\n",
      "\n",
      "\n",
      "\n",
      "\n",
      "\n",
      "\n",
      "\n",
      "\n",
      "\n",
      "\n",
      "\n",
      "\n",
      "\n",
      "\n"
     ]
    }
   ],
   "source": [
    "from selenium.webdriver.common.by import By\n",
    "# driver find element by id\n",
    "elemNewList = driver.find_element(By.ID, 'news-list')\n",
    "source = elemNewList.get_attribute('innerHTML')\n",
    "headings = elemNewList.find_elements(By.CLASS_NAME, \"new-item__heading\")\n",
    "print(headings)\n",
    "for heading in headings:\n",
    "    print(heading.text)"
   ]
  },
  {
   "cell_type": "code",
   "execution_count": 21,
   "metadata": {},
   "outputs": [
    {
     "ename": "TimeoutException",
     "evalue": "Message: \nStacktrace:\n0   chromedriver                        0x000000010308bf48 chromedriver + 4226888\n1   chromedriver                        0x00000001030844f4 chromedriver + 4195572\n2   chromedriver                        0x0000000102cc8d68 chromedriver + 281960\n3   chromedriver                        0x0000000102d03fc8 chromedriver + 524232\n4   chromedriver                        0x0000000102d3ac58 chromedriver + 748632\n5   chromedriver                        0x0000000102cf7f1c chromedriver + 474908\n6   chromedriver                        0x0000000102cf8ef4 chromedriver + 478964\n7   chromedriver                        0x000000010304d59c chromedriver + 3970460\n8   chromedriver                        0x00000001030516f0 chromedriver + 3987184\n9   chromedriver                        0x00000001030575b4 chromedriver + 4011444\n10  chromedriver                        0x00000001030522fc chromedriver + 3990268\n11  chromedriver                        0x000000010302a1c0 chromedriver + 3826112\n12  chromedriver                        0x000000010306e088 chromedriver + 4104328\n13  chromedriver                        0x000000010306e1e0 chromedriver + 4104672\n14  chromedriver                        0x000000010307df28 chromedriver + 4169512\n15  libsystem_pthread.dylib             0x00000001a483426c _pthread_start + 148\n16  libsystem_pthread.dylib             0x00000001a482f08c thread_start + 8\n",
     "output_type": "error",
     "traceback": [
      "\u001b[0;31m---------------------------------------------------------------------------\u001b[0m",
      "\u001b[0;31mTimeoutException\u001b[0m                          Traceback (most recent call last)",
      "Cell \u001b[0;32mIn[21], line 32\u001b[0m\n\u001b[1;32m     29\u001b[0m wait \u001b[39m=\u001b[39m WebDriverWait(driver, \u001b[39m10\u001b[39m)  \u001b[39m# Maximum wait time of 10 seconds\u001b[39;00m\n\u001b[1;32m     31\u001b[0m \u001b[39m# Wait until the URL changes\u001b[39;00m\n\u001b[0;32m---> 32\u001b[0m wait\u001b[39m.\u001b[39;49muntil(url_changed())\n\u001b[1;32m     34\u001b[0m elemNewDetail \u001b[39m=\u001b[39m driver\u001b[39m.\u001b[39mfind_element(By\u001b[39m.\u001b[39mCLASS_NAME, \u001b[39m\"\u001b[39m\u001b[39mnew-detail\u001b[39m\u001b[39m\"\u001b[39m)\n\u001b[1;32m     35\u001b[0m source \u001b[39m=\u001b[39m elemNewDetail\u001b[39m.\u001b[39mget_attribute(\u001b[39m'\u001b[39m\u001b[39minnerHTML\u001b[39m\u001b[39m'\u001b[39m)\n",
      "File \u001b[0;32m~/.pyenv/versions/3.10.3/lib/python3.10/site-packages/selenium/webdriver/support/wait.py:95\u001b[0m, in \u001b[0;36mWebDriverWait.until\u001b[0;34m(self, method, message)\u001b[0m\n\u001b[1;32m     93\u001b[0m     \u001b[39mif\u001b[39;00m time\u001b[39m.\u001b[39mmonotonic() \u001b[39m>\u001b[39m end_time:\n\u001b[1;32m     94\u001b[0m         \u001b[39mbreak\u001b[39;00m\n\u001b[0;32m---> 95\u001b[0m \u001b[39mraise\u001b[39;00m TimeoutException(message, screen, stacktrace)\n",
      "\u001b[0;31mTimeoutException\u001b[0m: Message: \nStacktrace:\n0   chromedriver                        0x000000010308bf48 chromedriver + 4226888\n1   chromedriver                        0x00000001030844f4 chromedriver + 4195572\n2   chromedriver                        0x0000000102cc8d68 chromedriver + 281960\n3   chromedriver                        0x0000000102d03fc8 chromedriver + 524232\n4   chromedriver                        0x0000000102d3ac58 chromedriver + 748632\n5   chromedriver                        0x0000000102cf7f1c chromedriver + 474908\n6   chromedriver                        0x0000000102cf8ef4 chromedriver + 478964\n7   chromedriver                        0x000000010304d59c chromedriver + 3970460\n8   chromedriver                        0x00000001030516f0 chromedriver + 3987184\n9   chromedriver                        0x00000001030575b4 chromedriver + 4011444\n10  chromedriver                        0x00000001030522fc chromedriver + 3990268\n11  chromedriver                        0x000000010302a1c0 chromedriver + 3826112\n12  chromedriver                        0x000000010306e088 chromedriver + 4104328\n13  chromedriver                        0x000000010306e1e0 chromedriver + 4104672\n14  chromedriver                        0x000000010307df28 chromedriver + 4169512\n15  libsystem_pthread.dylib             0x00000001a483426c _pthread_start + 148\n16  libsystem_pthread.dylib             0x00000001a482f08c thread_start + 8\n"
     ]
    }
   ],
   "source": [
    "import time\n",
    "from selenium.webdriver.support.ui import WebDriverWait\n",
    "from selenium.webdriver.support import expected_conditions as EC\n",
    "from bs4 import BeautifulSoup\n",
    "\n",
    "listElemNews = driver.find_elements(By.CLASS_NAME, \"new-item\")\n",
    "currentHeadingClick = ''\n",
    "\n",
    "# Define a custom expected condition for URL change\n",
    "def url_changed():\n",
    "    def inner(driver):\n",
    "        global currentHeadingClick\n",
    "        elemDate = driver.find_element(By.CSS_SELECTOR, \".new-detail .new-item__date\")\n",
    "        textHeading = elemDate.get_attribute('innerHTML')\n",
    "        print('datetime changed', currentHeadingClick, textHeading)\n",
    "        if (textHeading != currentHeadingClick):\n",
    "            currentHeadingClick = textHeading\n",
    "            return True\n",
    "        else:\n",
    "            return False\n",
    "\n",
    "    return inner\n",
    "\n",
    "\n",
    "for elemNew in listElemNews:\n",
    "\n",
    "    elemNew.click()\n",
    "        # Wait for the URL to change\n",
    "    wait = WebDriverWait(driver, 10)  # Maximum wait time of 10 seconds\n",
    "\n",
    "    # Wait until the URL changes\n",
    "    wait.until(url_changed())\n",
    "\n",
    "    elemNewDetail = driver.find_element(By.CLASS_NAME, \"new-detail\")\n",
    "    source = elemNewDetail.get_attribute('innerHTML')\n",
    "    # Assuming you have the HTML source stored in a variable called \"source\"\n",
    "    soup = BeautifulSoup(source, 'html.parser')\n",
    "    pretty_html = soup.get_text()\n",
    "    print(pretty_html[0:200])"
   ]
  }
 ],
 "metadata": {
  "kernelspec": {
   "display_name": "Python 3",
   "language": "python",
   "name": "python3"
  },
  "language_info": {
   "codemirror_mode": {
    "name": "ipython",
    "version": 3
   },
   "file_extension": ".py",
   "mimetype": "text/x-python",
   "name": "python",
   "nbconvert_exporter": "python",
   "pygments_lexer": "ipython3",
   "version": "3.10.3"
  },
  "orig_nbformat": 4
 },
 "nbformat": 4,
 "nbformat_minor": 2
}
